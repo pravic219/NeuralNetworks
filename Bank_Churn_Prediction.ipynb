{
 "cells": [
  {
   "cell_type": "markdown",
   "metadata": {
    "id": "IIfOydFLJIaI"
   },
   "source": [
    "# **Bank Churn Prediction - Ravi Potlachervu**\n",
    "\n",
    "--------------------\n",
    "## **Context**\n",
    "--------------------\n",
    "\n",
    "Businesses like banks that provide service have to worry about the problem of 'Churn' i.e. customers leaving and joining another service provider. It is important to understand which aspects of the service influence a customer's decision in this regard. Management can concentrate efforts on the improvement of service, keeping in mind these priorities.\n",
    "\n",
    "----------------------\n",
    "## **Objective**\n",
    "----------------------\n",
    "\n",
    "Given a Bank customer, build a neural network-based classifier that can determine whether they will leave or not in the next 6 months.\n",
    "\n",
    "------------------------------\n",
    "## **Data Dictionary**\n",
    "------------------------------\n",
    "\n",
    "- **CustomerId:** Unique ID which is assigned to each customer\n",
    "- **Surname:** Last name of the customer \n",
    "- **CreditScore:** It defines the credit history of the customer.  \n",
    "- **Geography:** A customer’s location    \n",
    "- **Gender:** It defines the Gender of the customer   \n",
    "- **Age:** Age of the customer     \n",
    "- **Tenure:** Number of years for which the customer has been with the bank\n",
    "- **NumOfProducts:** It refers to the number of products that a customer has - purchased through the bank.\n",
    "- **Balance:** Account balance\n",
    "- **HasCrCard**: It is a categorical variable that decides whether the customer has a credit card or not.\n",
    "- **EstimatedSalary:** Estimated salary \n",
    "- **isActiveMember:** It is a categorical variable that decides whether the customer is an active member of the bank or not ( Active member in the sense, using bank products regularly, making transactions, etc )\n",
    "- **Exited:** It is a categorical variable that decides whether the customer left the bank within six months or not. It can take two values \n",
    "                    0=No ( Customer did not leave the bank )\n",
    "\n",
    "                    1=Yes ( Customer left the bank )\n"
   ]
  },
  {
   "cell_type": "markdown",
   "metadata": {
    "id": "RUNw9Lh-mZHQ"
   },
   "source": [
    "## **Loading the libraries and the dataset**"
   ]
  },
  {
   "cell_type": "code",
   "execution_count": 6,
   "metadata": {
    "colab": {
     "base_uri": "https://localhost:8080/"
    },
    "id": "f31KofXFXZ5u",
    "outputId": "4d9dd2af-09ee-45be-97ba-6b9f25a93236"
   },
   "outputs": [
    {
     "name": "stdout",
     "output_type": "stream",
     "text": [
      "2.9.2\n"
     ]
    }
   ],
   "source": [
    "#importing tensorflow\n",
    "import tensorflow as tf\n",
    "print(tf.__version__)"
   ]
  },
  {
   "cell_type": "code",
   "execution_count": 5,
   "metadata": {
    "id": "CK_nbUDBmX2E"
   },
   "outputs": [],
   "source": [
    "# Libraries to help with reading and manipulating data\n",
    "import numpy as np\n",
    "import pandas as pd\n",
    "# libaries to help with data visualization\n",
    "import matplotlib.pyplot as pyplot\n",
    "import matplotlib.pyplot as plt\n",
    "import seaborn as sns\n",
    "# Library to split data\n",
    "from sklearn.model_selection import train_test_split\n",
    "# library to import to standardize the data\n",
    "from sklearn.preprocessing import StandardScaler\n",
    "#To import different metrics \n",
    "from sklearn.metrics import explained_variance_score, mean_squared_error, r2_score, mean_absolute_error\n",
    "#Importing classback API\n",
    "from keras import callbacks\n",
    "# Importing tensorflow library\n",
    "import tensorflow as tf\n",
    "# importing different functions to build models\n",
    "from tensorflow.keras.layers import Dense, Dropout,InputLayer\n",
    "from tensorflow.keras.models import Sequential\n",
    "# Importing Batch Normalization\n",
    "from keras.layers import BatchNormalization\n",
    "# Importing backend\n",
    "from tensorflow.keras import backend\n",
    "# Importing shffule \n",
    "from random import shuffle\n",
    "from keras.callbacks import ModelCheckpoint\n",
    "# Importing optimizers\n",
    "from tensorflow.keras.optimizers import Adam\n",
    "from tensorflow.keras.optimizers import RMSprop\n",
    "# Library to avoid the warnings\n",
    "import warnings\n",
    "warnings.filterwarnings(\"ignore\")"
   ]
  },
  {
   "cell_type": "markdown",
   "metadata": {
    "id": "aZceBrXGlz9H"
   },
   "source": [
    "### Read the dataset"
   ]
  },
  {
   "cell_type": "code",
   "execution_count": 2,
   "metadata": {
    "colab": {
     "base_uri": "https://localhost:8080/"
    },
    "id": "dcMw7K8txl7-",
    "outputId": "249e8af8-cbeb-41b9-8172-ce0996136605"
   },
   "outputs": [
    {
     "name": "stdout",
     "output_type": "stream",
     "text": [
      "Mounted at /content/drive/\n"
     ]
    }
   ],
   "source": [
    "#mounting the drive\n",
    "from google.colab import drive\n",
    "drive.mount('/content/drive/')"
   ]
  },
  {
   "cell_type": "code",
   "execution_count": 3,
   "metadata": {
    "id": "cF6d_Z6B2CpB"
   },
   "outputs": [],
   "source": [
    "#reading dataset\n",
    "data = pd.read_csv('/content/drive/My Drive/DL/Churn.csv')"
   ]
  },
  {
   "cell_type": "code",
   "execution_count": 13,
   "metadata": {
    "colab": {
     "base_uri": "https://localhost:8080/",
     "height": 363
    },
    "id": "HLxtOrbw2ZLS",
    "outputId": "13c97bab-f7da-4fa8-a09e-788691842a19"
   },
   "outputs": [
    {
     "data": {
      "text/html": [
       "\n",
       "  <div id=\"df-3c5bbccb-99c9-4d44-8b71-4a19d2614085\">\n",
       "    <div class=\"colab-df-container\">\n",
       "      <div>\n",
       "<style scoped>\n",
       "    .dataframe tbody tr th:only-of-type {\n",
       "        vertical-align: middle;\n",
       "    }\n",
       "\n",
       "    .dataframe tbody tr th {\n",
       "        vertical-align: top;\n",
       "    }\n",
       "\n",
       "    .dataframe thead th {\n",
       "        text-align: right;\n",
       "    }\n",
       "</style>\n",
       "<table border=\"1\" class=\"dataframe\">\n",
       "  <thead>\n",
       "    <tr style=\"text-align: right;\">\n",
       "      <th></th>\n",
       "      <th>RowNumber</th>\n",
       "      <th>CustomerId</th>\n",
       "      <th>Surname</th>\n",
       "      <th>CreditScore</th>\n",
       "      <th>Geography</th>\n",
       "      <th>Gender</th>\n",
       "      <th>Age</th>\n",
       "      <th>Tenure</th>\n",
       "      <th>Balance</th>\n",
       "      <th>NumOfProducts</th>\n",
       "      <th>HasCrCard</th>\n",
       "      <th>IsActiveMember</th>\n",
       "      <th>EstimatedSalary</th>\n",
       "      <th>Exited</th>\n",
       "    </tr>\n",
       "  </thead>\n",
       "  <tbody>\n",
       "    <tr>\n",
       "      <th>9953</th>\n",
       "      <td>9954</td>\n",
       "      <td>15655952</td>\n",
       "      <td>Burke</td>\n",
       "      <td>550</td>\n",
       "      <td>France</td>\n",
       "      <td>Male</td>\n",
       "      <td>47</td>\n",
       "      <td>2</td>\n",
       "      <td>0.00</td>\n",
       "      <td>2</td>\n",
       "      <td>1</td>\n",
       "      <td>1</td>\n",
       "      <td>97057.28</td>\n",
       "      <td>0</td>\n",
       "    </tr>\n",
       "    <tr>\n",
       "      <th>3850</th>\n",
       "      <td>3851</td>\n",
       "      <td>15775293</td>\n",
       "      <td>Stephenson</td>\n",
       "      <td>680</td>\n",
       "      <td>France</td>\n",
       "      <td>Male</td>\n",
       "      <td>34</td>\n",
       "      <td>3</td>\n",
       "      <td>143292.95</td>\n",
       "      <td>1</td>\n",
       "      <td>1</td>\n",
       "      <td>0</td>\n",
       "      <td>66526.01</td>\n",
       "      <td>0</td>\n",
       "    </tr>\n",
       "    <tr>\n",
       "      <th>4962</th>\n",
       "      <td>4963</td>\n",
       "      <td>15665088</td>\n",
       "      <td>Gordon</td>\n",
       "      <td>531</td>\n",
       "      <td>France</td>\n",
       "      <td>Female</td>\n",
       "      <td>42</td>\n",
       "      <td>2</td>\n",
       "      <td>0.00</td>\n",
       "      <td>2</td>\n",
       "      <td>0</td>\n",
       "      <td>1</td>\n",
       "      <td>90537.47</td>\n",
       "      <td>0</td>\n",
       "    </tr>\n",
       "    <tr>\n",
       "      <th>3886</th>\n",
       "      <td>3887</td>\n",
       "      <td>15720941</td>\n",
       "      <td>Tien</td>\n",
       "      <td>710</td>\n",
       "      <td>Germany</td>\n",
       "      <td>Male</td>\n",
       "      <td>34</td>\n",
       "      <td>8</td>\n",
       "      <td>147833.30</td>\n",
       "      <td>2</td>\n",
       "      <td>0</td>\n",
       "      <td>1</td>\n",
       "      <td>1561.58</td>\n",
       "      <td>0</td>\n",
       "    </tr>\n",
       "    <tr>\n",
       "      <th>5437</th>\n",
       "      <td>5438</td>\n",
       "      <td>15733476</td>\n",
       "      <td>Gonzalez</td>\n",
       "      <td>543</td>\n",
       "      <td>Germany</td>\n",
       "      <td>Male</td>\n",
       "      <td>30</td>\n",
       "      <td>6</td>\n",
       "      <td>73481.05</td>\n",
       "      <td>1</td>\n",
       "      <td>1</td>\n",
       "      <td>1</td>\n",
       "      <td>176692.65</td>\n",
       "      <td>0</td>\n",
       "    </tr>\n",
       "    <tr>\n",
       "      <th>8517</th>\n",
       "      <td>8518</td>\n",
       "      <td>15671800</td>\n",
       "      <td>Robinson</td>\n",
       "      <td>688</td>\n",
       "      <td>France</td>\n",
       "      <td>Male</td>\n",
       "      <td>20</td>\n",
       "      <td>8</td>\n",
       "      <td>137624.40</td>\n",
       "      <td>2</td>\n",
       "      <td>1</td>\n",
       "      <td>1</td>\n",
       "      <td>197582.79</td>\n",
       "      <td>0</td>\n",
       "    </tr>\n",
       "    <tr>\n",
       "      <th>2041</th>\n",
       "      <td>2042</td>\n",
       "      <td>15709846</td>\n",
       "      <td>Yeh</td>\n",
       "      <td>840</td>\n",
       "      <td>France</td>\n",
       "      <td>Female</td>\n",
       "      <td>39</td>\n",
       "      <td>1</td>\n",
       "      <td>94968.97</td>\n",
       "      <td>1</td>\n",
       "      <td>1</td>\n",
       "      <td>0</td>\n",
       "      <td>84487.62</td>\n",
       "      <td>0</td>\n",
       "    </tr>\n",
       "    <tr>\n",
       "      <th>1989</th>\n",
       "      <td>1990</td>\n",
       "      <td>15622454</td>\n",
       "      <td>Zaitsev</td>\n",
       "      <td>695</td>\n",
       "      <td>Spain</td>\n",
       "      <td>Male</td>\n",
       "      <td>28</td>\n",
       "      <td>0</td>\n",
       "      <td>96020.86</td>\n",
       "      <td>1</td>\n",
       "      <td>1</td>\n",
       "      <td>1</td>\n",
       "      <td>57992.49</td>\n",
       "      <td>0</td>\n",
       "    </tr>\n",
       "    <tr>\n",
       "      <th>1933</th>\n",
       "      <td>1934</td>\n",
       "      <td>15815560</td>\n",
       "      <td>Bogle</td>\n",
       "      <td>666</td>\n",
       "      <td>Germany</td>\n",
       "      <td>Male</td>\n",
       "      <td>74</td>\n",
       "      <td>7</td>\n",
       "      <td>105102.50</td>\n",
       "      <td>1</td>\n",
       "      <td>1</td>\n",
       "      <td>1</td>\n",
       "      <td>46172.47</td>\n",
       "      <td>0</td>\n",
       "    </tr>\n",
       "    <tr>\n",
       "      <th>9984</th>\n",
       "      <td>9985</td>\n",
       "      <td>15696175</td>\n",
       "      <td>Echezonachukwu</td>\n",
       "      <td>602</td>\n",
       "      <td>Germany</td>\n",
       "      <td>Male</td>\n",
       "      <td>35</td>\n",
       "      <td>7</td>\n",
       "      <td>90602.42</td>\n",
       "      <td>2</td>\n",
       "      <td>1</td>\n",
       "      <td>1</td>\n",
       "      <td>51695.41</td>\n",
       "      <td>0</td>\n",
       "    </tr>\n",
       "  </tbody>\n",
       "</table>\n",
       "</div>\n",
       "      <button class=\"colab-df-convert\" onclick=\"convertToInteractive('df-3c5bbccb-99c9-4d44-8b71-4a19d2614085')\"\n",
       "              title=\"Convert this dataframe to an interactive table.\"\n",
       "              style=\"display:none;\">\n",
       "        \n",
       "  <svg xmlns=\"http://www.w3.org/2000/svg\" height=\"24px\"viewBox=\"0 0 24 24\"\n",
       "       width=\"24px\">\n",
       "    <path d=\"M0 0h24v24H0V0z\" fill=\"none\"/>\n",
       "    <path d=\"M18.56 5.44l.94 2.06.94-2.06 2.06-.94-2.06-.94-.94-2.06-.94 2.06-2.06.94zm-11 1L8.5 8.5l.94-2.06 2.06-.94-2.06-.94L8.5 2.5l-.94 2.06-2.06.94zm10 10l.94 2.06.94-2.06 2.06-.94-2.06-.94-.94-2.06-.94 2.06-2.06.94z\"/><path d=\"M17.41 7.96l-1.37-1.37c-.4-.4-.92-.59-1.43-.59-.52 0-1.04.2-1.43.59L10.3 9.45l-7.72 7.72c-.78.78-.78 2.05 0 2.83L4 21.41c.39.39.9.59 1.41.59.51 0 1.02-.2 1.41-.59l7.78-7.78 2.81-2.81c.8-.78.8-2.07 0-2.86zM5.41 20L4 18.59l7.72-7.72 1.47 1.35L5.41 20z\"/>\n",
       "  </svg>\n",
       "      </button>\n",
       "      \n",
       "  <style>\n",
       "    .colab-df-container {\n",
       "      display:flex;\n",
       "      flex-wrap:wrap;\n",
       "      gap: 12px;\n",
       "    }\n",
       "\n",
       "    .colab-df-convert {\n",
       "      background-color: #E8F0FE;\n",
       "      border: none;\n",
       "      border-radius: 50%;\n",
       "      cursor: pointer;\n",
       "      display: none;\n",
       "      fill: #1967D2;\n",
       "      height: 32px;\n",
       "      padding: 0 0 0 0;\n",
       "      width: 32px;\n",
       "    }\n",
       "\n",
       "    .colab-df-convert:hover {\n",
       "      background-color: #E2EBFA;\n",
       "      box-shadow: 0px 1px 2px rgba(60, 64, 67, 0.3), 0px 1px 3px 1px rgba(60, 64, 67, 0.15);\n",
       "      fill: #174EA6;\n",
       "    }\n",
       "\n",
       "    [theme=dark] .colab-df-convert {\n",
       "      background-color: #3B4455;\n",
       "      fill: #D2E3FC;\n",
       "    }\n",
       "\n",
       "    [theme=dark] .colab-df-convert:hover {\n",
       "      background-color: #434B5C;\n",
       "      box-shadow: 0px 1px 3px 1px rgba(0, 0, 0, 0.15);\n",
       "      filter: drop-shadow(0px 1px 2px rgba(0, 0, 0, 0.3));\n",
       "      fill: #FFFFFF;\n",
       "    }\n",
       "  </style>\n",
       "\n",
       "      <script>\n",
       "        const buttonEl =\n",
       "          document.querySelector('#df-3c5bbccb-99c9-4d44-8b71-4a19d2614085 button.colab-df-convert');\n",
       "        buttonEl.style.display =\n",
       "          google.colab.kernel.accessAllowed ? 'block' : 'none';\n",
       "\n",
       "        async function convertToInteractive(key) {\n",
       "          const element = document.querySelector('#df-3c5bbccb-99c9-4d44-8b71-4a19d2614085');\n",
       "          const dataTable =\n",
       "            await google.colab.kernel.invokeFunction('convertToInteractive',\n",
       "                                                     [key], {});\n",
       "          if (!dataTable) return;\n",
       "\n",
       "          const docLinkHtml = 'Like what you see? Visit the ' +\n",
       "            '<a target=\"_blank\" href=https://colab.research.google.com/notebooks/data_table.ipynb>data table notebook</a>'\n",
       "            + ' to learn more about interactive tables.';\n",
       "          element.innerHTML = '';\n",
       "          dataTable['output_type'] = 'display_data';\n",
       "          await google.colab.output.renderOutput(dataTable, element);\n",
       "          const docLink = document.createElement('div');\n",
       "          docLink.innerHTML = docLinkHtml;\n",
       "          element.appendChild(docLink);\n",
       "        }\n",
       "      </script>\n",
       "    </div>\n",
       "  </div>\n",
       "  "
      ],
      "text/plain": [
       "      RowNumber  CustomerId         Surname  CreditScore Geography  Gender  \\\n",
       "9953       9954    15655952           Burke          550    France    Male   \n",
       "3850       3851    15775293      Stephenson          680    France    Male   \n",
       "4962       4963    15665088          Gordon          531    France  Female   \n",
       "3886       3887    15720941            Tien          710   Germany    Male   \n",
       "5437       5438    15733476        Gonzalez          543   Germany    Male   \n",
       "8517       8518    15671800        Robinson          688    France    Male   \n",
       "2041       2042    15709846             Yeh          840    France  Female   \n",
       "1989       1990    15622454         Zaitsev          695     Spain    Male   \n",
       "1933       1934    15815560           Bogle          666   Germany    Male   \n",
       "9984       9985    15696175  Echezonachukwu          602   Germany    Male   \n",
       "\n",
       "      Age  Tenure    Balance  NumOfProducts  HasCrCard  IsActiveMember  \\\n",
       "9953   47       2       0.00              2          1               1   \n",
       "3850   34       3  143292.95              1          1               0   \n",
       "4962   42       2       0.00              2          0               1   \n",
       "3886   34       8  147833.30              2          0               1   \n",
       "5437   30       6   73481.05              1          1               1   \n",
       "8517   20       8  137624.40              2          1               1   \n",
       "2041   39       1   94968.97              1          1               0   \n",
       "1989   28       0   96020.86              1          1               1   \n",
       "1933   74       7  105102.50              1          1               1   \n",
       "9984   35       7   90602.42              2          1               1   \n",
       "\n",
       "      EstimatedSalary  Exited  \n",
       "9953         97057.28       0  \n",
       "3850         66526.01       0  \n",
       "4962         90537.47       0  \n",
       "3886          1561.58       0  \n",
       "5437        176692.65       0  \n",
       "8517        197582.79       0  \n",
       "2041         84487.62       0  \n",
       "1989         57992.49       0  \n",
       "1933         46172.47       0  \n",
       "9984         51695.41       0  "
      ]
     },
     "execution_count": 13,
     "metadata": {},
     "output_type": "execute_result"
    }
   ],
   "source": [
    "# viewing a random sample of the dataset\n",
    "data.sample(n=10, random_state=1)"
   ]
  },
  {
   "cell_type": "markdown",
   "metadata": {
    "id": "wRm8mpKlxeXx"
   },
   "source": [
    "### Understand the shape of the dataset."
   ]
  },
  {
   "cell_type": "code",
   "execution_count": 14,
   "metadata": {
    "colab": {
     "base_uri": "https://localhost:8080/"
    },
    "id": "8G0c161tn5ux",
    "outputId": "d6e877c7-970d-42cf-aa4e-7887996c9331"
   },
   "outputs": [
    {
     "data": {
      "text/plain": [
       "(10000, 14)"
      ]
     },
     "execution_count": 14,
     "metadata": {},
     "output_type": "execute_result"
    }
   ],
   "source": [
    "data.shape"
   ]
  },
  {
   "cell_type": "markdown",
   "metadata": {
    "id": "3bUBHYG-x09w"
   },
   "source": [
    "* The dataset has 10000 rows and 14 columns.\n",
    "* RowNumber, CustomerId, Surname columns add no value on data analysis, therefore we will drop these columns\n",
    "* We will scale the numerical datasets to remove bias.\n"
   ]
  },
  {
   "cell_type": "code",
   "execution_count": 15,
   "metadata": {
    "id": "0ZYBQ41ooZxh"
   },
   "outputs": [],
   "source": [
    "# copying the data to another variable to avoid any changes to original data\n",
    "df = data.copy()"
   ]
  },
  {
   "cell_type": "code",
   "execution_count": 16,
   "metadata": {
    "id": "6Ob0IQROpQMr"
   },
   "outputs": [],
   "source": [
    "# dropping the serial no and customer key columns as they does not provide any information\n",
    "df.drop([\"RowNumber\",\"CustomerId\",\"Surname\"], axis=1, inplace=True)"
   ]
  },
  {
   "cell_type": "markdown",
   "metadata": {
    "id": "H9bo0U4LpUd7"
   },
   "source": [
    "### Check the data types of the columns for the dataset."
   ]
  },
  {
   "cell_type": "code",
   "execution_count": null,
   "metadata": {
    "colab": {
     "base_uri": "https://localhost:8080/"
    },
    "id": "Fg7uMScupqzB",
    "outputId": "fec98cd2-1c5f-4f38-dfc8-a21dd7b3c76d"
   },
   "outputs": [
    {
     "name": "stdout",
     "output_type": "stream",
     "text": [
      "<class 'pandas.core.frame.DataFrame'>\n",
      "RangeIndex: 10000 entries, 0 to 9999\n",
      "Data columns (total 11 columns):\n",
      " #   Column           Non-Null Count  Dtype  \n",
      "---  ------           --------------  -----  \n",
      " 0   CreditScore      10000 non-null  int64  \n",
      " 1   Geography        10000 non-null  object \n",
      " 2   Gender           10000 non-null  object \n",
      " 3   Age              10000 non-null  int64  \n",
      " 4   Tenure           10000 non-null  int64  \n",
      " 5   Balance          10000 non-null  float64\n",
      " 6   NumOfProducts    10000 non-null  int64  \n",
      " 7   HasCrCard        10000 non-null  int64  \n",
      " 8   IsActiveMember   10000 non-null  int64  \n",
      " 9   EstimatedSalary  10000 non-null  float64\n",
      " 10  Exited           10000 non-null  int64  \n",
      "dtypes: float64(2), int64(7), object(2)\n",
      "memory usage: 859.5+ KB\n"
     ]
    }
   ],
   "source": [
    "df.info()"
   ]
  },
  {
   "cell_type": "markdown",
   "metadata": {
    "id": "gmei-31fYHHA"
   },
   "source": [
    "* There are no null values.\n",
    "* 2 columns are of object type rest all are numerical."
   ]
  },
  {
   "cell_type": "code",
   "execution_count": 18,
   "metadata": {
    "colab": {
     "base_uri": "https://localhost:8080/"
    },
    "id": "GzBjezEEYSA3",
    "outputId": "391ed17d-4ccc-4d0a-ef1d-caa8c2366326"
   },
   "outputs": [
    {
     "data": {
      "text/plain": [
       "0"
      ]
     },
     "execution_count": 18,
     "metadata": {},
     "output_type": "execute_result"
    }
   ],
   "source": [
    "# let's check for duplicate values in the data\n",
    "df.duplicated().sum()"
   ]
  },
  {
   "cell_type": "markdown",
   "metadata": {
    "id": "y_e1PT0IYYDe"
   },
   "source": [
    "* There are no duplicate values."
   ]
  },
  {
   "cell_type": "code",
   "execution_count": null,
   "metadata": {
    "colab": {
     "base_uri": "https://localhost:8080/"
    },
    "id": "tDHfgvBSrE7Q",
    "outputId": "f7bdf1b3-1fef-4344-f743-65175b1ac147"
   },
   "outputs": [
    {
     "data": {
      "text/plain": [
       "CreditScore        0\n",
       "Geography          0\n",
       "Gender             0\n",
       "Age                0\n",
       "Tenure             0\n",
       "Balance            0\n",
       "NumOfProducts      0\n",
       "HasCrCard          0\n",
       "IsActiveMember     0\n",
       "EstimatedSalary    0\n",
       "Exited             0\n",
       "dtype: int64"
      ]
     },
     "execution_count": 17,
     "metadata": {},
     "output_type": "execute_result"
    }
   ],
   "source": [
    "# checking for missing values\n",
    "df.isna().sum()"
   ]
  },
  {
   "cell_type": "code",
   "execution_count": 26,
   "metadata": {
    "id": "aXDR7xhNZG7G"
   },
   "outputs": [],
   "source": [
    "#Based on analysis define numerial and categorical variables.\n",
    "num_col = ['CreditScore', 'Age','Tenure','Balance','NumOfProducts','EstimatedSalary']\n",
    "cat_col=['HasCrCard', 'IsActiveMember','Geography', 'Gender','Exited']"
   ]
  },
  {
   "cell_type": "markdown",
   "metadata": {
    "id": "S1DaNevzqP8L"
   },
   "source": [
    "### Summary of the dataset."
   ]
  },
  {
   "cell_type": "code",
   "execution_count": 20,
   "metadata": {
    "colab": {
     "base_uri": "https://localhost:8080/",
     "height": 394
    },
    "id": "HfxEB2QPqYQw",
    "outputId": "fb0853fc-0abb-45e7-de19-e61413907476"
   },
   "outputs": [
    {
     "data": {
      "text/html": [
       "\n",
       "  <div id=\"df-7550cf8b-cdcc-422d-a3ca-6e3d63e2114f\">\n",
       "    <div class=\"colab-df-container\">\n",
       "      <div>\n",
       "<style scoped>\n",
       "    .dataframe tbody tr th:only-of-type {\n",
       "        vertical-align: middle;\n",
       "    }\n",
       "\n",
       "    .dataframe tbody tr th {\n",
       "        vertical-align: top;\n",
       "    }\n",
       "\n",
       "    .dataframe thead th {\n",
       "        text-align: right;\n",
       "    }\n",
       "</style>\n",
       "<table border=\"1\" class=\"dataframe\">\n",
       "  <thead>\n",
       "    <tr style=\"text-align: right;\">\n",
       "      <th></th>\n",
       "      <th>count</th>\n",
       "      <th>unique</th>\n",
       "      <th>top</th>\n",
       "      <th>freq</th>\n",
       "      <th>mean</th>\n",
       "      <th>std</th>\n",
       "      <th>min</th>\n",
       "      <th>25%</th>\n",
       "      <th>50%</th>\n",
       "      <th>75%</th>\n",
       "      <th>max</th>\n",
       "    </tr>\n",
       "  </thead>\n",
       "  <tbody>\n",
       "    <tr>\n",
       "      <th>CreditScore</th>\n",
       "      <td>10000.0</td>\n",
       "      <td>NaN</td>\n",
       "      <td>NaN</td>\n",
       "      <td>NaN</td>\n",
       "      <td>650.5288</td>\n",
       "      <td>96.653299</td>\n",
       "      <td>350.0</td>\n",
       "      <td>584.0</td>\n",
       "      <td>652.0</td>\n",
       "      <td>718.0</td>\n",
       "      <td>850.0</td>\n",
       "    </tr>\n",
       "    <tr>\n",
       "      <th>Geography</th>\n",
       "      <td>10000</td>\n",
       "      <td>3</td>\n",
       "      <td>France</td>\n",
       "      <td>5014</td>\n",
       "      <td>NaN</td>\n",
       "      <td>NaN</td>\n",
       "      <td>NaN</td>\n",
       "      <td>NaN</td>\n",
       "      <td>NaN</td>\n",
       "      <td>NaN</td>\n",
       "      <td>NaN</td>\n",
       "    </tr>\n",
       "    <tr>\n",
       "      <th>Gender</th>\n",
       "      <td>10000</td>\n",
       "      <td>2</td>\n",
       "      <td>Male</td>\n",
       "      <td>5457</td>\n",
       "      <td>NaN</td>\n",
       "      <td>NaN</td>\n",
       "      <td>NaN</td>\n",
       "      <td>NaN</td>\n",
       "      <td>NaN</td>\n",
       "      <td>NaN</td>\n",
       "      <td>NaN</td>\n",
       "    </tr>\n",
       "    <tr>\n",
       "      <th>Age</th>\n",
       "      <td>10000.0</td>\n",
       "      <td>NaN</td>\n",
       "      <td>NaN</td>\n",
       "      <td>NaN</td>\n",
       "      <td>38.9218</td>\n",
       "      <td>10.487806</td>\n",
       "      <td>18.0</td>\n",
       "      <td>32.0</td>\n",
       "      <td>37.0</td>\n",
       "      <td>44.0</td>\n",
       "      <td>92.0</td>\n",
       "    </tr>\n",
       "    <tr>\n",
       "      <th>Tenure</th>\n",
       "      <td>10000.0</td>\n",
       "      <td>NaN</td>\n",
       "      <td>NaN</td>\n",
       "      <td>NaN</td>\n",
       "      <td>5.0128</td>\n",
       "      <td>2.892174</td>\n",
       "      <td>0.0</td>\n",
       "      <td>3.0</td>\n",
       "      <td>5.0</td>\n",
       "      <td>7.0</td>\n",
       "      <td>10.0</td>\n",
       "    </tr>\n",
       "    <tr>\n",
       "      <th>Balance</th>\n",
       "      <td>10000.0</td>\n",
       "      <td>NaN</td>\n",
       "      <td>NaN</td>\n",
       "      <td>NaN</td>\n",
       "      <td>76485.889288</td>\n",
       "      <td>62397.405202</td>\n",
       "      <td>0.0</td>\n",
       "      <td>0.0</td>\n",
       "      <td>97198.54</td>\n",
       "      <td>127644.24</td>\n",
       "      <td>250898.09</td>\n",
       "    </tr>\n",
       "    <tr>\n",
       "      <th>NumOfProducts</th>\n",
       "      <td>10000.0</td>\n",
       "      <td>NaN</td>\n",
       "      <td>NaN</td>\n",
       "      <td>NaN</td>\n",
       "      <td>1.5302</td>\n",
       "      <td>0.581654</td>\n",
       "      <td>1.0</td>\n",
       "      <td>1.0</td>\n",
       "      <td>1.0</td>\n",
       "      <td>2.0</td>\n",
       "      <td>4.0</td>\n",
       "    </tr>\n",
       "    <tr>\n",
       "      <th>HasCrCard</th>\n",
       "      <td>10000.0</td>\n",
       "      <td>NaN</td>\n",
       "      <td>NaN</td>\n",
       "      <td>NaN</td>\n",
       "      <td>0.7055</td>\n",
       "      <td>0.45584</td>\n",
       "      <td>0.0</td>\n",
       "      <td>0.0</td>\n",
       "      <td>1.0</td>\n",
       "      <td>1.0</td>\n",
       "      <td>1.0</td>\n",
       "    </tr>\n",
       "    <tr>\n",
       "      <th>IsActiveMember</th>\n",
       "      <td>10000.0</td>\n",
       "      <td>NaN</td>\n",
       "      <td>NaN</td>\n",
       "      <td>NaN</td>\n",
       "      <td>0.5151</td>\n",
       "      <td>0.499797</td>\n",
       "      <td>0.0</td>\n",
       "      <td>0.0</td>\n",
       "      <td>1.0</td>\n",
       "      <td>1.0</td>\n",
       "      <td>1.0</td>\n",
       "    </tr>\n",
       "    <tr>\n",
       "      <th>EstimatedSalary</th>\n",
       "      <td>10000.0</td>\n",
       "      <td>NaN</td>\n",
       "      <td>NaN</td>\n",
       "      <td>NaN</td>\n",
       "      <td>100090.239881</td>\n",
       "      <td>57510.492818</td>\n",
       "      <td>11.58</td>\n",
       "      <td>51002.11</td>\n",
       "      <td>100193.915</td>\n",
       "      <td>149388.2475</td>\n",
       "      <td>199992.48</td>\n",
       "    </tr>\n",
       "    <tr>\n",
       "      <th>Exited</th>\n",
       "      <td>10000.0</td>\n",
       "      <td>NaN</td>\n",
       "      <td>NaN</td>\n",
       "      <td>NaN</td>\n",
       "      <td>0.2037</td>\n",
       "      <td>0.402769</td>\n",
       "      <td>0.0</td>\n",
       "      <td>0.0</td>\n",
       "      <td>0.0</td>\n",
       "      <td>0.0</td>\n",
       "      <td>1.0</td>\n",
       "    </tr>\n",
       "  </tbody>\n",
       "</table>\n",
       "</div>\n",
       "      <button class=\"colab-df-convert\" onclick=\"convertToInteractive('df-7550cf8b-cdcc-422d-a3ca-6e3d63e2114f')\"\n",
       "              title=\"Convert this dataframe to an interactive table.\"\n",
       "              style=\"display:none;\">\n",
       "        \n",
       "  <svg xmlns=\"http://www.w3.org/2000/svg\" height=\"24px\"viewBox=\"0 0 24 24\"\n",
       "       width=\"24px\">\n",
       "    <path d=\"M0 0h24v24H0V0z\" fill=\"none\"/>\n",
       "    <path d=\"M18.56 5.44l.94 2.06.94-2.06 2.06-.94-2.06-.94-.94-2.06-.94 2.06-2.06.94zm-11 1L8.5 8.5l.94-2.06 2.06-.94-2.06-.94L8.5 2.5l-.94 2.06-2.06.94zm10 10l.94 2.06.94-2.06 2.06-.94-2.06-.94-.94-2.06-.94 2.06-2.06.94z\"/><path d=\"M17.41 7.96l-1.37-1.37c-.4-.4-.92-.59-1.43-.59-.52 0-1.04.2-1.43.59L10.3 9.45l-7.72 7.72c-.78.78-.78 2.05 0 2.83L4 21.41c.39.39.9.59 1.41.59.51 0 1.02-.2 1.41-.59l7.78-7.78 2.81-2.81c.8-.78.8-2.07 0-2.86zM5.41 20L4 18.59l7.72-7.72 1.47 1.35L5.41 20z\"/>\n",
       "  </svg>\n",
       "      </button>\n",
       "      \n",
       "  <style>\n",
       "    .colab-df-container {\n",
       "      display:flex;\n",
       "      flex-wrap:wrap;\n",
       "      gap: 12px;\n",
       "    }\n",
       "\n",
       "    .colab-df-convert {\n",
       "      background-color: #E8F0FE;\n",
       "      border: none;\n",
       "      border-radius: 50%;\n",
       "      cursor: pointer;\n",
       "      display: none;\n",
       "      fill: #1967D2;\n",
       "      height: 32px;\n",
       "      padding: 0 0 0 0;\n",
       "      width: 32px;\n",
       "    }\n",
       "\n",
       "    .colab-df-convert:hover {\n",
       "      background-color: #E2EBFA;\n",
       "      box-shadow: 0px 1px 2px rgba(60, 64, 67, 0.3), 0px 1px 3px 1px rgba(60, 64, 67, 0.15);\n",
       "      fill: #174EA6;\n",
       "    }\n",
       "\n",
       "    [theme=dark] .colab-df-convert {\n",
       "      background-color: #3B4455;\n",
       "      fill: #D2E3FC;\n",
       "    }\n",
       "\n",
       "    [theme=dark] .colab-df-convert:hover {\n",
       "      background-color: #434B5C;\n",
       "      box-shadow: 0px 1px 3px 1px rgba(0, 0, 0, 0.15);\n",
       "      filter: drop-shadow(0px 1px 2px rgba(0, 0, 0, 0.3));\n",
       "      fill: #FFFFFF;\n",
       "    }\n",
       "  </style>\n",
       "\n",
       "      <script>\n",
       "        const buttonEl =\n",
       "          document.querySelector('#df-7550cf8b-cdcc-422d-a3ca-6e3d63e2114f button.colab-df-convert');\n",
       "        buttonEl.style.display =\n",
       "          google.colab.kernel.accessAllowed ? 'block' : 'none';\n",
       "\n",
       "        async function convertToInteractive(key) {\n",
       "          const element = document.querySelector('#df-7550cf8b-cdcc-422d-a3ca-6e3d63e2114f');\n",
       "          const dataTable =\n",
       "            await google.colab.kernel.invokeFunction('convertToInteractive',\n",
       "                                                     [key], {});\n",
       "          if (!dataTable) return;\n",
       "\n",
       "          const docLinkHtml = 'Like what you see? Visit the ' +\n",
       "            '<a target=\"_blank\" href=https://colab.research.google.com/notebooks/data_table.ipynb>data table notebook</a>'\n",
       "            + ' to learn more about interactive tables.';\n",
       "          element.innerHTML = '';\n",
       "          dataTable['output_type'] = 'display_data';\n",
       "          await google.colab.output.renderOutput(dataTable, element);\n",
       "          const docLink = document.createElement('div');\n",
       "          docLink.innerHTML = docLinkHtml;\n",
       "          element.appendChild(docLink);\n",
       "        }\n",
       "      </script>\n",
       "    </div>\n",
       "  </div>\n",
       "  "
      ],
      "text/plain": [
       "                   count unique     top  freq           mean           std  \\\n",
       "CreditScore      10000.0    NaN     NaN   NaN       650.5288     96.653299   \n",
       "Geography          10000      3  France  5014            NaN           NaN   \n",
       "Gender             10000      2    Male  5457            NaN           NaN   \n",
       "Age              10000.0    NaN     NaN   NaN        38.9218     10.487806   \n",
       "Tenure           10000.0    NaN     NaN   NaN         5.0128      2.892174   \n",
       "Balance          10000.0    NaN     NaN   NaN   76485.889288  62397.405202   \n",
       "NumOfProducts    10000.0    NaN     NaN   NaN         1.5302      0.581654   \n",
       "HasCrCard        10000.0    NaN     NaN   NaN         0.7055       0.45584   \n",
       "IsActiveMember   10000.0    NaN     NaN   NaN         0.5151      0.499797   \n",
       "EstimatedSalary  10000.0    NaN     NaN   NaN  100090.239881  57510.492818   \n",
       "Exited           10000.0    NaN     NaN   NaN         0.2037      0.402769   \n",
       "\n",
       "                   min       25%         50%          75%        max  \n",
       "CreditScore      350.0     584.0       652.0        718.0      850.0  \n",
       "Geography          NaN       NaN         NaN          NaN        NaN  \n",
       "Gender             NaN       NaN         NaN          NaN        NaN  \n",
       "Age               18.0      32.0        37.0         44.0       92.0  \n",
       "Tenure             0.0       3.0         5.0          7.0       10.0  \n",
       "Balance            0.0       0.0    97198.54    127644.24  250898.09  \n",
       "NumOfProducts      1.0       1.0         1.0          2.0        4.0  \n",
       "HasCrCard          0.0       0.0         1.0          1.0        1.0  \n",
       "IsActiveMember     0.0       0.0         1.0          1.0        1.0  \n",
       "EstimatedSalary  11.58  51002.11  100193.915  149388.2475  199992.48  \n",
       "Exited             0.0       0.0         0.0          0.0        1.0  "
      ]
     },
     "execution_count": 20,
     "metadata": {},
     "output_type": "execute_result"
    }
   ],
   "source": [
    "df.describe(include='all').T"
   ]
  },
  {
   "cell_type": "markdown",
   "metadata": {
    "id": "_vft49S9bXr1"
   },
   "source": [
    "#### Observations:\n",
    "* CreditScore: Mean credit score of customers is around 650 with min 350 and max 850.\n",
    "* Geography: Majority of customers are from  France.\n",
    "* Gender: Majority of customers are Male.\n",
    "* Tenure:  Average numbers of years customers stayed with bank is around 5yrs min 3yrs and max 10yrs.\n",
    "* Age: Average age of customers is 38 years, age of customers has a wide range from 18 to 92 years.\n",
    "* Balance: On average the customer balances about 76K with max of 250K\n",
    "* EstimatedSalary:  Average salary of customers is around 100K with min 51K and max around 200K"
   ]
  },
  {
   "cell_type": "code",
   "execution_count": 25,
   "metadata": {
    "colab": {
     "base_uri": "https://localhost:8080/"
    },
    "id": "fOIDVT28Y0XX",
    "outputId": "1b152324-5794-4838-9e39-411396df86f4"
   },
   "outputs": [
    {
     "name": "stdout",
     "output_type": "stream",
     "text": [
      "Unique values in HasCrCard are :\n",
      "1    7055\n",
      "0    2945\n",
      "Name: HasCrCard, dtype: int64\n",
      "**************************************************\n",
      "Unique values in IsActiveMember are :\n",
      "1    5151\n",
      "0    4849\n",
      "Name: IsActiveMember, dtype: int64\n",
      "**************************************************\n",
      "Unique values in Geography are :\n",
      "France     5014\n",
      "Germany    2509\n",
      "Spain      2477\n",
      "Name: Geography, dtype: int64\n",
      "**************************************************\n",
      "Unique values in Gender are :\n",
      "Male      5457\n",
      "Female    4543\n",
      "Name: Gender, dtype: int64\n",
      "**************************************************\n",
      "Unique values in Exited are :\n",
      "0    7963\n",
      "1    2037\n",
      "Name: Exited, dtype: int64\n",
      "**************************************************\n"
     ]
    }
   ],
   "source": [
    "for i in cat_col:\n",
    "    print(\"Unique values in\", i, \"are :\")\n",
    "    print(df[i].value_counts())\n",
    "    print(\"*\" * 50)"
   ]
  },
  {
   "cell_type": "markdown",
   "metadata": {
    "id": "CoNVBE9fdHQO"
   },
   "source": [
    "**Observations**\n",
    "* Most of the records are for existing customers.\n",
    "* Most of the bank's customers are male\n",
    "* Most customers are from France."
   ]
  },
  {
   "cell_type": "code",
   "execution_count": null,
   "metadata": {
    "id": "S6akJFSCvve9"
   },
   "outputs": [],
   "source": [
    "cat_col=['HasCrCard', 'IsActiveMember','Geography', 'Gender','Exited']"
   ]
  },
  {
   "cell_type": "markdown",
   "metadata": {
    "id": "x5hMhtRugy5K"
   },
   "source": [
    "## **Exploratory Data Analysis**"
   ]
  },
  {
   "cell_type": "markdown",
   "metadata": {
    "id": "kd8maHDRg423"
   },
   "source": [
    "#### The below functions need to be defined to carry out the Exploratory Data Analysis."
   ]
  },
  {
   "cell_type": "code",
   "execution_count": 29,
   "metadata": {
    "id": "54qGirG6FeEU"
   },
   "outputs": [],
   "source": [
    "# function to plot a boxplot and a histogram along the same scale.\n",
    "\n",
    "\n",
    "def histogram_boxplot(data, feature, figsize=(12, 7), kde=False, bins=None):\n",
    "    \"\"\"\n",
    "    Boxplot and histogram combined\n",
    "\n",
    "    data: dataframe\n",
    "    feature: dataframe column\n",
    "    figsize: size of figure (default (12,7))\n",
    "    kde: whether to the show density curve (default False)\n",
    "    bins: number of bins for histogram (default None)\n",
    "    \"\"\"\n",
    "    f2, (ax_box2, ax_hist2) = plt.subplots(\n",
    "        nrows=2,  # Number of rows of the subplot grid= 2\n",
    "        sharex=True,  # x-axis will be shared among all subplots\n",
    "        gridspec_kw={\"height_ratios\": (0.25, 0.75)},\n",
    "        figsize=figsize,\n",
    "    )  # creating the 2 subplots\n",
    "    sns.boxplot(\n",
    "        data=data, x=feature, ax=ax_box2, showmeans=True, color=\"violet\"\n",
    "    )  # boxplot will be created and a star will indicate the mean value of the column\n",
    "    sns.histplot(\n",
    "        data=data, x=feature, kde=kde, ax=ax_hist2, bins=bins, palette=\"winter\"\n",
    "    ) if bins else sns.histplot(\n",
    "        data=data, x=feature, kde=kde, ax=ax_hist2\n",
    "    )  # For histogram\n",
    "    ax_hist2.axvline(\n",
    "        data[feature].mean(), color=\"green\", linestyle=\"--\"\n",
    "    )  # Add mean to the histogram\n",
    "    ax_hist2.axvline(\n",
    "        data[feature].median(), color=\"black\", linestyle=\"-\"\n",
    "    )  # Add median to the histogram"
   ]
  },
  {
   "cell_type": "code",
   "execution_count": 30,
   "metadata": {
    "id": "UAx0hXHQeycx"
   },
   "outputs": [],
   "source": [
    "# function to create labeled barplots\n",
    "\n",
    "\n",
    "def labeled_barplot(data, feature, perc=False, n=None):\n",
    "    \"\"\"\n",
    "    Barplot with percentage at the top\n",
    "\n",
    "    data: dataframe\n",
    "    feature: dataframe column\n",
    "    perc: whether to display percentages instead of count (default is False)\n",
    "    n: displays the top n category levels (default is None, i.e., display all levels)\n",
    "    \"\"\"\n",
    "\n",
    "    total = len(data[feature])  # length of the column\n",
    "    count = data[feature].nunique()\n",
    "    if n is None:\n",
    "        plt.figure(figsize=(count + 1, 5))\n",
    "    else:\n",
    "        plt.figure(figsize=(n + 1, 5))\n",
    "\n",
    "    plt.xticks(rotation=90, fontsize=15)\n",
    "    ax = sns.countplot(\n",
    "        data=data,\n",
    "        x=feature,\n",
    "        palette=\"Paired\",\n",
    "        order=data[feature].value_counts().index[:n].sort_values(),\n",
    "    )\n",
    "\n",
    "    for p in ax.patches:\n",
    "        if perc == True:\n",
    "            label = \"{:.1f}%\".format(\n",
    "                100 * p.get_height() / total\n",
    "            )  # percentage of each class of the category\n",
    "        else:\n",
    "            label = p.get_height()  # count of each level of the category\n",
    "\n",
    "        x = p.get_x() + p.get_width() / 2  # width of the plot\n",
    "        y = p.get_height()  # height of the plot\n",
    "\n",
    "        ax.annotate(\n",
    "            label,\n",
    "            (x, y),\n",
    "            ha=\"center\",\n",
    "            va=\"center\",\n",
    "            size=12,\n",
    "            xytext=(0, 5),\n",
    "            textcoords=\"offset points\",\n",
    "        )  # annotate the percentage\n",
    "\n",
    "    plt.show()  # show the plot"
   ]
  },
  {
   "cell_type": "code",
   "execution_count": 31,
   "metadata": {
    "id": "Up7Z247Qe2ow"
   },
   "outputs": [],
   "source": [
    "# function to plot stacked bar chart\n",
    "\n",
    "\n",
    "def stacked_barplot(data, predictor, target):\n",
    "    \"\"\"\n",
    "    Print the category counts and plot a stacked bar chart\n",
    "\n",
    "    data: dataframe\n",
    "    predictor: independent variable\n",
    "    target: target variable\n",
    "    \"\"\"\n",
    "    count = data[predictor].nunique()\n",
    "    sorter = data[target].value_counts().index[-1]\n",
    "    tab1 = pd.crosstab(data[predictor], data[target], margins=True).sort_values(\n",
    "        by=sorter, ascending=False\n",
    "    )\n",
    "    print(tab1)\n",
    "    print(\"-\" * 120)\n",
    "    tab = pd.crosstab(data[predictor], data[target], normalize=\"index\").sort_values(\n",
    "        by=sorter, ascending=False\n",
    "    )\n",
    "    tab.plot(kind=\"bar\", stacked=True, figsize=(count + 1, 5))\n",
    "    plt.legend(\n",
    "        loc=\"lower left\", frameon=False,\n",
    "    )\n",
    "    plt.legend(loc=\"upper left\", bbox_to_anchor=(1, 1))\n",
    "    plt.show()"
   ]
  },
  {
   "cell_type": "code",
   "execution_count": 32,
   "metadata": {
    "id": "SwMfXC8Xe7Gv"
   },
   "outputs": [],
   "source": [
    "### Function to plot distributions\n",
    "\n",
    "\n",
    "def distribution_plot_wrt_target(data, predictor, target):\n",
    "\n",
    "    fig, axs = plt.subplots(2, 2, figsize=(12, 10))\n",
    "\n",
    "    target_uniq = data[target].unique()\n",
    "\n",
    "    axs[0, 0].set_title(\"Distribution of target for target=\" + str(target_uniq[0]))\n",
    "    sns.histplot(\n",
    "        data=data[data[target] == target_uniq[0]],\n",
    "        x=predictor,\n",
    "        kde=True,\n",
    "        ax=axs[0, 0],\n",
    "        color=\"teal\",\n",
    "    )\n",
    "\n",
    "    axs[0, 1].set_title(\"Distribution of target for target=\" + str(target_uniq[1]))\n",
    "    sns.histplot(\n",
    "        data=data[data[target] == target_uniq[1]],\n",
    "        x=predictor,\n",
    "        kde=True,\n",
    "        ax=axs[0, 1],\n",
    "        color=\"orange\",\n",
    "    )\n",
    "\n",
    "    axs[1, 0].set_title(\"Boxplot w.r.t target\")\n",
    "    sns.boxplot(data=data, x=target, y=predictor, ax=axs[1, 0], palette=\"gist_rainbow\")\n",
    "\n",
    "    axs[1, 1].set_title(\"Boxplot (without outliers) w.r.t target\")\n",
    "    sns.boxplot(\n",
    "        data=data,\n",
    "        x=target,\n",
    "        y=predictor,\n",
    "        ax=axs[1, 1],\n",
    "        showfliers=False,\n",
    "        palette=\"gist_rainbow\",\n",
    "    )\n",
    "\n",
    "    plt.tight_layout()\n",
    "    plt.show()"
   ]
  },
  {
   "cell_type": "code",
   "execution_count": 36,
   "metadata": {
    "colab": {
     "base_uri": "https://localhost:8080/",
     "height": 1000
    },
    "id": "ILTfDypagjJC",
    "outputId": "7421b2c6-6e5b-4b3f-b280-c3219a5095ed"
   },
   "outputs": [
    {
     "data": {
      "image/png": "[encoded data removed]",
      "text/plain": [
       "<Figure size 720x360 with 2 Axes>"
      ]
     },
     "metadata": {
      "needs_background": "light"
     },
     "output_type": "display_data"
    },
    {
     "data": {
      "image/png": "[encoded data removed]",
      "text/plain": [
       "<Figure size 720x360 with 2 Axes>"
      ]
     },
     "metadata": {
      "needs_background": "light"
     },
     "output_type": "display_data"
    },
    {
     "data": {
      "image/png": "[encoded data removed]",
      "text/plain": [
       "<Figure size 720x360 with 2 Axes>"
      ]
     },
     "metadata": {
      "needs_background": "light"
     },
     "output_type": "display_data"
    },
    {
     "data": {
      "image/png": "[encoded data removed]",
      "text/plain": [
       "<Figure size 720x360 with 2 Axes>"
      ]
     },
     "metadata": {
      "needs_background": "light"
     },
     "output_type": "display_data"
    },
    {
     "data": {
      "image/png": "[encoded data removed]",
      "text/plain": [
       "<Figure size 720x360 with 2 Axes>"
      ]
     },
     "metadata": {
      "needs_background": "light"
     },
     "output_type": "display_data"
    },
    {
     "data": {
      "image/png": "[encoded data removed]",
      "text/plain": [
       "<Figure size 720x360 with 2 Axes>"
      ]
     },
     "metadata": {
      "needs_background": "light"
     },
     "output_type": "display_data"
    }
   ],
   "source": [
    "for item in num_col:\n",
    "    histogram_boxplot(df, item, bins=50, kde=True, figsize=(10, 5))"
   ]
  },
  {
   "cell_type": "markdown",
   "metadata": {
    "id": "xdXNqWmph2ME"
   },
   "source": [
    "**Observations**\n",
    "\n",
    "- Variables like *Age*, *NumberofProduct*, *Balance*. are right-skewed and have upper outliers.\n",
    "- *Tenure*,*EstimatedSalary* is symmetrically distributed.\n",
    "- *CreditScore* is left-skewed."
   ]
  },
  {
   "cell_type": "markdown",
   "metadata": {
    "id": "XdcXkNnoiyaG"
   },
   "source": [
    "### Bivariate Analysis"
   ]
  },
  {
   "cell_type": "markdown",
   "metadata": {
    "id": "ZOCbdjDDiwcb"
   },
   "source": [
    "**Let's check for correlations.**"
   ]
  },
  {
   "cell_type": "code",
   "execution_count": 38,
   "metadata": {
    "colab": {
     "base_uri": "https://localhost:8080/",
     "height": 432
    },
    "id": "dhFdldW5i2-t",
    "outputId": "4f892b99-e47a-47f1-bd0b-3ecafb9cb08b"
   },
   "outputs": [
    {
     "data": {
      "image/png": "[encoded data removed]",
      "text/plain": [
       "<Figure size 1080x504 with 2 Axes>"
      ]
     },
     "metadata": {
      "needs_background": "light"
     },
     "output_type": "display_data"
    }
   ],
   "source": [
    "plt.figure(figsize=(15, 7))\n",
    "sns.heatmap(\n",
    "    df[num_col].corr(), annot=True, vmin=-1, vmax=1, fmt=\".2f\", cmap=\"Spectral\"\n",
    ")\n",
    "plt.show()"
   ]
  },
  {
   "cell_type": "markdown",
   "metadata": {
    "id": "POmjyyvMjX0_"
   },
   "source": [
    "**Observations**\n",
    "\n",
    "- There is no significant correlation with numerical variables\n",
    "- There is slight negative correlation between numbers of products and balance."
   ]
  },
  {
   "cell_type": "code",
   "execution_count": 43,
   "metadata": {
    "colab": {
     "base_uri": "https://localhost:8080/",
     "height": 374
    },
    "id": "cRtODOZukq4x",
    "outputId": "4d588a94-3f7f-46f7-e377-f561f0bdb7ba"
   },
   "outputs": [
    {
     "data": {
      "image/png": "[encoded data removed]",
      "text/plain": [
       "<Figure size 864x864 with 6 Axes>"
      ]
     },
     "metadata": {
      "needs_background": "light"
     },
     "output_type": "display_data"
    }
   ],
   "source": [
    "plt.figure(figsize=(12, 12))\n",
    "\n",
    "for i, variable in enumerate(num_col):\n",
    "    plt.subplot(5, 4, i + 1)\n",
    "    sns.boxplot(df[\"Exited\"], df[variable], palette=\"PuBu\", showfliers=False)\n",
    "    plt.tight_layout()\n",
    "    plt.title(variable)\n",
    "plt.show()"
   ]
  },
  {
   "cell_type": "markdown",
   "metadata": {
    "id": "hWOSm_YEl3Hr"
   },
   "source": [
    "**Observations**\n",
    "\n",
    "- There is no significance on CreditScore on Customers Churn.\n",
    "- Customers above age 35 tends to exist the bank."
   ]
  },
  {
   "cell_type": "code",
   "execution_count": 46,
   "metadata": {
    "colab": {
     "base_uri": "https://localhost:8080/",
     "height": 464
    },
    "id": "cV4xVfllmssk",
    "outputId": "62ae2379-d1eb-495d-b203-9ce184956b5c"
   },
   "outputs": [
    {
     "name": "stdout",
     "output_type": "stream",
     "text": [
      "Exited     0     1    All\n",
      "Gender                   \n",
      "All     7963  2037  10000\n",
      "Female  3404  1139   4543\n",
      "Male    4559   898   5457\n",
      "------------------------------------------------------------------------------------------------------------------------\n"
     ]
    },
    {
     "data": {
      "image/png": "[encoded data removed]",
      "text/plain": [
       "<Figure size 216x360 with 1 Axes>"
      ]
     },
     "metadata": {
      "needs_background": "light"
     },
     "output_type": "display_data"
    }
   ],
   "source": [
    "stacked_barplot(df, \"Gender\", \"Exited\")"
   ]
  },
  {
   "cell_type": "markdown",
   "metadata": {
    "id": "fqYTYmk4oFyF"
   },
   "source": [
    "* Female customers tends to leave bank more ."
   ]
  },
  {
   "cell_type": "code",
   "execution_count": 47,
   "metadata": {
    "colab": {
     "base_uri": "https://localhost:8080/",
     "height": 434
    },
    "id": "qPqP7Z1Lni6D",
    "outputId": "14b3fea4-1412-474d-9efa-579acf263762"
   },
   "outputs": [
    {
     "name": "stdout",
     "output_type": "stream",
     "text": [
      "Exited        0     1    All\n",
      "HasCrCard                   \n",
      "All        7963  2037  10000\n",
      "1          5631  1424   7055\n",
      "0          2332   613   2945\n",
      "------------------------------------------------------------------------------------------------------------------------\n"
     ]
    },
    {
     "data": {
      "image/png": "[encoded data removed]",
      "text/plain": [
       "<Figure size 216x360 with 1 Axes>"
      ]
     },
     "metadata": {
      "needs_background": "light"
     },
     "output_type": "display_data"
    }
   ],
   "source": [
    "stacked_barplot(df, \"HasCrCard\", \"Exited\")"
   ]
  },
  {
   "cell_type": "markdown",
   "metadata": {
    "id": "5mSTqEJeoW6p"
   },
   "source": [
    "* No significance of customers have creditcard or not."
   ]
  },
  {
   "cell_type": "code",
   "execution_count": 48,
   "metadata": {
    "colab": {
     "base_uri": "https://localhost:8080/",
     "height": 434
    },
    "id": "3K5NDmMDnoBc",
    "outputId": "99602ff0-86c3-4397-f1fa-08608c51df2c"
   },
   "outputs": [
    {
     "name": "stdout",
     "output_type": "stream",
     "text": [
      "Exited             0     1    All\n",
      "IsActiveMember                   \n",
      "All             7963  2037  10000\n",
      "0               3547  1302   4849\n",
      "1               4416   735   5151\n",
      "------------------------------------------------------------------------------------------------------------------------\n"
     ]
    },
    {
     "data": {
      "image/png": "[encoded data removed]",
      "text/plain": [
       "<Figure size 216x360 with 1 Axes>"
      ]
     },
     "metadata": {
      "needs_background": "light"
     },
     "output_type": "display_data"
    }
   ],
   "source": [
    "stacked_barplot(df, \"IsActiveMember\", \"Exited\")"
   ]
  },
  {
   "cell_type": "markdown",
   "metadata": {
    "id": "cFeflC4po-IW"
   },
   "source": [
    "* Non active customer tends to leave the bank."
   ]
  },
  {
   "cell_type": "code",
   "execution_count": 49,
   "metadata": {
    "colab": {
     "base_uri": "https://localhost:8080/",
     "height": 492
    },
    "id": "kOfxte43nuGK",
    "outputId": "5cba41b5-3cd6-4130-f4e2-1d358a04a3be"
   },
   "outputs": [
    {
     "name": "stdout",
     "output_type": "stream",
     "text": [
      "Exited        0     1    All\n",
      "Geography                   \n",
      "All        7963  2037  10000\n",
      "Germany    1695   814   2509\n",
      "France     4204   810   5014\n",
      "Spain      2064   413   2477\n",
      "------------------------------------------------------------------------------------------------------------------------\n"
     ]
    },
    {
     "data": {
      "image/png": "[encoded data removed]",
      "text/plain": [
       "<Figure size 288x360 with 1 Axes>"
      ]
     },
     "metadata": {
      "needs_background": "light"
     },
     "output_type": "display_data"
    }
   ],
   "source": [
    "stacked_barplot(df, \"Geography\", \"Exited\")"
   ]
  },
  {
   "cell_type": "markdown",
   "metadata": {
    "id": "_vVzilWYozw3"
   },
   "source": [
    "* German customers are leaving bank more."
   ]
  },
  {
   "cell_type": "markdown",
   "metadata": {
    "id": "-adP3fumpLtt"
   },
   "source": [
    "### Over EDA observations\n",
    "* Provide more offer to Female customers  to female customers\n",
    "* Offer location specific offers and improve customer experience.\n"
   ]
  },
  {
   "cell_type": "markdown",
   "metadata": {
    "id": "_Qb2OSlvp8CQ"
   },
   "source": [
    "###Data Pre-processing"
   ]
  },
  {
   "cell_type": "code",
   "execution_count": 50,
   "metadata": {
    "colab": {
     "base_uri": "https://localhost:8080/"
    },
    "id": "4dd07ec5",
    "outputId": "526be845-c089-4e3d-df7c-2ec3a88104fb"
   },
   "outputs": [
    {
     "name": "stdout",
     "output_type": "stream",
     "text": [
      "(10000, 10)\n",
      "(10000, 1)\n",
      "<class 'pandas.core.frame.DataFrame'>\n"
     ]
    }
   ],
   "source": [
    "##Splitting Independent and dependent variable in X and Y respectively\n",
    "X = df.drop(['Exited'],axis=1)\n",
    "Y = df[['Exited']]\n",
    "\n",
    "print(X.shape)\n",
    "print(Y.shape)\n",
    "print(type(X))"
   ]
  },
  {
   "cell_type": "code",
   "execution_count": 51,
   "metadata": {
    "id": "I8fE8aF_7hJY"
   },
   "outputs": [],
   "source": [
    "# Splitting the dataset into train and test data\n",
    "X_train, X_test, y_train, y_test =  train_test_split(X,Y, test_size=0.2, random_state=42)"
   ]
  },
  {
   "cell_type": "code",
   "execution_count": 52,
   "metadata": {
    "colab": {
     "base_uri": "https://localhost:8080/",
     "height": 206
    },
    "id": "oe8Mbw6jHrTZ",
    "outputId": "c8ce12ab-bb76-4dda-d789-e4eae6c65ba9"
   },
   "outputs": [
    {
     "data": {
      "text/html": [
       "\n",
       "  <div id=\"df-7d55a474-fb11-4752-87cb-d119103a96d5\">\n",
       "    <div class=\"colab-df-container\">\n",
       "      <div>\n",
       "<style scoped>\n",
       "    .dataframe tbody tr th:only-of-type {\n",
       "        vertical-align: middle;\n",
       "    }\n",
       "\n",
       "    .dataframe tbody tr th {\n",
       "        vertical-align: top;\n",
       "    }\n",
       "\n",
       "    .dataframe thead th {\n",
       "        text-align: right;\n",
       "    }\n",
       "</style>\n",
       "<table border=\"1\" class=\"dataframe\">\n",
       "  <thead>\n",
       "    <tr style=\"text-align: right;\">\n",
       "      <th></th>\n",
       "      <th>CreditScore</th>\n",
       "      <th>Geography</th>\n",
       "      <th>Gender</th>\n",
       "      <th>Age</th>\n",
       "      <th>Tenure</th>\n",
       "      <th>Balance</th>\n",
       "      <th>NumOfProducts</th>\n",
       "      <th>HasCrCard</th>\n",
       "      <th>IsActiveMember</th>\n",
       "      <th>EstimatedSalary</th>\n",
       "    </tr>\n",
       "  </thead>\n",
       "  <tbody>\n",
       "    <tr>\n",
       "      <th>9254</th>\n",
       "      <td>686</td>\n",
       "      <td>France</td>\n",
       "      <td>Male</td>\n",
       "      <td>32</td>\n",
       "      <td>6</td>\n",
       "      <td>0.00</td>\n",
       "      <td>2</td>\n",
       "      <td>1</td>\n",
       "      <td>1</td>\n",
       "      <td>179093.26</td>\n",
       "    </tr>\n",
       "    <tr>\n",
       "      <th>1561</th>\n",
       "      <td>632</td>\n",
       "      <td>Germany</td>\n",
       "      <td>Male</td>\n",
       "      <td>42</td>\n",
       "      <td>4</td>\n",
       "      <td>119624.60</td>\n",
       "      <td>2</td>\n",
       "      <td>1</td>\n",
       "      <td>1</td>\n",
       "      <td>195978.86</td>\n",
       "    </tr>\n",
       "    <tr>\n",
       "      <th>1670</th>\n",
       "      <td>559</td>\n",
       "      <td>Spain</td>\n",
       "      <td>Male</td>\n",
       "      <td>24</td>\n",
       "      <td>3</td>\n",
       "      <td>114739.92</td>\n",
       "      <td>1</td>\n",
       "      <td>1</td>\n",
       "      <td>0</td>\n",
       "      <td>85891.02</td>\n",
       "    </tr>\n",
       "    <tr>\n",
       "      <th>6087</th>\n",
       "      <td>561</td>\n",
       "      <td>France</td>\n",
       "      <td>Female</td>\n",
       "      <td>27</td>\n",
       "      <td>9</td>\n",
       "      <td>135637.00</td>\n",
       "      <td>1</td>\n",
       "      <td>1</td>\n",
       "      <td>0</td>\n",
       "      <td>153080.40</td>\n",
       "    </tr>\n",
       "    <tr>\n",
       "      <th>6669</th>\n",
       "      <td>517</td>\n",
       "      <td>France</td>\n",
       "      <td>Male</td>\n",
       "      <td>56</td>\n",
       "      <td>9</td>\n",
       "      <td>142147.32</td>\n",
       "      <td>1</td>\n",
       "      <td>0</td>\n",
       "      <td>0</td>\n",
       "      <td>39488.04</td>\n",
       "    </tr>\n",
       "  </tbody>\n",
       "</table>\n",
       "</div>\n",
       "      <button class=\"colab-df-convert\" onclick=\"convertToInteractive('df-7d55a474-fb11-4752-87cb-d119103a96d5')\"\n",
       "              title=\"Convert this dataframe to an interactive table.\"\n",
       "              style=\"display:none;\">\n",
       "        \n",
       "  <svg xmlns=\"http://www.w3.org/2000/svg\" height=\"24px\"viewBox=\"0 0 24 24\"\n",
       "       width=\"24px\">\n",
       "    <path d=\"M0 0h24v24H0V0z\" fill=\"none\"/>\n",
       "    <path d=\"M18.56 5.44l.94 2.06.94-2.06 2.06-.94-2.06-.94-.94-2.06-.94 2.06-2.06.94zm-11 1L8.5 8.5l.94-2.06 2.06-.94-2.06-.94L8.5 2.5l-.94 2.06-2.06.94zm10 10l.94 2.06.94-2.06 2.06-.94-2.06-.94-.94-2.06-.94 2.06-2.06.94z\"/><path d=\"M17.41 7.96l-1.37-1.37c-.4-.4-.92-.59-1.43-.59-.52 0-1.04.2-1.43.59L10.3 9.45l-7.72 7.72c-.78.78-.78 2.05 0 2.83L4 21.41c.39.39.9.59 1.41.59.51 0 1.02-.2 1.41-.59l7.78-7.78 2.81-2.81c.8-.78.8-2.07 0-2.86zM5.41 20L4 18.59l7.72-7.72 1.47 1.35L5.41 20z\"/>\n",
       "  </svg>\n",
       "      </button>\n",
       "      \n",
       "  <style>\n",
       "    .colab-df-container {\n",
       "      display:flex;\n",
       "      flex-wrap:wrap;\n",
       "      gap: 12px;\n",
       "    }\n",
       "\n",
       "    .colab-df-convert {\n",
       "      background-color: #E8F0FE;\n",
       "      border: none;\n",
       "      border-radius: 50%;\n",
       "      cursor: pointer;\n",
       "      display: none;\n",
       "      fill: #1967D2;\n",
       "      height: 32px;\n",
       "      padding: 0 0 0 0;\n",
       "      width: 32px;\n",
       "    }\n",
       "\n",
       "    .colab-df-convert:hover {\n",
       "      background-color: #E2EBFA;\n",
       "      box-shadow: 0px 1px 2px rgba(60, 64, 67, 0.3), 0px 1px 3px 1px rgba(60, 64, 67, 0.15);\n",
       "      fill: #174EA6;\n",
       "    }\n",
       "\n",
       "    [theme=dark] .colab-df-convert {\n",
       "      background-color: #3B4455;\n",
       "      fill: #D2E3FC;\n",
       "    }\n",
       "\n",
       "    [theme=dark] .colab-df-convert:hover {\n",
       "      background-color: #434B5C;\n",
       "      box-shadow: 0px 1px 3px 1px rgba(0, 0, 0, 0.15);\n",
       "      filter: drop-shadow(0px 1px 2px rgba(0, 0, 0, 0.3));\n",
       "      fill: #FFFFFF;\n",
       "    }\n",
       "  </style>\n",
       "\n",
       "      <script>\n",
       "        const buttonEl =\n",
       "          document.querySelector('#df-7d55a474-fb11-4752-87cb-d119103a96d5 button.colab-df-convert');\n",
       "        buttonEl.style.display =\n",
       "          google.colab.kernel.accessAllowed ? 'block' : 'none';\n",
       "\n",
       "        async function convertToInteractive(key) {\n",
       "          const element = document.querySelector('#df-7d55a474-fb11-4752-87cb-d119103a96d5');\n",
       "          const dataTable =\n",
       "            await google.colab.kernel.invokeFunction('convertToInteractive',\n",
       "                                                     [key], {});\n",
       "          if (!dataTable) return;\n",
       "\n",
       "          const docLinkHtml = 'Like what you see? Visit the ' +\n",
       "            '<a target=\"_blank\" href=https://colab.research.google.com/notebooks/data_table.ipynb>data table notebook</a>'\n",
       "            + ' to learn more about interactive tables.';\n",
       "          element.innerHTML = '';\n",
       "          dataTable['output_type'] = 'display_data';\n",
       "          await google.colab.output.renderOutput(dataTable, element);\n",
       "          const docLink = document.createElement('div');\n",
       "          docLink.innerHTML = docLinkHtml;\n",
       "          element.appendChild(docLink);\n",
       "        }\n",
       "      </script>\n",
       "    </div>\n",
       "  </div>\n",
       "  "
      ],
      "text/plain": [
       "      CreditScore Geography  Gender  Age  Tenure    Balance  NumOfProducts  \\\n",
       "9254          686    France    Male   32       6       0.00              2   \n",
       "1561          632   Germany    Male   42       4  119624.60              2   \n",
       "1670          559     Spain    Male   24       3  114739.92              1   \n",
       "6087          561    France  Female   27       9  135637.00              1   \n",
       "6669          517    France    Male   56       9  142147.32              1   \n",
       "\n",
       "      HasCrCard  IsActiveMember  EstimatedSalary  \n",
       "9254          1               1        179093.26  \n",
       "1561          1               1        195978.86  \n",
       "1670          1               0         85891.02  \n",
       "6087          1               0        153080.40  \n",
       "6669          0               0         39488.04  "
      ]
     },
     "execution_count": 52,
     "metadata": {},
     "output_type": "execute_result"
    }
   ],
   "source": [
    "X_train.head()"
   ]
  },
  {
   "cell_type": "code",
   "execution_count": 53,
   "metadata": {
    "colab": {
     "base_uri": "https://localhost:8080/",
     "height": 206
    },
    "id": "dsbVXjdLHw1V",
    "outputId": "87319d55-ff5b-4939-aaa8-47afcb82efff"
   },
   "outputs": [
    {
     "data": {
      "text/html": [
       "\n",
       "  <div id=\"df-6ccd8a33-3b5d-4500-8a20-9b2c74f4edfc\">\n",
       "    <div class=\"colab-df-container\">\n",
       "      <div>\n",
       "<style scoped>\n",
       "    .dataframe tbody tr th:only-of-type {\n",
       "        vertical-align: middle;\n",
       "    }\n",
       "\n",
       "    .dataframe tbody tr th {\n",
       "        vertical-align: top;\n",
       "    }\n",
       "\n",
       "    .dataframe thead th {\n",
       "        text-align: right;\n",
       "    }\n",
       "</style>\n",
       "<table border=\"1\" class=\"dataframe\">\n",
       "  <thead>\n",
       "    <tr style=\"text-align: right;\">\n",
       "      <th></th>\n",
       "      <th>CreditScore</th>\n",
       "      <th>Geography</th>\n",
       "      <th>Gender</th>\n",
       "      <th>Age</th>\n",
       "      <th>Tenure</th>\n",
       "      <th>Balance</th>\n",
       "      <th>NumOfProducts</th>\n",
       "      <th>HasCrCard</th>\n",
       "      <th>IsActiveMember</th>\n",
       "      <th>EstimatedSalary</th>\n",
       "    </tr>\n",
       "  </thead>\n",
       "  <tbody>\n",
       "    <tr>\n",
       "      <th>9254</th>\n",
       "      <td>0.356500</td>\n",
       "      <td>France</td>\n",
       "      <td>Male</td>\n",
       "      <td>-0.655786</td>\n",
       "      <td>0.345680</td>\n",
       "      <td>-1.218471</td>\n",
       "      <td>0.808436</td>\n",
       "      <td>1</td>\n",
       "      <td>1</td>\n",
       "      <td>1.367670</td>\n",
       "    </tr>\n",
       "    <tr>\n",
       "      <th>1561</th>\n",
       "      <td>-0.203898</td>\n",
       "      <td>Germany</td>\n",
       "      <td>Male</td>\n",
       "      <td>0.294938</td>\n",
       "      <td>-0.348369</td>\n",
       "      <td>0.696838</td>\n",
       "      <td>0.808436</td>\n",
       "      <td>1</td>\n",
       "      <td>1</td>\n",
       "      <td>1.661254</td>\n",
       "    </tr>\n",
       "    <tr>\n",
       "      <th>1670</th>\n",
       "      <td>-0.961472</td>\n",
       "      <td>Spain</td>\n",
       "      <td>Male</td>\n",
       "      <td>-1.416365</td>\n",
       "      <td>-0.695393</td>\n",
       "      <td>0.618629</td>\n",
       "      <td>-0.916688</td>\n",
       "      <td>1</td>\n",
       "      <td>0</td>\n",
       "      <td>-0.252807</td>\n",
       "    </tr>\n",
       "    <tr>\n",
       "      <th>6087</th>\n",
       "      <td>-0.940717</td>\n",
       "      <td>France</td>\n",
       "      <td>Female</td>\n",
       "      <td>-1.131148</td>\n",
       "      <td>1.386753</td>\n",
       "      <td>0.953212</td>\n",
       "      <td>-0.916688</td>\n",
       "      <td>1</td>\n",
       "      <td>0</td>\n",
       "      <td>0.915393</td>\n",
       "    </tr>\n",
       "    <tr>\n",
       "      <th>6669</th>\n",
       "      <td>-1.397337</td>\n",
       "      <td>France</td>\n",
       "      <td>Male</td>\n",
       "      <td>1.625953</td>\n",
       "      <td>1.386753</td>\n",
       "      <td>1.057449</td>\n",
       "      <td>-0.916688</td>\n",
       "      <td>0</td>\n",
       "      <td>0</td>\n",
       "      <td>-1.059600</td>\n",
       "    </tr>\n",
       "  </tbody>\n",
       "</table>\n",
       "</div>\n",
       "      <button class=\"colab-df-convert\" onclick=\"convertToInteractive('df-6ccd8a33-3b5d-4500-8a20-9b2c74f4edfc')\"\n",
       "              title=\"Convert this dataframe to an interactive table.\"\n",
       "              style=\"display:none;\">\n",
       "        \n",
       "  <svg xmlns=\"http://www.w3.org/2000/svg\" height=\"24px\"viewBox=\"0 0 24 24\"\n",
       "       width=\"24px\">\n",
       "    <path d=\"M0 0h24v24H0V0z\" fill=\"none\"/>\n",
       "    <path d=\"M18.56 5.44l.94 2.06.94-2.06 2.06-.94-2.06-.94-.94-2.06-.94 2.06-2.06.94zm-11 1L8.5 8.5l.94-2.06 2.06-.94-2.06-.94L8.5 2.5l-.94 2.06-2.06.94zm10 10l.94 2.06.94-2.06 2.06-.94-2.06-.94-.94-2.06-.94 2.06-2.06.94z\"/><path d=\"M17.41 7.96l-1.37-1.37c-.4-.4-.92-.59-1.43-.59-.52 0-1.04.2-1.43.59L10.3 9.45l-7.72 7.72c-.78.78-.78 2.05 0 2.83L4 21.41c.39.39.9.59 1.41.59.51 0 1.02-.2 1.41-.59l7.78-7.78 2.81-2.81c.8-.78.8-2.07 0-2.86zM5.41 20L4 18.59l7.72-7.72 1.47 1.35L5.41 20z\"/>\n",
       "  </svg>\n",
       "      </button>\n",
       "      \n",
       "  <style>\n",
       "    .colab-df-container {\n",
       "      display:flex;\n",
       "      flex-wrap:wrap;\n",
       "      gap: 12px;\n",
       "    }\n",
       "\n",
       "    .colab-df-convert {\n",
       "      background-color: #E8F0FE;\n",
       "      border: none;\n",
       "      border-radius: 50%;\n",
       "      cursor: pointer;\n",
       "      display: none;\n",
       "      fill: #1967D2;\n",
       "      height: 32px;\n",
       "      padding: 0 0 0 0;\n",
       "      width: 32px;\n",
       "    }\n",
       "\n",
       "    .colab-df-convert:hover {\n",
       "      background-color: #E2EBFA;\n",
       "      box-shadow: 0px 1px 2px rgba(60, 64, 67, 0.3), 0px 1px 3px 1px rgba(60, 64, 67, 0.15);\n",
       "      fill: #174EA6;\n",
       "    }\n",
       "\n",
       "    [theme=dark] .colab-df-convert {\n",
       "      background-color: #3B4455;\n",
       "      fill: #D2E3FC;\n",
       "    }\n",
       "\n",
       "    [theme=dark] .colab-df-convert:hover {\n",
       "      background-color: #434B5C;\n",
       "      box-shadow: 0px 1px 3px 1px rgba(0, 0, 0, 0.15);\n",
       "      filter: drop-shadow(0px 1px 2px rgba(0, 0, 0, 0.3));\n",
       "      fill: #FFFFFF;\n",
       "    }\n",
       "  </style>\n",
       "\n",
       "      <script>\n",
       "        const buttonEl =\n",
       "          document.querySelector('#df-6ccd8a33-3b5d-4500-8a20-9b2c74f4edfc button.colab-df-convert');\n",
       "        buttonEl.style.display =\n",
       "          google.colab.kernel.accessAllowed ? 'block' : 'none';\n",
       "\n",
       "        async function convertToInteractive(key) {\n",
       "          const element = document.querySelector('#df-6ccd8a33-3b5d-4500-8a20-9b2c74f4edfc');\n",
       "          const dataTable =\n",
       "            await google.colab.kernel.invokeFunction('convertToInteractive',\n",
       "                                                     [key], {});\n",
       "          if (!dataTable) return;\n",
       "\n",
       "          const docLinkHtml = 'Like what you see? Visit the ' +\n",
       "            '<a target=\"_blank\" href=https://colab.research.google.com/notebooks/data_table.ipynb>data table notebook</a>'\n",
       "            + ' to learn more about interactive tables.';\n",
       "          element.innerHTML = '';\n",
       "          dataTable['output_type'] = 'display_data';\n",
       "          await google.colab.output.renderOutput(dataTable, element);\n",
       "          const docLink = document.createElement('div');\n",
       "          docLink.innerHTML = docLinkHtml;\n",
       "          element.appendChild(docLink);\n",
       "        }\n",
       "      </script>\n",
       "    </div>\n",
       "  </div>\n",
       "  "
      ],
      "text/plain": [
       "      CreditScore Geography  Gender       Age    Tenure   Balance  \\\n",
       "9254     0.356500    France    Male -0.655786  0.345680 -1.218471   \n",
       "1561    -0.203898   Germany    Male  0.294938 -0.348369  0.696838   \n",
       "1670    -0.961472     Spain    Male -1.416365 -0.695393  0.618629   \n",
       "6087    -0.940717    France  Female -1.131148  1.386753  0.953212   \n",
       "6669    -1.397337    France    Male  1.625953  1.386753  1.057449   \n",
       "\n",
       "      NumOfProducts  HasCrCard  IsActiveMember  EstimatedSalary  \n",
       "9254       0.808436          1               1         1.367670  \n",
       "1561       0.808436          1               1         1.661254  \n",
       "1670      -0.916688          1               0        -0.252807  \n",
       "6087      -0.916688          1               0         0.915393  \n",
       "6669      -0.916688          0               0        -1.059600  "
      ]
     },
     "execution_count": 53,
     "metadata": {},
     "output_type": "execute_result"
    }
   ],
   "source": [
    "#Normalizing numerical variables\n",
    "scale = StandardScaler()\n",
    "X_train[num_col]=scale.fit_transform(X_train[num_col])\n",
    "X_test[num_col]=scale.fit_transform(X_test[num_col])\n",
    "X_train.head()"
   ]
  },
  {
   "cell_type": "markdown",
   "metadata": {
    "id": "5jhxXNiOAUGa"
   },
   "source": [
    "**Categorical Encoding**"
   ]
  },
  {
   "cell_type": "code",
   "execution_count": 54,
   "metadata": {
    "id": "Sijs9O80rNBb"
   },
   "outputs": [],
   "source": [
    "## Storing required categorical variables in cat_data and drop target variable to apply dummification \n",
    "cat_data= [\"Geography\",'Gender','HasCrCard','IsActiveMember']"
   ]
  },
  {
   "cell_type": "code",
   "execution_count": 55,
   "metadata": {
    "id": "PYCExQoaAQIk"
   },
   "outputs": [],
   "source": [
    "# Using pd.get dummies to encode the categorical columns in the data\n",
    "X_train = pd.get_dummies(X_train,columns=cat_data,drop_first= True)\n",
    "X_test = pd.get_dummies(X_test,columns=cat_data,drop_first= True)"
   ]
  },
  {
   "cell_type": "code",
   "execution_count": 56,
   "metadata": {
    "colab": {
     "base_uri": "https://localhost:8080/",
     "height": 206
    },
    "id": "2hv7hUeDE00p",
    "outputId": "38fe8e25-6ecb-4b92-ef26-12326910cd8e"
   },
   "outputs": [
    {
     "data": {
      "text/html": [
       "\n",
       "  <div id=\"df-08afecb4-075c-4787-a67a-214e4db68c1a\">\n",
       "    <div class=\"colab-df-container\">\n",
       "      <div>\n",
       "<style scoped>\n",
       "    .dataframe tbody tr th:only-of-type {\n",
       "        vertical-align: middle;\n",
       "    }\n",
       "\n",
       "    .dataframe tbody tr th {\n",
       "        vertical-align: top;\n",
       "    }\n",
       "\n",
       "    .dataframe thead th {\n",
       "        text-align: right;\n",
       "    }\n",
       "</style>\n",
       "<table border=\"1\" class=\"dataframe\">\n",
       "  <thead>\n",
       "    <tr style=\"text-align: right;\">\n",
       "      <th></th>\n",
       "      <th>CreditScore</th>\n",
       "      <th>Age</th>\n",
       "      <th>Tenure</th>\n",
       "      <th>Balance</th>\n",
       "      <th>NumOfProducts</th>\n",
       "      <th>EstimatedSalary</th>\n",
       "      <th>Geography_Germany</th>\n",
       "      <th>Geography_Spain</th>\n",
       "      <th>Gender_Male</th>\n",
       "      <th>HasCrCard_1</th>\n",
       "      <th>IsActiveMember_1</th>\n",
       "    </tr>\n",
       "  </thead>\n",
       "  <tbody>\n",
       "    <tr>\n",
       "      <th>9254</th>\n",
       "      <td>0.356500</td>\n",
       "      <td>-0.655786</td>\n",
       "      <td>0.345680</td>\n",
       "      <td>-1.218471</td>\n",
       "      <td>0.808436</td>\n",
       "      <td>1.367670</td>\n",
       "      <td>0</td>\n",
       "      <td>0</td>\n",
       "      <td>1</td>\n",
       "      <td>1</td>\n",
       "      <td>1</td>\n",
       "    </tr>\n",
       "    <tr>\n",
       "      <th>1561</th>\n",
       "      <td>-0.203898</td>\n",
       "      <td>0.294938</td>\n",
       "      <td>-0.348369</td>\n",
       "      <td>0.696838</td>\n",
       "      <td>0.808436</td>\n",
       "      <td>1.661254</td>\n",
       "      <td>1</td>\n",
       "      <td>0</td>\n",
       "      <td>1</td>\n",
       "      <td>1</td>\n",
       "      <td>1</td>\n",
       "    </tr>\n",
       "    <tr>\n",
       "      <th>1670</th>\n",
       "      <td>-0.961472</td>\n",
       "      <td>-1.416365</td>\n",
       "      <td>-0.695393</td>\n",
       "      <td>0.618629</td>\n",
       "      <td>-0.916688</td>\n",
       "      <td>-0.252807</td>\n",
       "      <td>0</td>\n",
       "      <td>1</td>\n",
       "      <td>1</td>\n",
       "      <td>1</td>\n",
       "      <td>0</td>\n",
       "    </tr>\n",
       "    <tr>\n",
       "      <th>6087</th>\n",
       "      <td>-0.940717</td>\n",
       "      <td>-1.131148</td>\n",
       "      <td>1.386753</td>\n",
       "      <td>0.953212</td>\n",
       "      <td>-0.916688</td>\n",
       "      <td>0.915393</td>\n",
       "      <td>0</td>\n",
       "      <td>0</td>\n",
       "      <td>0</td>\n",
       "      <td>1</td>\n",
       "      <td>0</td>\n",
       "    </tr>\n",
       "    <tr>\n",
       "      <th>6669</th>\n",
       "      <td>-1.397337</td>\n",
       "      <td>1.625953</td>\n",
       "      <td>1.386753</td>\n",
       "      <td>1.057449</td>\n",
       "      <td>-0.916688</td>\n",
       "      <td>-1.059600</td>\n",
       "      <td>0</td>\n",
       "      <td>0</td>\n",
       "      <td>1</td>\n",
       "      <td>0</td>\n",
       "      <td>0</td>\n",
       "    </tr>\n",
       "  </tbody>\n",
       "</table>\n",
       "</div>\n",
       "      <button class=\"colab-df-convert\" onclick=\"convertToInteractive('df-08afecb4-075c-4787-a67a-214e4db68c1a')\"\n",
       "              title=\"Convert this dataframe to an interactive table.\"\n",
       "              style=\"display:none;\">\n",
       "        \n",
       "  <svg xmlns=\"http://www.w3.org/2000/svg\" height=\"24px\"viewBox=\"0 0 24 24\"\n",
       "       width=\"24px\">\n",
       "    <path d=\"M0 0h24v24H0V0z\" fill=\"none\"/>\n",
       "    <path d=\"M18.56 5.44l.94 2.06.94-2.06 2.06-.94-2.06-.94-.94-2.06-.94 2.06-2.06.94zm-11 1L8.5 8.5l.94-2.06 2.06-.94-2.06-.94L8.5 2.5l-.94 2.06-2.06.94zm10 10l.94 2.06.94-2.06 2.06-.94-2.06-.94-.94-2.06-.94 2.06-2.06.94z\"/><path d=\"M17.41 7.96l-1.37-1.37c-.4-.4-.92-.59-1.43-.59-.52 0-1.04.2-1.43.59L10.3 9.45l-7.72 7.72c-.78.78-.78 2.05 0 2.83L4 21.41c.39.39.9.59 1.41.59.51 0 1.02-.2 1.41-.59l7.78-7.78 2.81-2.81c.8-.78.8-2.07 0-2.86zM5.41 20L4 18.59l7.72-7.72 1.47 1.35L5.41 20z\"/>\n",
       "  </svg>\n",
       "      </button>\n",
       "      \n",
       "  <style>\n",
       "    .colab-df-container {\n",
       "      display:flex;\n",
       "      flex-wrap:wrap;\n",
       "      gap: 12px;\n",
       "    }\n",
       "\n",
       "    .colab-df-convert {\n",
       "      background-color: #E8F0FE;\n",
       "      border: none;\n",
       "      border-radius: 50%;\n",
       "      cursor: pointer;\n",
       "      display: none;\n",
       "      fill: #1967D2;\n",
       "      height: 32px;\n",
       "      padding: 0 0 0 0;\n",
       "      width: 32px;\n",
       "    }\n",
       "\n",
       "    .colab-df-convert:hover {\n",
       "      background-color: #E2EBFA;\n",
       "      box-shadow: 0px 1px 2px rgba(60, 64, 67, 0.3), 0px 1px 3px 1px rgba(60, 64, 67, 0.15);\n",
       "      fill: #174EA6;\n",
       "    }\n",
       "\n",
       "    [theme=dark] .colab-df-convert {\n",
       "      background-color: #3B4455;\n",
       "      fill: #D2E3FC;\n",
       "    }\n",
       "\n",
       "    [theme=dark] .colab-df-convert:hover {\n",
       "      background-color: #434B5C;\n",
       "      box-shadow: 0px 1px 3px 1px rgba(0, 0, 0, 0.15);\n",
       "      filter: drop-shadow(0px 1px 2px rgba(0, 0, 0, 0.3));\n",
       "      fill: #FFFFFF;\n",
       "    }\n",
       "  </style>\n",
       "\n",
       "      <script>\n",
       "        const buttonEl =\n",
       "          document.querySelector('#df-08afecb4-075c-4787-a67a-214e4db68c1a button.colab-df-convert');\n",
       "        buttonEl.style.display =\n",
       "          google.colab.kernel.accessAllowed ? 'block' : 'none';\n",
       "\n",
       "        async function convertToInteractive(key) {\n",
       "          const element = document.querySelector('#df-08afecb4-075c-4787-a67a-214e4db68c1a');\n",
       "          const dataTable =\n",
       "            await google.colab.kernel.invokeFunction('convertToInteractive',\n",
       "                                                     [key], {});\n",
       "          if (!dataTable) return;\n",
       "\n",
       "          const docLinkHtml = 'Like what you see? Visit the ' +\n",
       "            '<a target=\"_blank\" href=https://colab.research.google.com/notebooks/data_table.ipynb>data table notebook</a>'\n",
       "            + ' to learn more about interactive tables.';\n",
       "          element.innerHTML = '';\n",
       "          dataTable['output_type'] = 'display_data';\n",
       "          await google.colab.output.renderOutput(dataTable, element);\n",
       "          const docLink = document.createElement('div');\n",
       "          docLink.innerHTML = docLinkHtml;\n",
       "          element.appendChild(docLink);\n",
       "        }\n",
       "      </script>\n",
       "    </div>\n",
       "  </div>\n",
       "  "
      ],
      "text/plain": [
       "      CreditScore       Age    Tenure   Balance  NumOfProducts  \\\n",
       "9254     0.356500 -0.655786  0.345680 -1.218471       0.808436   \n",
       "1561    -0.203898  0.294938 -0.348369  0.696838       0.808436   \n",
       "1670    -0.961472 -1.416365 -0.695393  0.618629      -0.916688   \n",
       "6087    -0.940717 -1.131148  1.386753  0.953212      -0.916688   \n",
       "6669    -1.397337  1.625953  1.386753  1.057449      -0.916688   \n",
       "\n",
       "      EstimatedSalary  Geography_Germany  Geography_Spain  Gender_Male  \\\n",
       "9254         1.367670                  0                0            1   \n",
       "1561         1.661254                  1                0            1   \n",
       "1670        -0.252807                  0                1            1   \n",
       "6087         0.915393                  0                0            0   \n",
       "6669        -1.059600                  0                0            1   \n",
       "\n",
       "      HasCrCard_1  IsActiveMember_1  \n",
       "9254            1                 1  \n",
       "1561            1                 1  \n",
       "1670            1                 0  \n",
       "6087            1                 0  \n",
       "6669            0                 0  "
      ]
     },
     "execution_count": 56,
     "metadata": {},
     "output_type": "execute_result"
    }
   ],
   "source": [
    "X_train.head()"
   ]
  },
  {
   "cell_type": "code",
   "execution_count": 57,
   "metadata": {
    "colab": {
     "base_uri": "https://localhost:8080/"
    },
    "id": "kgGx4i-CAagS",
    "outputId": "29c3d919-0894-4b51-b389-e1d23ca01344"
   },
   "outputs": [
    {
     "name": "stdout",
     "output_type": "stream",
     "text": [
      "(8000, 11)\n",
      "(8000, 1)\n",
      "(2000, 11)\n",
      "(2000, 1)\n"
     ]
    }
   ],
   "source": [
    "# Checking the shape\n",
    "print(X_train.shape)\n",
    "print(y_train.shape)\n",
    "print(X_test.shape)\n",
    "print(y_test.shape)"
   ]
  },
  {
   "cell_type": "markdown",
   "metadata": {
    "id": "X7VT_t5f9bwR"
   },
   "source": [
    "## **Model Building**"
   ]
  },
  {
   "cell_type": "code",
   "execution_count": 59,
   "metadata": {
    "id": "VTVs7lmH_hXx"
   },
   "outputs": [],
   "source": [
    "# Fixing the seed for random number generators\n",
    "np.random.seed(42)\n",
    "\n",
    "import random\n",
    "random.seed(42)\n",
    "\n",
    "tf.random.set_seed(42)"
   ]
  },
  {
   "cell_type": "markdown",
   "metadata": {
    "id": "tLsxcmgPQ_cG"
   },
   "source": [
    "**Let's build a feed forward neural network with 2 hidden layers and the output layer.**"
   ]
  },
  {
   "cell_type": "code",
   "execution_count": 61,
   "metadata": {
    "id": "ytCsjy93BKbK"
   },
   "outputs": [],
   "source": [
    "# We will be adding the layers sequentially\n",
    "model_1 = Sequential()\n",
    "\n",
    "# First hidden layer with 128 neurons and relu activation function, the input shape tuple denotes number of independent variables\n",
    "model_1.add(Dense(128, activation='relu', input_shape=(11,)))\n",
    "\n",
    "# We will be switching 20% of neurons off randomly at each iteration to avoid overfitting\n",
    "model_1.add(Dropout(0.2))\n",
    "\n",
    "# Second hidden layer with 64 neurons and relu activation function\n",
    "model_1.add(Dense(64, activation='relu'))\n",
    "\n",
    "# We will be switching 10% of neurons off randomly at each iteration to avoid overfitting\n",
    "model_1.add(Dropout(0.1))\n",
    "\n",
    "# Output layer with only one neuron and sigmoid as activation function will give the probability of customers churn the bank  \n",
    "model_1.add(Dense(1, activation='sigmoid'))"
   ]
  },
  {
   "cell_type": "markdown",
   "metadata": {
    "id": "GAP99treSW_4"
   },
   "source": [
    "Since this is a binary classification task, we will be minimizing the binary_crossentropy and we can choose one optimizer out of\n",
    "\n",
    "SGD\n",
    "RMSprop\n",
    "Adam\n",
    "\n",
    "This is a hyper-parameter. You can play around with these optimizers to check which one performs better with a particular data.\n",
    "\n",
    "For now, let's try **SGD** optimizer with **accuracy** as the metric and see the model's summary."
   ]
  },
  {
   "cell_type": "code",
   "execution_count": 63,
   "metadata": {
    "colab": {
     "base_uri": "https://localhost:8080/"
    },
    "id": "2REFSaSx9RBi",
    "outputId": "ad348a69-f32d-41f9-d41a-e8ec62ec5d1b"
   },
   "outputs": [
    {
     "name": "stdout",
     "output_type": "stream",
     "text": [
      "Model: \"sequential\"\n",
      "_________________________________________________________________\n",
      " Layer (type)                Output Shape              Param #   \n",
      "=================================================================\n",
      " dense (Dense)               (None, 128)               1536      \n",
      "                                                                 \n",
      " dropout (Dropout)           (None, 128)               0         \n",
      "                                                                 \n",
      " dense_1 (Dense)             (None, 64)                8256      \n",
      "                                                                 \n",
      " dropout_1 (Dropout)         (None, 64)                0         \n",
      "                                                                 \n",
      " dense_2 (Dense)             (None, 1)                 65        \n",
      "                                                                 \n",
      "=================================================================\n",
      "Total params: 9,857\n",
      "Trainable params: 9,857\n",
      "Non-trainable params: 0\n",
      "_________________________________________________________________\n"
     ]
    }
   ],
   "source": [
    "# Compliling the model with binary crossentropy as loss, SGD as optimizer and accuracy as metrics\n",
    "model_1.compile(loss = 'binary_crossentropy', optimizer = 'SGD', metrics = ['accuracy'])\n",
    "# Printing the summary of the model\n",
    "model_1.summary()"
   ]
  },
  {
   "cell_type": "markdown",
   "metadata": {
    "id": "C7W9EYZnTP1P"
   },
   "source": [
    "From the above summary, we can see that this architecture will train a total of **9,857** parameters i.e. weights and biases in the network."
   ]
  },
  {
   "cell_type": "markdown",
   "metadata": {
    "id": "4N6XAn6mA_BD"
   },
   "source": [
    "### **Training the model**"
   ]
  },
  {
   "cell_type": "markdown",
   "metadata": {
    "id": "hmZ5ZSIlUSVH"
   },
   "source": [
    "Let's now train the model using the below piece of code. We will keep the 10% of the training data for validation."
   ]
  },
  {
   "cell_type": "code",
   "execution_count": 64,
   "metadata": {
    "colab": {
     "base_uri": "https://localhost:8080/"
    },
    "id": "hkeCQ_K99nob",
    "outputId": "3b6989e2-2e02-4559-9a52-89f65e32a450"
   },
   "outputs": [
    {
     "name": "stdout",
     "output_type": "stream",
     "text": [
      "Epoch 1/150\n",
      "225/225 - 3s - loss: 0.5280 - accuracy: 0.7897 - val_loss: 0.4710 - val_accuracy: 0.8037 - 3s/epoch - 14ms/step\n",
      "Epoch 2/150\n",
      "225/225 - 0s - loss: 0.4787 - accuracy: 0.7933 - val_loss: 0.4447 - val_accuracy: 0.8037 - 466ms/epoch - 2ms/step\n",
      "Epoch 3/150\n",
      "225/225 - 0s - loss: 0.4597 - accuracy: 0.7946 - val_loss: 0.4283 - val_accuracy: 0.8050 - 480ms/epoch - 2ms/step\n",
      "Epoch 4/150\n",
      "225/225 - 0s - loss: 0.4469 - accuracy: 0.7953 - val_loss: 0.4177 - val_accuracy: 0.8112 - 479ms/epoch - 2ms/step\n",
      "Epoch 5/150\n",
      "225/225 - 0s - loss: 0.4424 - accuracy: 0.7954 - val_loss: 0.4095 - val_accuracy: 0.8188 - 471ms/epoch - 2ms/step\n",
      "Epoch 6/150\n",
      "225/225 - 0s - loss: 0.4334 - accuracy: 0.8035 - val_loss: 0.4033 - val_accuracy: 0.8300 - 474ms/epoch - 2ms/step\n",
      "Epoch 7/150\n",
      "225/225 - 0s - loss: 0.4262 - accuracy: 0.8076 - val_loss: 0.3969 - val_accuracy: 0.8375 - 474ms/epoch - 2ms/step\n",
      "Epoch 8/150\n",
      "225/225 - 0s - loss: 0.4190 - accuracy: 0.8169 - val_loss: 0.3917 - val_accuracy: 0.8413 - 488ms/epoch - 2ms/step\n",
      "Epoch 9/150\n",
      "225/225 - 0s - loss: 0.4152 - accuracy: 0.8189 - val_loss: 0.3856 - val_accuracy: 0.8425 - 461ms/epoch - 2ms/step\n",
      "Epoch 10/150\n",
      "225/225 - 0s - loss: 0.4110 - accuracy: 0.8235 - val_loss: 0.3809 - val_accuracy: 0.8425 - 458ms/epoch - 2ms/step\n",
      "Epoch 11/150\n",
      "225/225 - 0s - loss: 0.4079 - accuracy: 0.8272 - val_loss: 0.3762 - val_accuracy: 0.8462 - 453ms/epoch - 2ms/step\n",
      "Epoch 12/150\n",
      "225/225 - 0s - loss: 0.3992 - accuracy: 0.8293 - val_loss: 0.3716 - val_accuracy: 0.8475 - 443ms/epoch - 2ms/step\n",
      "Epoch 13/150\n",
      "225/225 - 0s - loss: 0.3964 - accuracy: 0.8356 - val_loss: 0.3680 - val_accuracy: 0.8475 - 463ms/epoch - 2ms/step\n",
      "Epoch 14/150\n",
      "225/225 - 0s - loss: 0.3910 - accuracy: 0.8351 - val_loss: 0.3647 - val_accuracy: 0.8487 - 470ms/epoch - 2ms/step\n",
      "Epoch 15/150\n",
      "225/225 - 0s - loss: 0.3873 - accuracy: 0.8371 - val_loss: 0.3616 - val_accuracy: 0.8512 - 450ms/epoch - 2ms/step\n",
      "Epoch 16/150\n",
      "225/225 - 0s - loss: 0.3842 - accuracy: 0.8406 - val_loss: 0.3587 - val_accuracy: 0.8525 - 447ms/epoch - 2ms/step\n",
      "Epoch 17/150\n",
      "225/225 - 0s - loss: 0.3811 - accuracy: 0.8425 - val_loss: 0.3563 - val_accuracy: 0.8562 - 449ms/epoch - 2ms/step\n",
      "Epoch 18/150\n",
      "225/225 - 0s - loss: 0.3778 - accuracy: 0.8451 - val_loss: 0.3542 - val_accuracy: 0.8562 - 469ms/epoch - 2ms/step\n",
      "Epoch 19/150\n",
      "225/225 - 0s - loss: 0.3772 - accuracy: 0.8415 - val_loss: 0.3528 - val_accuracy: 0.8550 - 452ms/epoch - 2ms/step\n",
      "Epoch 20/150\n",
      "225/225 - 0s - loss: 0.3744 - accuracy: 0.8435 - val_loss: 0.3511 - val_accuracy: 0.8562 - 442ms/epoch - 2ms/step\n",
      "Epoch 21/150\n",
      "225/225 - 0s - loss: 0.3752 - accuracy: 0.8431 - val_loss: 0.3493 - val_accuracy: 0.8587 - 449ms/epoch - 2ms/step\n",
      "Epoch 22/150\n",
      "225/225 - 0s - loss: 0.3703 - accuracy: 0.8429 - val_loss: 0.3481 - val_accuracy: 0.8562 - 456ms/epoch - 2ms/step\n",
      "Epoch 23/150\n",
      "225/225 - 0s - loss: 0.3702 - accuracy: 0.8439 - val_loss: 0.3472 - val_accuracy: 0.8500 - 468ms/epoch - 2ms/step\n",
      "Epoch 24/150\n",
      "225/225 - 0s - loss: 0.3677 - accuracy: 0.8474 - val_loss: 0.3460 - val_accuracy: 0.8562 - 479ms/epoch - 2ms/step\n",
      "Epoch 25/150\n",
      "225/225 - 0s - loss: 0.3669 - accuracy: 0.8440 - val_loss: 0.3451 - val_accuracy: 0.8550 - 445ms/epoch - 2ms/step\n",
      "Epoch 26/150\n",
      "225/225 - 0s - loss: 0.3679 - accuracy: 0.8458 - val_loss: 0.3445 - val_accuracy: 0.8537 - 460ms/epoch - 2ms/step\n",
      "Epoch 27/150\n",
      "225/225 - 0s - loss: 0.3632 - accuracy: 0.8453 - val_loss: 0.3437 - val_accuracy: 0.8550 - 448ms/epoch - 2ms/step\n",
      "Epoch 28/150\n",
      "225/225 - 0s - loss: 0.3597 - accuracy: 0.8507 - val_loss: 0.3432 - val_accuracy: 0.8537 - 455ms/epoch - 2ms/step\n",
      "Epoch 29/150\n",
      "225/225 - 0s - loss: 0.3630 - accuracy: 0.8496 - val_loss: 0.3425 - val_accuracy: 0.8537 - 462ms/epoch - 2ms/step\n",
      "Epoch 30/150\n",
      "225/225 - 0s - loss: 0.3605 - accuracy: 0.8485 - val_loss: 0.3420 - val_accuracy: 0.8537 - 482ms/epoch - 2ms/step\n",
      "Epoch 31/150\n",
      "225/225 - 0s - loss: 0.3592 - accuracy: 0.8521 - val_loss: 0.3414 - val_accuracy: 0.8562 - 477ms/epoch - 2ms/step\n",
      "Epoch 32/150\n",
      "225/225 - 0s - loss: 0.3572 - accuracy: 0.8525 - val_loss: 0.3407 - val_accuracy: 0.8537 - 449ms/epoch - 2ms/step\n",
      "Epoch 33/150\n",
      "225/225 - 0s - loss: 0.3588 - accuracy: 0.8501 - val_loss: 0.3404 - val_accuracy: 0.8562 - 472ms/epoch - 2ms/step\n",
      "Epoch 34/150\n",
      "225/225 - 0s - loss: 0.3575 - accuracy: 0.8482 - val_loss: 0.3399 - val_accuracy: 0.8575 - 451ms/epoch - 2ms/step\n",
      "Epoch 35/150\n",
      "225/225 - 0s - loss: 0.3553 - accuracy: 0.8535 - val_loss: 0.3397 - val_accuracy: 0.8562 - 450ms/epoch - 2ms/step\n",
      "Epoch 36/150\n",
      "225/225 - 0s - loss: 0.3560 - accuracy: 0.8531 - val_loss: 0.3388 - val_accuracy: 0.8562 - 455ms/epoch - 2ms/step\n",
      "Epoch 37/150\n",
      "225/225 - 0s - loss: 0.3553 - accuracy: 0.8536 - val_loss: 0.3386 - val_accuracy: 0.8587 - 456ms/epoch - 2ms/step\n",
      "Epoch 38/150\n",
      "225/225 - 0s - loss: 0.3550 - accuracy: 0.8492 - val_loss: 0.3381 - val_accuracy: 0.8587 - 476ms/epoch - 2ms/step\n",
      "Epoch 39/150\n",
      "225/225 - 0s - loss: 0.3547 - accuracy: 0.8511 - val_loss: 0.3383 - val_accuracy: 0.8600 - 454ms/epoch - 2ms/step\n",
      "Epoch 40/150\n",
      "225/225 - 0s - loss: 0.3565 - accuracy: 0.8519 - val_loss: 0.3380 - val_accuracy: 0.8612 - 448ms/epoch - 2ms/step\n",
      "Epoch 41/150\n",
      "225/225 - 0s - loss: 0.3535 - accuracy: 0.8511 - val_loss: 0.3374 - val_accuracy: 0.8600 - 455ms/epoch - 2ms/step\n",
      "Epoch 42/150\n",
      "225/225 - 0s - loss: 0.3510 - accuracy: 0.8567 - val_loss: 0.3369 - val_accuracy: 0.8550 - 471ms/epoch - 2ms/step\n",
      "Epoch 43/150\n",
      "225/225 - 0s - loss: 0.3517 - accuracy: 0.8557 - val_loss: 0.3365 - val_accuracy: 0.8625 - 459ms/epoch - 2ms/step\n",
      "Epoch 44/150\n",
      "225/225 - 0s - loss: 0.3530 - accuracy: 0.8493 - val_loss: 0.3368 - val_accuracy: 0.8562 - 461ms/epoch - 2ms/step\n",
      "Epoch 45/150\n",
      "225/225 - 0s - loss: 0.3490 - accuracy: 0.8547 - val_loss: 0.3362 - val_accuracy: 0.8600 - 451ms/epoch - 2ms/step\n",
      "Epoch 46/150\n",
      "225/225 - 0s - loss: 0.3500 - accuracy: 0.8524 - val_loss: 0.3356 - val_accuracy: 0.8612 - 444ms/epoch - 2ms/step\n",
      "Epoch 47/150\n",
      "225/225 - 0s - loss: 0.3486 - accuracy: 0.8562 - val_loss: 0.3358 - val_accuracy: 0.8612 - 446ms/epoch - 2ms/step\n",
      "Epoch 48/150\n",
      "225/225 - 0s - loss: 0.3513 - accuracy: 0.8521 - val_loss: 0.3357 - val_accuracy: 0.8562 - 454ms/epoch - 2ms/step\n",
      "Epoch 49/150\n",
      "225/225 - 0s - loss: 0.3490 - accuracy: 0.8547 - val_loss: 0.3347 - val_accuracy: 0.8587 - 482ms/epoch - 2ms/step\n",
      "Epoch 50/150\n",
      "225/225 - 0s - loss: 0.3485 - accuracy: 0.8549 - val_loss: 0.3350 - val_accuracy: 0.8575 - 470ms/epoch - 2ms/step\n",
      "Epoch 51/150\n",
      "225/225 - 0s - loss: 0.3466 - accuracy: 0.8565 - val_loss: 0.3347 - val_accuracy: 0.8575 - 469ms/epoch - 2ms/step\n",
      "Epoch 52/150\n",
      "225/225 - 0s - loss: 0.3476 - accuracy: 0.8550 - val_loss: 0.3346 - val_accuracy: 0.8550 - 465ms/epoch - 2ms/step\n",
      "Epoch 53/150\n",
      "225/225 - 0s - loss: 0.3475 - accuracy: 0.8554 - val_loss: 0.3340 - val_accuracy: 0.8587 - 474ms/epoch - 2ms/step\n",
      "Epoch 54/150\n",
      "225/225 - 0s - loss: 0.3467 - accuracy: 0.8587 - val_loss: 0.3347 - val_accuracy: 0.8525 - 463ms/epoch - 2ms/step\n",
      "Epoch 55/150\n",
      "225/225 - 0s - loss: 0.3464 - accuracy: 0.8576 - val_loss: 0.3342 - val_accuracy: 0.8562 - 455ms/epoch - 2ms/step\n",
      "Epoch 56/150\n",
      "225/225 - 0s - loss: 0.3465 - accuracy: 0.8557 - val_loss: 0.3337 - val_accuracy: 0.8562 - 477ms/epoch - 2ms/step\n",
      "Epoch 57/150\n",
      "225/225 - 0s - loss: 0.3484 - accuracy: 0.8529 - val_loss: 0.3335 - val_accuracy: 0.8562 - 448ms/epoch - 2ms/step\n",
      "Epoch 58/150\n",
      "225/225 - 0s - loss: 0.3451 - accuracy: 0.8589 - val_loss: 0.3333 - val_accuracy: 0.8562 - 475ms/epoch - 2ms/step\n",
      "Epoch 59/150\n",
      "225/225 - 0s - loss: 0.3456 - accuracy: 0.8564 - val_loss: 0.3336 - val_accuracy: 0.8537 - 479ms/epoch - 2ms/step\n",
      "Epoch 60/150\n",
      "225/225 - 0s - loss: 0.3437 - accuracy: 0.8581 - val_loss: 0.3329 - val_accuracy: 0.8562 - 483ms/epoch - 2ms/step\n",
      "Epoch 61/150\n",
      "225/225 - 0s - loss: 0.3448 - accuracy: 0.8589 - val_loss: 0.3328 - val_accuracy: 0.8562 - 456ms/epoch - 2ms/step\n",
      "Epoch 62/150\n",
      "225/225 - 0s - loss: 0.3445 - accuracy: 0.8569 - val_loss: 0.3326 - val_accuracy: 0.8575 - 440ms/epoch - 2ms/step\n",
      "Epoch 63/150\n",
      "225/225 - 0s - loss: 0.3423 - accuracy: 0.8565 - val_loss: 0.3323 - val_accuracy: 0.8562 - 483ms/epoch - 2ms/step\n",
      "Epoch 64/150\n",
      "225/225 - 0s - loss: 0.3453 - accuracy: 0.8572 - val_loss: 0.3323 - val_accuracy: 0.8550 - 466ms/epoch - 2ms/step\n",
      "Epoch 65/150\n",
      "225/225 - 0s - loss: 0.3446 - accuracy: 0.8567 - val_loss: 0.3319 - val_accuracy: 0.8562 - 449ms/epoch - 2ms/step\n",
      "Epoch 66/150\n",
      "225/225 - 0s - loss: 0.3441 - accuracy: 0.8529 - val_loss: 0.3320 - val_accuracy: 0.8575 - 470ms/epoch - 2ms/step\n",
      "Epoch 67/150\n",
      "225/225 - 0s - loss: 0.3443 - accuracy: 0.8556 - val_loss: 0.3319 - val_accuracy: 0.8562 - 472ms/epoch - 2ms/step\n",
      "Epoch 68/150\n",
      "225/225 - 0s - loss: 0.3409 - accuracy: 0.8578 - val_loss: 0.3317 - val_accuracy: 0.8575 - 449ms/epoch - 2ms/step\n",
      "Epoch 69/150\n",
      "225/225 - 0s - loss: 0.3418 - accuracy: 0.8581 - val_loss: 0.3314 - val_accuracy: 0.8562 - 480ms/epoch - 2ms/step\n",
      "Epoch 70/150\n",
      "225/225 - 0s - loss: 0.3416 - accuracy: 0.8586 - val_loss: 0.3315 - val_accuracy: 0.8575 - 479ms/epoch - 2ms/step\n",
      "Epoch 71/150\n",
      "225/225 - 0s - loss: 0.3410 - accuracy: 0.8604 - val_loss: 0.3313 - val_accuracy: 0.8550 - 453ms/epoch - 2ms/step\n",
      "Epoch 72/150\n",
      "225/225 - 0s - loss: 0.3424 - accuracy: 0.8582 - val_loss: 0.3311 - val_accuracy: 0.8575 - 449ms/epoch - 2ms/step\n",
      "Epoch 73/150\n",
      "225/225 - 0s - loss: 0.3391 - accuracy: 0.8606 - val_loss: 0.3309 - val_accuracy: 0.8562 - 471ms/epoch - 2ms/step\n",
      "Epoch 74/150\n",
      "225/225 - 0s - loss: 0.3438 - accuracy: 0.8590 - val_loss: 0.3309 - val_accuracy: 0.8550 - 478ms/epoch - 2ms/step\n",
      "Epoch 75/150\n",
      "225/225 - 0s - loss: 0.3385 - accuracy: 0.8647 - val_loss: 0.3308 - val_accuracy: 0.8562 - 469ms/epoch - 2ms/step\n",
      "Epoch 76/150\n",
      "225/225 - 0s - loss: 0.3405 - accuracy: 0.8604 - val_loss: 0.3308 - val_accuracy: 0.8587 - 477ms/epoch - 2ms/step\n",
      "Epoch 77/150\n",
      "225/225 - 0s - loss: 0.3424 - accuracy: 0.8610 - val_loss: 0.3306 - val_accuracy: 0.8537 - 471ms/epoch - 2ms/step\n",
      "Epoch 78/150\n",
      "225/225 - 0s - loss: 0.3393 - accuracy: 0.8593 - val_loss: 0.3301 - val_accuracy: 0.8562 - 463ms/epoch - 2ms/step\n",
      "Epoch 79/150\n",
      "225/225 - 0s - loss: 0.3390 - accuracy: 0.8592 - val_loss: 0.3306 - val_accuracy: 0.8537 - 468ms/epoch - 2ms/step\n",
      "Epoch 80/150\n",
      "225/225 - 0s - loss: 0.3381 - accuracy: 0.8593 - val_loss: 0.3310 - val_accuracy: 0.8537 - 461ms/epoch - 2ms/step\n",
      "Epoch 81/150\n",
      "225/225 - 0s - loss: 0.3408 - accuracy: 0.8568 - val_loss: 0.3308 - val_accuracy: 0.8587 - 472ms/epoch - 2ms/step\n",
      "Epoch 82/150\n",
      "225/225 - 0s - loss: 0.3408 - accuracy: 0.8601 - val_loss: 0.3307 - val_accuracy: 0.8562 - 460ms/epoch - 2ms/step\n",
      "Epoch 83/150\n",
      "225/225 - 0s - loss: 0.3375 - accuracy: 0.8587 - val_loss: 0.3304 - val_accuracy: 0.8550 - 460ms/epoch - 2ms/step\n",
      "Epoch 84/150\n",
      "225/225 - 1s - loss: 0.3377 - accuracy: 0.8622 - val_loss: 0.3298 - val_accuracy: 0.8550 - 659ms/epoch - 3ms/step\n",
      "Epoch 85/150\n",
      "225/225 - 1s - loss: 0.3366 - accuracy: 0.8622 - val_loss: 0.3299 - val_accuracy: 0.8550 - 652ms/epoch - 3ms/step\n",
      "Epoch 86/150\n",
      "225/225 - 1s - loss: 0.3396 - accuracy: 0.8592 - val_loss: 0.3298 - val_accuracy: 0.8562 - 653ms/epoch - 3ms/step\n",
      "Epoch 87/150\n",
      "225/225 - 1s - loss: 0.3384 - accuracy: 0.8608 - val_loss: 0.3299 - val_accuracy: 0.8550 - 682ms/epoch - 3ms/step\n",
      "Epoch 88/150\n",
      "225/225 - 1s - loss: 0.3362 - accuracy: 0.8611 - val_loss: 0.3296 - val_accuracy: 0.8550 - 636ms/epoch - 3ms/step\n",
      "Epoch 89/150\n",
      "225/225 - 0s - loss: 0.3370 - accuracy: 0.8583 - val_loss: 0.3296 - val_accuracy: 0.8550 - 457ms/epoch - 2ms/step\n",
      "Epoch 90/150\n",
      "225/225 - 0s - loss: 0.3391 - accuracy: 0.8604 - val_loss: 0.3300 - val_accuracy: 0.8550 - 477ms/epoch - 2ms/step\n",
      "Epoch 91/150\n",
      "225/225 - 0s - loss: 0.3368 - accuracy: 0.8611 - val_loss: 0.3301 - val_accuracy: 0.8562 - 463ms/epoch - 2ms/step\n",
      "Epoch 92/150\n",
      "225/225 - 0s - loss: 0.3365 - accuracy: 0.8622 - val_loss: 0.3299 - val_accuracy: 0.8537 - 466ms/epoch - 2ms/step\n",
      "Epoch 93/150\n",
      "225/225 - 0s - loss: 0.3373 - accuracy: 0.8590 - val_loss: 0.3294 - val_accuracy: 0.8537 - 458ms/epoch - 2ms/step\n",
      "Epoch 94/150\n",
      "225/225 - 0s - loss: 0.3363 - accuracy: 0.8614 - val_loss: 0.3297 - val_accuracy: 0.8550 - 447ms/epoch - 2ms/step\n",
      "Epoch 95/150\n",
      "225/225 - 0s - loss: 0.3364 - accuracy: 0.8600 - val_loss: 0.3293 - val_accuracy: 0.8537 - 448ms/epoch - 2ms/step\n",
      "Epoch 96/150\n",
      "225/225 - 0s - loss: 0.3351 - accuracy: 0.8611 - val_loss: 0.3294 - val_accuracy: 0.8537 - 452ms/epoch - 2ms/step\n",
      "Epoch 97/150\n",
      "225/225 - 0s - loss: 0.3359 - accuracy: 0.8603 - val_loss: 0.3295 - val_accuracy: 0.8537 - 449ms/epoch - 2ms/step\n",
      "Epoch 98/150\n",
      "225/225 - 0s - loss: 0.3343 - accuracy: 0.8621 - val_loss: 0.3298 - val_accuracy: 0.8550 - 483ms/epoch - 2ms/step\n",
      "Epoch 99/150\n",
      "225/225 - 0s - loss: 0.3374 - accuracy: 0.8612 - val_loss: 0.3298 - val_accuracy: 0.8537 - 472ms/epoch - 2ms/step\n",
      "Epoch 100/150\n",
      "225/225 - 0s - loss: 0.3341 - accuracy: 0.8614 - val_loss: 0.3298 - val_accuracy: 0.8537 - 457ms/epoch - 2ms/step\n",
      "Epoch 101/150\n",
      "225/225 - 0s - loss: 0.3362 - accuracy: 0.8632 - val_loss: 0.3297 - val_accuracy: 0.8550 - 469ms/epoch - 2ms/step\n",
      "Epoch 102/150\n",
      "225/225 - 0s - loss: 0.3374 - accuracy: 0.8608 - val_loss: 0.3297 - val_accuracy: 0.8550 - 468ms/epoch - 2ms/step\n",
      "Epoch 103/150\n",
      "225/225 - 0s - loss: 0.3358 - accuracy: 0.8603 - val_loss: 0.3296 - val_accuracy: 0.8562 - 478ms/epoch - 2ms/step\n",
      "Epoch 104/150\n",
      "225/225 - 0s - loss: 0.3395 - accuracy: 0.8581 - val_loss: 0.3300 - val_accuracy: 0.8537 - 490ms/epoch - 2ms/step\n",
      "Epoch 105/150\n",
      "225/225 - 0s - loss: 0.3327 - accuracy: 0.8650 - val_loss: 0.3299 - val_accuracy: 0.8562 - 449ms/epoch - 2ms/step\n",
      "Epoch 106/150\n",
      "225/225 - 0s - loss: 0.3351 - accuracy: 0.8597 - val_loss: 0.3297 - val_accuracy: 0.8550 - 457ms/epoch - 2ms/step\n",
      "Epoch 107/150\n",
      "225/225 - 0s - loss: 0.3325 - accuracy: 0.8611 - val_loss: 0.3299 - val_accuracy: 0.8550 - 458ms/epoch - 2ms/step\n",
      "Epoch 108/150\n",
      "225/225 - 0s - loss: 0.3349 - accuracy: 0.8617 - val_loss: 0.3296 - val_accuracy: 0.8575 - 488ms/epoch - 2ms/step\n",
      "Epoch 109/150\n",
      "225/225 - 0s - loss: 0.3339 - accuracy: 0.8604 - val_loss: 0.3296 - val_accuracy: 0.8562 - 494ms/epoch - 2ms/step\n",
      "Epoch 110/150\n",
      "225/225 - 0s - loss: 0.3363 - accuracy: 0.8606 - val_loss: 0.3295 - val_accuracy: 0.8550 - 455ms/epoch - 2ms/step\n",
      "Epoch 111/150\n",
      "225/225 - 0s - loss: 0.3347 - accuracy: 0.8656 - val_loss: 0.3297 - val_accuracy: 0.8537 - 461ms/epoch - 2ms/step\n",
      "Epoch 112/150\n",
      "225/225 - 0s - loss: 0.3308 - accuracy: 0.8635 - val_loss: 0.3291 - val_accuracy: 0.8550 - 450ms/epoch - 2ms/step\n",
      "Epoch 113/150\n",
      "225/225 - 0s - loss: 0.3340 - accuracy: 0.8633 - val_loss: 0.3293 - val_accuracy: 0.8562 - 466ms/epoch - 2ms/step\n",
      "Epoch 114/150\n",
      "225/225 - 0s - loss: 0.3335 - accuracy: 0.8629 - val_loss: 0.3294 - val_accuracy: 0.8562 - 475ms/epoch - 2ms/step\n",
      "Epoch 115/150\n",
      "225/225 - 0s - loss: 0.3312 - accuracy: 0.8640 - val_loss: 0.3291 - val_accuracy: 0.8550 - 488ms/epoch - 2ms/step\n",
      "Epoch 116/150\n",
      "225/225 - 0s - loss: 0.3333 - accuracy: 0.8640 - val_loss: 0.3293 - val_accuracy: 0.8537 - 464ms/epoch - 2ms/step\n",
      "Epoch 117/150\n",
      "225/225 - 0s - loss: 0.3341 - accuracy: 0.8657 - val_loss: 0.3295 - val_accuracy: 0.8562 - 456ms/epoch - 2ms/step\n",
      "Epoch 118/150\n",
      "225/225 - 0s - loss: 0.3324 - accuracy: 0.8628 - val_loss: 0.3294 - val_accuracy: 0.8550 - 455ms/epoch - 2ms/step\n",
      "Epoch 119/150\n",
      "225/225 - 0s - loss: 0.3324 - accuracy: 0.8617 - val_loss: 0.3297 - val_accuracy: 0.8562 - 453ms/epoch - 2ms/step\n",
      "Epoch 120/150\n",
      "225/225 - 0s - loss: 0.3319 - accuracy: 0.8644 - val_loss: 0.3300 - val_accuracy: 0.8562 - 454ms/epoch - 2ms/step\n",
      "Epoch 121/150\n",
      "225/225 - 0s - loss: 0.3317 - accuracy: 0.8629 - val_loss: 0.3303 - val_accuracy: 0.8537 - 460ms/epoch - 2ms/step\n",
      "Epoch 122/150\n",
      "225/225 - 0s - loss: 0.3332 - accuracy: 0.8633 - val_loss: 0.3302 - val_accuracy: 0.8562 - 443ms/epoch - 2ms/step\n",
      "Epoch 123/150\n",
      "225/225 - 0s - loss: 0.3300 - accuracy: 0.8658 - val_loss: 0.3295 - val_accuracy: 0.8562 - 453ms/epoch - 2ms/step\n",
      "Epoch 124/150\n",
      "225/225 - 0s - loss: 0.3307 - accuracy: 0.8619 - val_loss: 0.3296 - val_accuracy: 0.8575 - 456ms/epoch - 2ms/step\n",
      "Epoch 125/150\n",
      "225/225 - 0s - loss: 0.3305 - accuracy: 0.8644 - val_loss: 0.3297 - val_accuracy: 0.8575 - 452ms/epoch - 2ms/step\n",
      "Epoch 126/150\n",
      "225/225 - 0s - loss: 0.3314 - accuracy: 0.8649 - val_loss: 0.3293 - val_accuracy: 0.8562 - 483ms/epoch - 2ms/step\n",
      "Epoch 127/150\n",
      "225/225 - 0s - loss: 0.3304 - accuracy: 0.8658 - val_loss: 0.3291 - val_accuracy: 0.8562 - 446ms/epoch - 2ms/step\n",
      "Epoch 128/150\n",
      "225/225 - 0s - loss: 0.3325 - accuracy: 0.8646 - val_loss: 0.3291 - val_accuracy: 0.8575 - 477ms/epoch - 2ms/step\n",
      "Epoch 129/150\n",
      "225/225 - 0s - loss: 0.3300 - accuracy: 0.8640 - val_loss: 0.3292 - val_accuracy: 0.8562 - 451ms/epoch - 2ms/step\n",
      "Epoch 130/150\n",
      "225/225 - 0s - loss: 0.3321 - accuracy: 0.8624 - val_loss: 0.3295 - val_accuracy: 0.8562 - 466ms/epoch - 2ms/step\n",
      "Epoch 131/150\n",
      "225/225 - 0s - loss: 0.3334 - accuracy: 0.8643 - val_loss: 0.3295 - val_accuracy: 0.8587 - 462ms/epoch - 2ms/step\n",
      "Epoch 132/150\n",
      "225/225 - 0s - loss: 0.3328 - accuracy: 0.8628 - val_loss: 0.3293 - val_accuracy: 0.8600 - 491ms/epoch - 2ms/step\n",
      "Epoch 133/150\n",
      "225/225 - 0s - loss: 0.3295 - accuracy: 0.8665 - val_loss: 0.3288 - val_accuracy: 0.8575 - 453ms/epoch - 2ms/step\n",
      "Epoch 134/150\n",
      "225/225 - 0s - loss: 0.3307 - accuracy: 0.8657 - val_loss: 0.3291 - val_accuracy: 0.8575 - 455ms/epoch - 2ms/step\n",
      "Epoch 135/150\n",
      "225/225 - 0s - loss: 0.3310 - accuracy: 0.8629 - val_loss: 0.3295 - val_accuracy: 0.8600 - 488ms/epoch - 2ms/step\n",
      "Epoch 136/150\n",
      "225/225 - 0s - loss: 0.3272 - accuracy: 0.8639 - val_loss: 0.3293 - val_accuracy: 0.8562 - 460ms/epoch - 2ms/step\n",
      "Epoch 137/150\n",
      "225/225 - 0s - loss: 0.3308 - accuracy: 0.8649 - val_loss: 0.3291 - val_accuracy: 0.8562 - 479ms/epoch - 2ms/step\n",
      "Epoch 138/150\n",
      "225/225 - 0s - loss: 0.3286 - accuracy: 0.8647 - val_loss: 0.3293 - val_accuracy: 0.8575 - 468ms/epoch - 2ms/step\n",
      "Epoch 139/150\n",
      "225/225 - 0s - loss: 0.3285 - accuracy: 0.8664 - val_loss: 0.3296 - val_accuracy: 0.8562 - 459ms/epoch - 2ms/step\n",
      "Epoch 140/150\n",
      "225/225 - 0s - loss: 0.3277 - accuracy: 0.8632 - val_loss: 0.3292 - val_accuracy: 0.8562 - 478ms/epoch - 2ms/step\n",
      "Epoch 141/150\n",
      "225/225 - 0s - loss: 0.3307 - accuracy: 0.8653 - val_loss: 0.3293 - val_accuracy: 0.8575 - 474ms/epoch - 2ms/step\n",
      "Epoch 142/150\n",
      "225/225 - 0s - loss: 0.3288 - accuracy: 0.8649 - val_loss: 0.3291 - val_accuracy: 0.8562 - 456ms/epoch - 2ms/step\n",
      "Epoch 143/150\n",
      "225/225 - 0s - loss: 0.3267 - accuracy: 0.8674 - val_loss: 0.3294 - val_accuracy: 0.8612 - 473ms/epoch - 2ms/step\n",
      "Epoch 144/150\n",
      "225/225 - 0s - loss: 0.3287 - accuracy: 0.8619 - val_loss: 0.3290 - val_accuracy: 0.8550 - 459ms/epoch - 2ms/step\n",
      "Epoch 145/150\n",
      "225/225 - 0s - loss: 0.3266 - accuracy: 0.8669 - val_loss: 0.3294 - val_accuracy: 0.8575 - 470ms/epoch - 2ms/step\n",
      "Epoch 146/150\n",
      "225/225 - 0s - loss: 0.3292 - accuracy: 0.8618 - val_loss: 0.3290 - val_accuracy: 0.8575 - 482ms/epoch - 2ms/step\n",
      "Epoch 147/150\n",
      "225/225 - 0s - loss: 0.3271 - accuracy: 0.8646 - val_loss: 0.3290 - val_accuracy: 0.8575 - 469ms/epoch - 2ms/step\n",
      "Epoch 148/150\n",
      "225/225 - 0s - loss: 0.3314 - accuracy: 0.8644 - val_loss: 0.3291 - val_accuracy: 0.8575 - 445ms/epoch - 2ms/step\n",
      "Epoch 149/150\n",
      "225/225 - 0s - loss: 0.3273 - accuracy: 0.8646 - val_loss: 0.3294 - val_accuracy: 0.8575 - 464ms/epoch - 2ms/step\n",
      "Epoch 150/150\n",
      "225/225 - 0s - loss: 0.3252 - accuracy: 0.8657 - val_loss: 0.3297 - val_accuracy: 0.8550 - 486ms/epoch - 2ms/step\n"
     ]
    }
   ],
   "source": [
    "history_1 = model_1.fit(X_train, \n",
    "                    y_train,\n",
    "                    validation_split=0.1, \n",
    "                    epochs=150, \n",
    "                    verbose=2)"
   ]
  },
  {
   "cell_type": "markdown",
   "metadata": {
    "id": "EFMmpLAuBC4n"
   },
   "source": [
    "### **Plotting Accuracy vs Epoch Curve**"
   ]
  },
  {
   "cell_type": "code",
   "execution_count": 65,
   "metadata": {
    "colab": {
     "base_uri": "https://localhost:8080/",
     "height": 295
    },
    "id": "oe8CUImT-8xf",
    "outputId": "62ecc87c-cc34-4021-c6bf-b284f05b80ab"
   },
   "outputs": [
    {
     "data": {
      "image/png": "[encoded data removed]",
      "text/plain": [
       "<Figure size 432x288 with 1 Axes>"
      ]
     },
     "metadata": {
      "needs_background": "light"
     },
     "output_type": "display_data"
    }
   ],
   "source": [
    "plt.plot(history_1.history['accuracy'])\n",
    "plt.plot(history_1.history['val_accuracy'])\n",
    "plt.title('Accuracy vs Epochs')\n",
    "plt.ylabel('Accuracy')\n",
    "plt.xlabel('Epoch')\n",
    "plt.legend(['Train', 'Validation'], loc='lower right')\n",
    "plt.show()"
   ]
  },
  {
   "cell_type": "markdown",
   "metadata": {
    "id": "K8cyNSpIjURF"
   },
   "source": [
    "**Observations:**\n",
    "\n",
    "- The training accuracy is fluctuating but overall it is increasing with the increase in the epochs.\n",
    "- The validation accuracy is consitent between ~60 to 140 epochs.\n",
    "- The model is giving reasonable accuracy. the accuracy of the model on the training data is about 86% and the validation accuracy is about 85%.\n",
    "- The validation accuracy is closer to the training accuracy. This indicates that the model is giving a generalized performance."
   ]
  },
  {
   "cell_type": "markdown",
   "metadata": {
    "id": "e3lV6QFMVqQh"
   },
   "source": [
    "Let's try to increase the model complexity by tuning some of the hyper-parameters mentioned earlier and check if we can improve the model performance. Out of all the options we have, let's try to change the number of hidden layers, the number of neurons in each hidden layer, the activation function in the hidden layer, and the optimizer from **SGD** to **adam**. Also, we have observed that validation accuracy became constant after some epochs, let's try less number of epochs which would also reduce the computation time. "
   ]
  },
  {
   "cell_type": "markdown",
   "metadata": {
    "id": "TcLYYkZo6PaW"
   },
   "source": [
    "First, we need to clear the previous model's history from the session. In Keras, we need special command to clear the model's history otherwise the previous model history remains in the backend.\n",
    "Also, let's fix the seed again after clearing the backend."
   ]
  },
  {
   "cell_type": "code",
   "execution_count": 78,
   "metadata": {
    "id": "_GQu0Mv56_IH"
   },
   "outputs": [],
   "source": [
    "# Clearing backend\n",
    "from tensorflow.keras import backend\n",
    "backend.clear_session()"
   ]
  },
  {
   "cell_type": "code",
   "execution_count": 79,
   "metadata": {
    "id": "7PIxvVI0LqbV"
   },
   "outputs": [],
   "source": [
    "# Fixing the seed for random number generators\n",
    "np.random.seed(42)\n",
    "\n",
    "import random\n",
    "random.seed(42)\n",
    "\n",
    "tf.random.set_seed(42)"
   ]
  },
  {
   "cell_type": "code",
   "execution_count": 80,
   "metadata": {
    "id": "S23oRyS2XJZW"
   },
   "outputs": [],
   "source": [
    "# We will be adding the layers sequentially\n",
    "model_2 = Sequential()\n",
    "# First hidden layer with 128 neurons and relu activation function, the input_shape tuple denotes number of independent variables\n",
    "model_2.add(Dense(128, activation = 'relu', input_shape = (11, )))\n",
    "\n",
    "# Second hidden layer with 64 neurons and relu activation function\n",
    "model_2.add(Dense(64, activation = 'relu'))\n",
    "\n",
    "# Second hidden layer with 32 neurons and relu activation function\n",
    "model_2.add(Dense(32, activation = 'relu'))\n",
    "\n",
    "# Output layer with only one neuron and sigmoid as activation function which will give the probability of students getting admitted into UCLA  \n",
    "model_2.add(Dense(1, activation = 'sigmoid'))"
   ]
  },
  {
   "cell_type": "code",
   "execution_count": 81,
   "metadata": {
    "colab": {
     "base_uri": "https://localhost:8080/"
    },
    "id": "DT1QFebrV9ZC",
    "outputId": "e6c1a57e-ac89-4665-8367-ca2510634431"
   },
   "outputs": [
    {
     "name": "stdout",
     "output_type": "stream",
     "text": [
      "Model: \"sequential\"\n",
      "_________________________________________________________________\n",
      " Layer (type)                Output Shape              Param #   \n",
      "=================================================================\n",
      " dense (Dense)               (None, 128)               1536      \n",
      "                                                                 \n",
      " dense_1 (Dense)             (None, 64)                8256      \n",
      "                                                                 \n",
      " dense_2 (Dense)             (None, 32)                2080      \n",
      "                                                                 \n",
      " dense_3 (Dense)             (None, 1)                 33        \n",
      "                                                                 \n",
      "=================================================================\n",
      "Total params: 11,905\n",
      "Trainable params: 11,905\n",
      "Non-trainable params: 0\n",
      "_________________________________________________________________\n"
     ]
    }
   ],
   "source": [
    "# Compliling the model with binary crossentropy as loss, Adam as optimizer and accuracy as metrics\n",
    "model_2.compile(loss = 'binary_crossentropy', optimizer = 'adam', metrics = ['accuracy'])\n",
    "# Printing the summary of the model\n",
    "model_2.summary()"
   ]
  },
  {
   "cell_type": "code",
   "execution_count": 82,
   "metadata": {
    "colab": {
     "base_uri": "https://localhost:8080/"
    },
    "id": "d0mHas6KV9f9",
    "outputId": "e60f1d77-a6ad-472a-826e-bd9fe12c00cf"
   },
   "outputs": [
    {
     "name": "stdout",
     "output_type": "stream",
     "text": [
      "Epoch 1/100\n",
      "225/225 - 1s - loss: 0.4374 - accuracy: 0.8112 - val_loss: 0.3610 - val_accuracy: 0.8487 - 1s/epoch - 5ms/step\n",
      "Epoch 2/100\n",
      "225/225 - 0s - loss: 0.3598 - accuracy: 0.8479 - val_loss: 0.3436 - val_accuracy: 0.8600 - 482ms/epoch - 2ms/step\n",
      "Epoch 3/100\n",
      "225/225 - 0s - loss: 0.3442 - accuracy: 0.8581 - val_loss: 0.3516 - val_accuracy: 0.8587 - 495ms/epoch - 2ms/step\n",
      "Epoch 4/100\n",
      "225/225 - 1s - loss: 0.3380 - accuracy: 0.8628 - val_loss: 0.3350 - val_accuracy: 0.8537 - 507ms/epoch - 2ms/step\n",
      "Epoch 5/100\n",
      "225/225 - 0s - loss: 0.3326 - accuracy: 0.8646 - val_loss: 0.3378 - val_accuracy: 0.8537 - 490ms/epoch - 2ms/step\n",
      "Epoch 6/100\n",
      "225/225 - 0s - loss: 0.3313 - accuracy: 0.8636 - val_loss: 0.3366 - val_accuracy: 0.8537 - 485ms/epoch - 2ms/step\n",
      "Epoch 7/100\n",
      "225/225 - 0s - loss: 0.3262 - accuracy: 0.8679 - val_loss: 0.3338 - val_accuracy: 0.8575 - 477ms/epoch - 2ms/step\n",
      "Epoch 8/100\n",
      "225/225 - 0s - loss: 0.3245 - accuracy: 0.8676 - val_loss: 0.3349 - val_accuracy: 0.8587 - 481ms/epoch - 2ms/step\n",
      "Epoch 9/100\n",
      "225/225 - 0s - loss: 0.3209 - accuracy: 0.8686 - val_loss: 0.3400 - val_accuracy: 0.8562 - 478ms/epoch - 2ms/step\n",
      "Epoch 10/100\n",
      "225/225 - 0s - loss: 0.3182 - accuracy: 0.8690 - val_loss: 0.3394 - val_accuracy: 0.8575 - 472ms/epoch - 2ms/step\n",
      "Epoch 11/100\n",
      "225/225 - 0s - loss: 0.3145 - accuracy: 0.8722 - val_loss: 0.3376 - val_accuracy: 0.8625 - 472ms/epoch - 2ms/step\n",
      "Epoch 12/100\n",
      "225/225 - 0s - loss: 0.3137 - accuracy: 0.8711 - val_loss: 0.3362 - val_accuracy: 0.8537 - 493ms/epoch - 2ms/step\n",
      "Epoch 13/100\n",
      "225/225 - 0s - loss: 0.3121 - accuracy: 0.8699 - val_loss: 0.3383 - val_accuracy: 0.8600 - 475ms/epoch - 2ms/step\n",
      "Epoch 14/100\n",
      "225/225 - 1s - loss: 0.3074 - accuracy: 0.8735 - val_loss: 0.3422 - val_accuracy: 0.8562 - 514ms/epoch - 2ms/step\n",
      "Epoch 15/100\n",
      "225/225 - 1s - loss: 0.3042 - accuracy: 0.8751 - val_loss: 0.3418 - val_accuracy: 0.8550 - 507ms/epoch - 2ms/step\n",
      "Epoch 16/100\n",
      "225/225 - 0s - loss: 0.3026 - accuracy: 0.8747 - val_loss: 0.3368 - val_accuracy: 0.8587 - 475ms/epoch - 2ms/step\n",
      "Epoch 17/100\n",
      "225/225 - 0s - loss: 0.3004 - accuracy: 0.8736 - val_loss: 0.3396 - val_accuracy: 0.8537 - 473ms/epoch - 2ms/step\n",
      "Epoch 18/100\n",
      "225/225 - 0s - loss: 0.2946 - accuracy: 0.8804 - val_loss: 0.3440 - val_accuracy: 0.8537 - 478ms/epoch - 2ms/step\n",
      "Epoch 19/100\n",
      "225/225 - 0s - loss: 0.2928 - accuracy: 0.8792 - val_loss: 0.3481 - val_accuracy: 0.8625 - 473ms/epoch - 2ms/step\n",
      "Epoch 20/100\n",
      "225/225 - 0s - loss: 0.2916 - accuracy: 0.8797 - val_loss: 0.3503 - val_accuracy: 0.8550 - 482ms/epoch - 2ms/step\n",
      "Epoch 21/100\n",
      "225/225 - 0s - loss: 0.2861 - accuracy: 0.8831 - val_loss: 0.3503 - val_accuracy: 0.8612 - 497ms/epoch - 2ms/step\n",
      "Epoch 22/100\n",
      "225/225 - 0s - loss: 0.2837 - accuracy: 0.8808 - val_loss: 0.3552 - val_accuracy: 0.8575 - 469ms/epoch - 2ms/step\n",
      "Epoch 23/100\n",
      "225/225 - 1s - loss: 0.2794 - accuracy: 0.8829 - val_loss: 0.3538 - val_accuracy: 0.8587 - 512ms/epoch - 2ms/step\n",
      "Epoch 24/100\n",
      "225/225 - 0s - loss: 0.2753 - accuracy: 0.8883 - val_loss: 0.3533 - val_accuracy: 0.8550 - 472ms/epoch - 2ms/step\n",
      "Epoch 25/100\n",
      "225/225 - 0s - loss: 0.2741 - accuracy: 0.8878 - val_loss: 0.3670 - val_accuracy: 0.8587 - 490ms/epoch - 2ms/step\n",
      "Epoch 26/100\n",
      "225/225 - 0s - loss: 0.2709 - accuracy: 0.8850 - val_loss: 0.3634 - val_accuracy: 0.8525 - 468ms/epoch - 2ms/step\n",
      "Epoch 27/100\n",
      "225/225 - 1s - loss: 0.2654 - accuracy: 0.8886 - val_loss: 0.3540 - val_accuracy: 0.8587 - 516ms/epoch - 2ms/step\n",
      "Epoch 28/100\n",
      "225/225 - 1s - loss: 0.2612 - accuracy: 0.8931 - val_loss: 0.3857 - val_accuracy: 0.8537 - 501ms/epoch - 2ms/step\n",
      "Epoch 29/100\n",
      "225/225 - 0s - loss: 0.2590 - accuracy: 0.8906 - val_loss: 0.3747 - val_accuracy: 0.8525 - 470ms/epoch - 2ms/step\n",
      "Epoch 30/100\n",
      "225/225 - 0s - loss: 0.2557 - accuracy: 0.8950 - val_loss: 0.3692 - val_accuracy: 0.8475 - 463ms/epoch - 2ms/step\n",
      "Epoch 31/100\n",
      "225/225 - 0s - loss: 0.2491 - accuracy: 0.8958 - val_loss: 0.3773 - val_accuracy: 0.8537 - 467ms/epoch - 2ms/step\n",
      "Epoch 32/100\n",
      "225/225 - 0s - loss: 0.2469 - accuracy: 0.8947 - val_loss: 0.3740 - val_accuracy: 0.8525 - 483ms/epoch - 2ms/step\n",
      "Epoch 33/100\n",
      "225/225 - 1s - loss: 0.2430 - accuracy: 0.8957 - val_loss: 0.3905 - val_accuracy: 0.8587 - 509ms/epoch - 2ms/step\n",
      "Epoch 34/100\n",
      "225/225 - 0s - loss: 0.2424 - accuracy: 0.8965 - val_loss: 0.3937 - val_accuracy: 0.8475 - 488ms/epoch - 2ms/step\n",
      "Epoch 35/100\n",
      "225/225 - 0s - loss: 0.2379 - accuracy: 0.9006 - val_loss: 0.3941 - val_accuracy: 0.8500 - 485ms/epoch - 2ms/step\n",
      "Epoch 36/100\n",
      "225/225 - 0s - loss: 0.2347 - accuracy: 0.9010 - val_loss: 0.4045 - val_accuracy: 0.8450 - 493ms/epoch - 2ms/step\n",
      "Epoch 37/100\n",
      "225/225 - 0s - loss: 0.2263 - accuracy: 0.9051 - val_loss: 0.3954 - val_accuracy: 0.8462 - 480ms/epoch - 2ms/step\n",
      "Epoch 38/100\n",
      "225/225 - 1s - loss: 0.2241 - accuracy: 0.9076 - val_loss: 0.4031 - val_accuracy: 0.8587 - 508ms/epoch - 2ms/step\n",
      "Epoch 39/100\n",
      "225/225 - 0s - loss: 0.2200 - accuracy: 0.9093 - val_loss: 0.4181 - val_accuracy: 0.8413 - 492ms/epoch - 2ms/step\n",
      "Epoch 40/100\n",
      "225/225 - 0s - loss: 0.2194 - accuracy: 0.9093 - val_loss: 0.4150 - val_accuracy: 0.8487 - 483ms/epoch - 2ms/step\n",
      "Epoch 41/100\n",
      "225/225 - 1s - loss: 0.2155 - accuracy: 0.9079 - val_loss: 0.4168 - val_accuracy: 0.8512 - 791ms/epoch - 4ms/step\n",
      "Epoch 42/100\n",
      "225/225 - 1s - loss: 0.2119 - accuracy: 0.9112 - val_loss: 0.4344 - val_accuracy: 0.8487 - 685ms/epoch - 3ms/step\n",
      "Epoch 43/100\n",
      "225/225 - 1s - loss: 0.2110 - accuracy: 0.9121 - val_loss: 0.4293 - val_accuracy: 0.8450 - 694ms/epoch - 3ms/step\n",
      "Epoch 44/100\n",
      "225/225 - 1s - loss: 0.2021 - accuracy: 0.9126 - val_loss: 0.4234 - val_accuracy: 0.8487 - 700ms/epoch - 3ms/step\n",
      "Epoch 45/100\n",
      "225/225 - 1s - loss: 0.1988 - accuracy: 0.9190 - val_loss: 0.4438 - val_accuracy: 0.8500 - 571ms/epoch - 3ms/step\n",
      "Epoch 46/100\n",
      "225/225 - 1s - loss: 0.1986 - accuracy: 0.9187 - val_loss: 0.4649 - val_accuracy: 0.8525 - 502ms/epoch - 2ms/step\n",
      "Epoch 47/100\n",
      "225/225 - 1s - loss: 0.1949 - accuracy: 0.9182 - val_loss: 0.4472 - val_accuracy: 0.8425 - 505ms/epoch - 2ms/step\n",
      "Epoch 48/100\n",
      "225/225 - 0s - loss: 0.1915 - accuracy: 0.9196 - val_loss: 0.4424 - val_accuracy: 0.8450 - 463ms/epoch - 2ms/step\n",
      "Epoch 49/100\n",
      "225/225 - 0s - loss: 0.1846 - accuracy: 0.9232 - val_loss: 0.4722 - val_accuracy: 0.8487 - 477ms/epoch - 2ms/step\n",
      "Epoch 50/100\n",
      "225/225 - 0s - loss: 0.1832 - accuracy: 0.9210 - val_loss: 0.4455 - val_accuracy: 0.8462 - 499ms/epoch - 2ms/step\n",
      "Epoch 51/100\n",
      "225/225 - 0s - loss: 0.1810 - accuracy: 0.9254 - val_loss: 0.4694 - val_accuracy: 0.8438 - 499ms/epoch - 2ms/step\n",
      "Epoch 52/100\n",
      "225/225 - 0s - loss: 0.1770 - accuracy: 0.9250 - val_loss: 0.4664 - val_accuracy: 0.8375 - 474ms/epoch - 2ms/step\n",
      "Epoch 53/100\n",
      "225/225 - 0s - loss: 0.1748 - accuracy: 0.9254 - val_loss: 0.4915 - val_accuracy: 0.8462 - 493ms/epoch - 2ms/step\n",
      "Epoch 54/100\n",
      "225/225 - 0s - loss: 0.1741 - accuracy: 0.9275 - val_loss: 0.4882 - val_accuracy: 0.8438 - 487ms/epoch - 2ms/step\n",
      "Epoch 55/100\n",
      "225/225 - 0s - loss: 0.1659 - accuracy: 0.9335 - val_loss: 0.4987 - val_accuracy: 0.8450 - 479ms/epoch - 2ms/step\n",
      "Epoch 56/100\n",
      "225/225 - 0s - loss: 0.1683 - accuracy: 0.9310 - val_loss: 0.5051 - val_accuracy: 0.8462 - 475ms/epoch - 2ms/step\n",
      "Epoch 57/100\n",
      "225/225 - 0s - loss: 0.1639 - accuracy: 0.9315 - val_loss: 0.4936 - val_accuracy: 0.8413 - 497ms/epoch - 2ms/step\n",
      "Epoch 58/100\n",
      "225/225 - 0s - loss: 0.1547 - accuracy: 0.9362 - val_loss: 0.5419 - val_accuracy: 0.8400 - 483ms/epoch - 2ms/step\n",
      "Epoch 59/100\n",
      "225/225 - 0s - loss: 0.1579 - accuracy: 0.9319 - val_loss: 0.5436 - val_accuracy: 0.8388 - 499ms/epoch - 2ms/step\n",
      "Epoch 60/100\n",
      "225/225 - 1s - loss: 0.1499 - accuracy: 0.9365 - val_loss: 0.5066 - val_accuracy: 0.8450 - 507ms/epoch - 2ms/step\n",
      "Epoch 61/100\n",
      "225/225 - 0s - loss: 0.1475 - accuracy: 0.9390 - val_loss: 0.5523 - val_accuracy: 0.8537 - 489ms/epoch - 2ms/step\n",
      "Epoch 62/100\n",
      "225/225 - 0s - loss: 0.1475 - accuracy: 0.9396 - val_loss: 0.6007 - val_accuracy: 0.8400 - 478ms/epoch - 2ms/step\n",
      "Epoch 63/100\n",
      "225/225 - 0s - loss: 0.1402 - accuracy: 0.9415 - val_loss: 0.5816 - val_accuracy: 0.8325 - 495ms/epoch - 2ms/step\n",
      "Epoch 64/100\n",
      "225/225 - 0s - loss: 0.1411 - accuracy: 0.9410 - val_loss: 0.5782 - val_accuracy: 0.8213 - 487ms/epoch - 2ms/step\n",
      "Epoch 65/100\n",
      "225/225 - 0s - loss: 0.1364 - accuracy: 0.9393 - val_loss: 0.5663 - val_accuracy: 0.8388 - 475ms/epoch - 2ms/step\n",
      "Epoch 66/100\n",
      "225/225 - 1s - loss: 0.1344 - accuracy: 0.9449 - val_loss: 0.5819 - val_accuracy: 0.8462 - 513ms/epoch - 2ms/step\n",
      "Epoch 67/100\n",
      "225/225 - 0s - loss: 0.1342 - accuracy: 0.9451 - val_loss: 0.5978 - val_accuracy: 0.8512 - 489ms/epoch - 2ms/step\n",
      "Epoch 68/100\n",
      "225/225 - 1s - loss: 0.1273 - accuracy: 0.9474 - val_loss: 0.6655 - val_accuracy: 0.8438 - 500ms/epoch - 2ms/step\n",
      "Epoch 69/100\n",
      "225/225 - 1s - loss: 0.1229 - accuracy: 0.9482 - val_loss: 0.6189 - val_accuracy: 0.8475 - 505ms/epoch - 2ms/step\n",
      "Epoch 70/100\n",
      "225/225 - 1s - loss: 0.1239 - accuracy: 0.9503 - val_loss: 0.6602 - val_accuracy: 0.8388 - 528ms/epoch - 2ms/step\n",
      "Epoch 71/100\n",
      "225/225 - 1s - loss: 0.1295 - accuracy: 0.9460 - val_loss: 0.6816 - val_accuracy: 0.8425 - 506ms/epoch - 2ms/step\n",
      "Epoch 72/100\n",
      "225/225 - 1s - loss: 0.1288 - accuracy: 0.9475 - val_loss: 0.6415 - val_accuracy: 0.8288 - 502ms/epoch - 2ms/step\n",
      "Epoch 73/100\n",
      "225/225 - 1s - loss: 0.1140 - accuracy: 0.9549 - val_loss: 0.6421 - val_accuracy: 0.8388 - 516ms/epoch - 2ms/step\n",
      "Epoch 74/100\n",
      "225/225 - 1s - loss: 0.1164 - accuracy: 0.9538 - val_loss: 0.6501 - val_accuracy: 0.8350 - 537ms/epoch - 2ms/step\n",
      "Epoch 75/100\n",
      "225/225 - 1s - loss: 0.1118 - accuracy: 0.9549 - val_loss: 0.7038 - val_accuracy: 0.8462 - 500ms/epoch - 2ms/step\n",
      "Epoch 76/100\n",
      "225/225 - 1s - loss: 0.1051 - accuracy: 0.9594 - val_loss: 0.6853 - val_accuracy: 0.8388 - 537ms/epoch - 2ms/step\n",
      "Epoch 77/100\n",
      "225/225 - 1s - loss: 0.1042 - accuracy: 0.9592 - val_loss: 0.7343 - val_accuracy: 0.8487 - 503ms/epoch - 2ms/step\n",
      "Epoch 78/100\n",
      "225/225 - 0s - loss: 0.1021 - accuracy: 0.9588 - val_loss: 0.7172 - val_accuracy: 0.8450 - 490ms/epoch - 2ms/step\n",
      "Epoch 79/100\n",
      "225/225 - 1s - loss: 0.1029 - accuracy: 0.9610 - val_loss: 0.7160 - val_accuracy: 0.8338 - 505ms/epoch - 2ms/step\n",
      "Epoch 80/100\n",
      "225/225 - 1s - loss: 0.0989 - accuracy: 0.9619 - val_loss: 0.6982 - val_accuracy: 0.8363 - 520ms/epoch - 2ms/step\n",
      "Epoch 81/100\n",
      "225/225 - 1s - loss: 0.1018 - accuracy: 0.9588 - val_loss: 0.7530 - val_accuracy: 0.8425 - 507ms/epoch - 2ms/step\n",
      "Epoch 82/100\n",
      "225/225 - 0s - loss: 0.1008 - accuracy: 0.9596 - val_loss: 0.7701 - val_accuracy: 0.8413 - 492ms/epoch - 2ms/step\n",
      "Epoch 83/100\n",
      "225/225 - 0s - loss: 0.0881 - accuracy: 0.9681 - val_loss: 0.7728 - val_accuracy: 0.8112 - 493ms/epoch - 2ms/step\n",
      "Epoch 84/100\n",
      "225/225 - 0s - loss: 0.0969 - accuracy: 0.9614 - val_loss: 0.8091 - val_accuracy: 0.8263 - 499ms/epoch - 2ms/step\n",
      "Epoch 85/100\n",
      "225/225 - 1s - loss: 0.0927 - accuracy: 0.9649 - val_loss: 0.7937 - val_accuracy: 0.8375 - 505ms/epoch - 2ms/step\n",
      "Epoch 86/100\n",
      "225/225 - 0s - loss: 0.0908 - accuracy: 0.9653 - val_loss: 0.7895 - val_accuracy: 0.8350 - 487ms/epoch - 2ms/step\n",
      "Epoch 87/100\n",
      "225/225 - 1s - loss: 0.0882 - accuracy: 0.9639 - val_loss: 0.8355 - val_accuracy: 0.8188 - 511ms/epoch - 2ms/step\n",
      "Epoch 88/100\n",
      "225/225 - 1s - loss: 0.0829 - accuracy: 0.9678 - val_loss: 0.8163 - val_accuracy: 0.8138 - 503ms/epoch - 2ms/step\n",
      "Epoch 89/100\n",
      "225/225 - 1s - loss: 0.0883 - accuracy: 0.9660 - val_loss: 0.8449 - val_accuracy: 0.8188 - 538ms/epoch - 2ms/step\n",
      "Epoch 90/100\n",
      "225/225 - 0s - loss: 0.0897 - accuracy: 0.9649 - val_loss: 0.8425 - val_accuracy: 0.8438 - 493ms/epoch - 2ms/step\n",
      "Epoch 91/100\n",
      "225/225 - 0s - loss: 0.0807 - accuracy: 0.9710 - val_loss: 0.8268 - val_accuracy: 0.8350 - 497ms/epoch - 2ms/step\n",
      "Epoch 92/100\n",
      "225/225 - 0s - loss: 0.0766 - accuracy: 0.9710 - val_loss: 0.8443 - val_accuracy: 0.8250 - 497ms/epoch - 2ms/step\n",
      "Epoch 93/100\n",
      "225/225 - 0s - loss: 0.0700 - accuracy: 0.9750 - val_loss: 0.8885 - val_accuracy: 0.8250 - 492ms/epoch - 2ms/step\n",
      "Epoch 94/100\n",
      "225/225 - 0s - loss: 0.0722 - accuracy: 0.9749 - val_loss: 0.9439 - val_accuracy: 0.8388 - 483ms/epoch - 2ms/step\n",
      "Epoch 95/100\n",
      "225/225 - 0s - loss: 0.0758 - accuracy: 0.9712 - val_loss: 0.9097 - val_accuracy: 0.8388 - 499ms/epoch - 2ms/step\n",
      "Epoch 96/100\n",
      "225/225 - 0s - loss: 0.0742 - accuracy: 0.9719 - val_loss: 0.9037 - val_accuracy: 0.8200 - 500ms/epoch - 2ms/step\n",
      "Epoch 97/100\n",
      "225/225 - 1s - loss: 0.0665 - accuracy: 0.9749 - val_loss: 0.9309 - val_accuracy: 0.8000 - 514ms/epoch - 2ms/step\n",
      "Epoch 98/100\n",
      "225/225 - 1s - loss: 0.0733 - accuracy: 0.9704 - val_loss: 0.9543 - val_accuracy: 0.8175 - 509ms/epoch - 2ms/step\n",
      "Epoch 99/100\n",
      "225/225 - 0s - loss: 0.0807 - accuracy: 0.9710 - val_loss: 0.9595 - val_accuracy: 0.8400 - 492ms/epoch - 2ms/step\n",
      "Epoch 100/100\n",
      "225/225 - 0s - loss: 0.0741 - accuracy: 0.9729 - val_loss: 0.9350 - val_accuracy: 0.8462 - 487ms/epoch - 2ms/step\n"
     ]
    }
   ],
   "source": [
    "history_2 = model_2.fit(X_train, \n",
    "                    y_train, \n",
    "                    validation_split=0.1, \n",
    "                    epochs=100, \n",
    "                    verbose=2)"
   ]
  },
  {
   "cell_type": "code",
   "execution_count": 83,
   "metadata": {
    "colab": {
     "base_uri": "https://localhost:8080/",
     "height": 295
    },
    "id": "i96cw1viV9om",
    "outputId": "8652904a-33bd-40c7-9ff3-486b71f4234e"
   },
   "outputs": [
    {
     "data": {
      "image/png": "[encoded data removed]",
      "text/plain": [
       "<Figure size 432x288 with 1 Axes>"
      ]
     },
     "metadata": {
      "needs_background": "light"
     },
     "output_type": "display_data"
    }
   ],
   "source": [
    "plt.plot(history_2.history['accuracy'])\n",
    "plt.plot(history_2.history['val_accuracy'])\n",
    "plt.title('Accuracy vs Epochs')\n",
    "plt.ylabel('Accuracy')\n",
    "plt.xlabel('Epoch')\n",
    "plt.legend(['Train', 'Validation'], loc='lower right')\n",
    "plt.show()"
   ]
  },
  {
   "cell_type": "markdown",
   "metadata": {
    "id": "Iu0UbJjKAi8z"
   },
   "source": [
    "**Observations:** \n",
    "\n",
    "- There is signification gap between Training and and validation accuracy values.\n",
    "- Model is overfitting."
   ]
  },
  {
   "cell_type": "markdown",
   "metadata": {
    "id": "TLXYwazvu0jQ"
   },
   "source": [
    "**Let's try to further tune some of the hyper-parameters and check if we can improve the model performance.**\n",
    "\n",
    "We will use learning_rate = 0.001 for the optimizer in the training process and increase the model complexity by further increasing the number of layers, the number of nodes in each layer, and the epochs."
   ]
  },
  {
   "cell_type": "code",
   "execution_count": 85,
   "metadata": {
    "id": "N7aNw91z_wgD"
   },
   "outputs": [],
   "source": [
    "# Clearing the backend\n",
    "from tensorflow.keras import backend\n",
    "backend.clear_session()"
   ]
  },
  {
   "cell_type": "code",
   "execution_count": 86,
   "metadata": {
    "id": "1HMdf0uSO3uw"
   },
   "outputs": [],
   "source": [
    "# Fixing the seed for random number generators\n",
    "np.random.seed(42)\n",
    "\n",
    "import random\n",
    "random.seed(42)\n",
    "\n",
    "tf.random.set_seed(42)"
   ]
  },
  {
   "cell_type": "code",
   "execution_count": 91,
   "metadata": {
    "id": "xRpBpRf_vXJO"
   },
   "outputs": [],
   "source": [
    "# We will be adding the layers sequentially\n",
    "model_3 = Sequential()\n",
    "# First hidden layer with 128 neurons and relu activation function, the input_shape tuple denotes number of independent variables\n",
    "model_3.add(Dense(128, activation = 'relu', input_shape = (11, )))\n",
    "\n",
    "# Second hidden layer with 64 neurons and relu activation function\n",
    "model_3.add(Dense(64, activation = 'relu'))\n",
    "\n",
    "# Second hidden layer with 32 neurons and relu activation function\n",
    "model_3.add(Dense(32, activation = 'relu'))\n",
    "\n",
    "# Output layer with only one neuron and sigmoid as activation function which will give the probability of students getting admitted into UCLA  \n",
    "model_3.add(Dense(1, activation = 'sigmoid'))"
   ]
  },
  {
   "cell_type": "code",
   "execution_count": 92,
   "metadata": {
    "colab": {
     "base_uri": "https://localhost:8080/"
    },
    "id": "_kUFccLDy48t",
    "outputId": "5609adc0-773e-43bc-a42d-9dba61557812"
   },
   "outputs": [
    {
     "name": "stdout",
     "output_type": "stream",
     "text": [
      "Model: \"sequential_1\"\n",
      "_________________________________________________________________\n",
      " Layer (type)                Output Shape              Param #   \n",
      "=================================================================\n",
      " dense_5 (Dense)             (None, 128)               1536      \n",
      "                                                                 \n",
      " dense_6 (Dense)             (None, 64)                8256      \n",
      "                                                                 \n",
      " dense_7 (Dense)             (None, 32)                2080      \n",
      "                                                                 \n",
      " dense_8 (Dense)             (None, 1)                 33        \n",
      "                                                                 \n",
      "=================================================================\n",
      "Total params: 11,905\n",
      "Trainable params: 11,905\n",
      "Non-trainable params: 0\n",
      "_________________________________________________________________\n"
     ]
    }
   ],
   "source": [
    "model_3.compile(loss = 'binary_crossentropy', optimizer=tf.keras.optimizers.Adam(learning_rate=0.001), metrics=['accuracy'])\n",
    "model_3.summary()"
   ]
  },
  {
   "cell_type": "code",
   "execution_count": 93,
   "metadata": {
    "colab": {
     "base_uri": "https://localhost:8080/"
    },
    "id": "OLN7jZWmy_fb",
    "outputId": "b9c3c4d2-386b-4cee-821a-bfbd65fd64f7"
   },
   "outputs": [
    {
     "name": "stdout",
     "output_type": "stream",
     "text": [
      "Epoch 1/200\n",
      "225/225 - 1s - loss: 0.4350 - accuracy: 0.8051 - val_loss: 0.3566 - val_accuracy: 0.8487 - 1s/epoch - 4ms/step\n",
      "Epoch 2/200\n",
      "225/225 - 0s - loss: 0.3590 - accuracy: 0.8504 - val_loss: 0.3405 - val_accuracy: 0.8575 - 490ms/epoch - 2ms/step\n",
      "Epoch 3/200\n",
      "225/225 - 1s - loss: 0.3481 - accuracy: 0.8543 - val_loss: 0.3502 - val_accuracy: 0.8600 - 501ms/epoch - 2ms/step\n",
      "Epoch 4/200\n",
      "225/225 - 1s - loss: 0.3414 - accuracy: 0.8612 - val_loss: 0.3310 - val_accuracy: 0.8600 - 504ms/epoch - 2ms/step\n",
      "Epoch 5/200\n",
      "225/225 - 0s - loss: 0.3360 - accuracy: 0.8649 - val_loss: 0.3360 - val_accuracy: 0.8587 - 481ms/epoch - 2ms/step\n",
      "Epoch 6/200\n",
      "225/225 - 0s - loss: 0.3331 - accuracy: 0.8635 - val_loss: 0.3299 - val_accuracy: 0.8512 - 499ms/epoch - 2ms/step\n",
      "Epoch 7/200\n",
      "225/225 - 0s - loss: 0.3286 - accuracy: 0.8671 - val_loss: 0.3289 - val_accuracy: 0.8587 - 477ms/epoch - 2ms/step\n",
      "Epoch 8/200\n",
      "225/225 - 1s - loss: 0.3264 - accuracy: 0.8646 - val_loss: 0.3288 - val_accuracy: 0.8587 - 516ms/epoch - 2ms/step\n",
      "Epoch 9/200\n",
      "225/225 - 0s - loss: 0.3227 - accuracy: 0.8644 - val_loss: 0.3328 - val_accuracy: 0.8550 - 488ms/epoch - 2ms/step\n",
      "Epoch 10/200\n",
      "225/225 - 0s - loss: 0.3186 - accuracy: 0.8701 - val_loss: 0.3323 - val_accuracy: 0.8575 - 484ms/epoch - 2ms/step\n",
      "Epoch 11/200\n",
      "225/225 - 1s - loss: 0.3154 - accuracy: 0.8703 - val_loss: 0.3241 - val_accuracy: 0.8662 - 508ms/epoch - 2ms/step\n",
      "Epoch 12/200\n",
      "225/225 - 0s - loss: 0.3133 - accuracy: 0.8706 - val_loss: 0.3281 - val_accuracy: 0.8637 - 476ms/epoch - 2ms/step\n",
      "Epoch 13/200\n",
      "225/225 - 0s - loss: 0.3107 - accuracy: 0.8710 - val_loss: 0.3331 - val_accuracy: 0.8575 - 461ms/epoch - 2ms/step\n",
      "Epoch 14/200\n",
      "225/225 - 0s - loss: 0.3058 - accuracy: 0.8758 - val_loss: 0.3318 - val_accuracy: 0.8650 - 474ms/epoch - 2ms/step\n",
      "Epoch 15/200\n",
      "225/225 - 0s - loss: 0.3015 - accuracy: 0.8757 - val_loss: 0.3347 - val_accuracy: 0.8550 - 483ms/epoch - 2ms/step\n",
      "Epoch 16/200\n",
      "225/225 - 0s - loss: 0.3000 - accuracy: 0.8775 - val_loss: 0.3368 - val_accuracy: 0.8575 - 497ms/epoch - 2ms/step\n",
      "Epoch 17/200\n",
      "225/225 - 0s - loss: 0.2962 - accuracy: 0.8760 - val_loss: 0.3375 - val_accuracy: 0.8650 - 466ms/epoch - 2ms/step\n",
      "Epoch 18/200\n",
      "225/225 - 0s - loss: 0.2902 - accuracy: 0.8811 - val_loss: 0.3419 - val_accuracy: 0.8575 - 480ms/epoch - 2ms/step\n",
      "Epoch 19/200\n",
      "225/225 - 0s - loss: 0.2868 - accuracy: 0.8803 - val_loss: 0.3500 - val_accuracy: 0.8587 - 483ms/epoch - 2ms/step\n",
      "Epoch 20/200\n",
      "225/225 - 0s - loss: 0.2873 - accuracy: 0.8817 - val_loss: 0.3403 - val_accuracy: 0.8562 - 474ms/epoch - 2ms/step\n",
      "Epoch 21/200\n",
      "225/225 - 0s - loss: 0.2814 - accuracy: 0.8847 - val_loss: 0.3477 - val_accuracy: 0.8550 - 488ms/epoch - 2ms/step\n",
      "Epoch 22/200\n",
      "225/225 - 0s - loss: 0.2781 - accuracy: 0.8831 - val_loss: 0.3520 - val_accuracy: 0.8537 - 467ms/epoch - 2ms/step\n",
      "Epoch 23/200\n",
      "225/225 - 0s - loss: 0.2743 - accuracy: 0.8863 - val_loss: 0.3481 - val_accuracy: 0.8675 - 500ms/epoch - 2ms/step\n",
      "Epoch 24/200\n",
      "225/225 - 0s - loss: 0.2702 - accuracy: 0.8897 - val_loss: 0.3560 - val_accuracy: 0.8637 - 496ms/epoch - 2ms/step\n",
      "Epoch 25/200\n",
      "225/225 - 0s - loss: 0.2672 - accuracy: 0.8900 - val_loss: 0.3624 - val_accuracy: 0.8525 - 494ms/epoch - 2ms/step\n",
      "Epoch 26/200\n",
      "225/225 - 0s - loss: 0.2637 - accuracy: 0.8883 - val_loss: 0.3643 - val_accuracy: 0.8500 - 488ms/epoch - 2ms/step\n",
      "Epoch 27/200\n",
      "225/225 - 1s - loss: 0.2600 - accuracy: 0.8888 - val_loss: 0.3542 - val_accuracy: 0.8550 - 503ms/epoch - 2ms/step\n",
      "Epoch 28/200\n",
      "225/225 - 1s - loss: 0.2561 - accuracy: 0.8922 - val_loss: 0.3837 - val_accuracy: 0.8587 - 635ms/epoch - 3ms/step\n",
      "Epoch 29/200\n",
      "225/225 - 1s - loss: 0.2533 - accuracy: 0.8944 - val_loss: 0.3744 - val_accuracy: 0.8462 - 753ms/epoch - 3ms/step\n",
      "Epoch 30/200\n",
      "225/225 - 1s - loss: 0.2499 - accuracy: 0.8954 - val_loss: 0.3734 - val_accuracy: 0.8475 - 1s/epoch - 5ms/step\n",
      "Epoch 31/200\n",
      "225/225 - 1s - loss: 0.2439 - accuracy: 0.8989 - val_loss: 0.3738 - val_accuracy: 0.8525 - 600ms/epoch - 3ms/step\n",
      "Epoch 32/200\n",
      "225/225 - 0s - loss: 0.2431 - accuracy: 0.8982 - val_loss: 0.3804 - val_accuracy: 0.8550 - 472ms/epoch - 2ms/step\n",
      "Epoch 33/200\n",
      "225/225 - 1s - loss: 0.2368 - accuracy: 0.9032 - val_loss: 0.3876 - val_accuracy: 0.8550 - 515ms/epoch - 2ms/step\n",
      "Epoch 34/200\n",
      "225/225 - 0s - loss: 0.2346 - accuracy: 0.9004 - val_loss: 0.3985 - val_accuracy: 0.8462 - 495ms/epoch - 2ms/step\n",
      "Epoch 35/200\n",
      "225/225 - 1s - loss: 0.2303 - accuracy: 0.9025 - val_loss: 0.3948 - val_accuracy: 0.8512 - 513ms/epoch - 2ms/step\n",
      "Epoch 36/200\n",
      "225/225 - 1s - loss: 0.2282 - accuracy: 0.9038 - val_loss: 0.4265 - val_accuracy: 0.8325 - 517ms/epoch - 2ms/step\n",
      "Epoch 37/200\n",
      "225/225 - 1s - loss: 0.2222 - accuracy: 0.9083 - val_loss: 0.4057 - val_accuracy: 0.8363 - 500ms/epoch - 2ms/step\n",
      "Epoch 38/200\n",
      "225/225 - 0s - loss: 0.2189 - accuracy: 0.9093 - val_loss: 0.4130 - val_accuracy: 0.8562 - 493ms/epoch - 2ms/step\n",
      "Epoch 39/200\n",
      "225/225 - 1s - loss: 0.2162 - accuracy: 0.9096 - val_loss: 0.4135 - val_accuracy: 0.8350 - 523ms/epoch - 2ms/step\n",
      "Epoch 40/200\n",
      "225/225 - 0s - loss: 0.2122 - accuracy: 0.9124 - val_loss: 0.4251 - val_accuracy: 0.8450 - 491ms/epoch - 2ms/step\n",
      "Epoch 41/200\n",
      "225/225 - 0s - loss: 0.2091 - accuracy: 0.9118 - val_loss: 0.4287 - val_accuracy: 0.8462 - 485ms/epoch - 2ms/step\n",
      "Epoch 42/200\n",
      "225/225 - 0s - loss: 0.2066 - accuracy: 0.9146 - val_loss: 0.4257 - val_accuracy: 0.8400 - 495ms/epoch - 2ms/step\n",
      "Epoch 43/200\n",
      "225/225 - 0s - loss: 0.2056 - accuracy: 0.9125 - val_loss: 0.4255 - val_accuracy: 0.8400 - 500ms/epoch - 2ms/step\n",
      "Epoch 44/200\n",
      "225/225 - 0s - loss: 0.1938 - accuracy: 0.9169 - val_loss: 0.4474 - val_accuracy: 0.8250 - 495ms/epoch - 2ms/step\n",
      "Epoch 45/200\n",
      "225/225 - 1s - loss: 0.1925 - accuracy: 0.9196 - val_loss: 0.4973 - val_accuracy: 0.8400 - 506ms/epoch - 2ms/step\n",
      "Epoch 46/200\n",
      "225/225 - 0s - loss: 0.1901 - accuracy: 0.9211 - val_loss: 0.4815 - val_accuracy: 0.8375 - 479ms/epoch - 2ms/step\n",
      "Epoch 47/200\n",
      "225/225 - 0s - loss: 0.1882 - accuracy: 0.9194 - val_loss: 0.4729 - val_accuracy: 0.8250 - 482ms/epoch - 2ms/step\n",
      "Epoch 48/200\n",
      "225/225 - 1s - loss: 0.1851 - accuracy: 0.9200 - val_loss: 0.4717 - val_accuracy: 0.8275 - 505ms/epoch - 2ms/step\n",
      "Epoch 49/200\n",
      "225/225 - 0s - loss: 0.1783 - accuracy: 0.9268 - val_loss: 0.5140 - val_accuracy: 0.8438 - 498ms/epoch - 2ms/step\n",
      "Epoch 50/200\n",
      "225/225 - 0s - loss: 0.1755 - accuracy: 0.9240 - val_loss: 0.5018 - val_accuracy: 0.8325 - 487ms/epoch - 2ms/step\n",
      "Epoch 51/200\n",
      "225/225 - 1s - loss: 0.1715 - accuracy: 0.9283 - val_loss: 0.5105 - val_accuracy: 0.8350 - 504ms/epoch - 2ms/step\n",
      "Epoch 52/200\n",
      "225/225 - 1s - loss: 0.1713 - accuracy: 0.9262 - val_loss: 0.5277 - val_accuracy: 0.8300 - 501ms/epoch - 2ms/step\n",
      "Epoch 53/200\n",
      "225/225 - 0s - loss: 0.1651 - accuracy: 0.9315 - val_loss: 0.5361 - val_accuracy: 0.8300 - 488ms/epoch - 2ms/step\n",
      "Epoch 54/200\n",
      "225/225 - 0s - loss: 0.1640 - accuracy: 0.9289 - val_loss: 0.5245 - val_accuracy: 0.8263 - 497ms/epoch - 2ms/step\n",
      "Epoch 55/200\n",
      "225/225 - 0s - loss: 0.1596 - accuracy: 0.9340 - val_loss: 0.5414 - val_accuracy: 0.8325 - 477ms/epoch - 2ms/step\n",
      "Epoch 56/200\n",
      "225/225 - 0s - loss: 0.1557 - accuracy: 0.9361 - val_loss: 0.5753 - val_accuracy: 0.8438 - 471ms/epoch - 2ms/step\n",
      "Epoch 57/200\n",
      "225/225 - 0s - loss: 0.1542 - accuracy: 0.9360 - val_loss: 0.5528 - val_accuracy: 0.8413 - 495ms/epoch - 2ms/step\n",
      "Epoch 58/200\n",
      "225/225 - 0s - loss: 0.1502 - accuracy: 0.9368 - val_loss: 0.5864 - val_accuracy: 0.8263 - 463ms/epoch - 2ms/step\n",
      "Epoch 59/200\n",
      "225/225 - 0s - loss: 0.1471 - accuracy: 0.9374 - val_loss: 0.5664 - val_accuracy: 0.8288 - 465ms/epoch - 2ms/step\n",
      "Epoch 60/200\n",
      "225/225 - 0s - loss: 0.1457 - accuracy: 0.9407 - val_loss: 0.5758 - val_accuracy: 0.8375 - 466ms/epoch - 2ms/step\n",
      "Epoch 61/200\n",
      "225/225 - 0s - loss: 0.1401 - accuracy: 0.9418 - val_loss: 0.5985 - val_accuracy: 0.8388 - 477ms/epoch - 2ms/step\n",
      "Epoch 62/200\n",
      "225/225 - 0s - loss: 0.1390 - accuracy: 0.9415 - val_loss: 0.6527 - val_accuracy: 0.8138 - 469ms/epoch - 2ms/step\n",
      "Epoch 63/200\n",
      "225/225 - 1s - loss: 0.1368 - accuracy: 0.9426 - val_loss: 0.6323 - val_accuracy: 0.8275 - 504ms/epoch - 2ms/step\n",
      "Epoch 64/200\n",
      "225/225 - 0s - loss: 0.1329 - accuracy: 0.9447 - val_loss: 0.6486 - val_accuracy: 0.8138 - 474ms/epoch - 2ms/step\n",
      "Epoch 65/200\n",
      "225/225 - 0s - loss: 0.1287 - accuracy: 0.9485 - val_loss: 0.6642 - val_accuracy: 0.8138 - 483ms/epoch - 2ms/step\n",
      "Epoch 66/200\n",
      "225/225 - 0s - loss: 0.1290 - accuracy: 0.9433 - val_loss: 0.6510 - val_accuracy: 0.8375 - 490ms/epoch - 2ms/step\n",
      "Epoch 67/200\n",
      "225/225 - 0s - loss: 0.1262 - accuracy: 0.9489 - val_loss: 0.6609 - val_accuracy: 0.8288 - 466ms/epoch - 2ms/step\n",
      "Epoch 68/200\n",
      "225/225 - 0s - loss: 0.1239 - accuracy: 0.9499 - val_loss: 0.7065 - val_accuracy: 0.8300 - 481ms/epoch - 2ms/step\n",
      "Epoch 69/200\n",
      "225/225 - 0s - loss: 0.1258 - accuracy: 0.9458 - val_loss: 0.6809 - val_accuracy: 0.8225 - 473ms/epoch - 2ms/step\n",
      "Epoch 70/200\n",
      "225/225 - 1s - loss: 0.1170 - accuracy: 0.9514 - val_loss: 0.7247 - val_accuracy: 0.8200 - 518ms/epoch - 2ms/step\n",
      "Epoch 71/200\n",
      "225/225 - 1s - loss: 0.1161 - accuracy: 0.9519 - val_loss: 0.7277 - val_accuracy: 0.8275 - 502ms/epoch - 2ms/step\n",
      "Epoch 72/200\n",
      "225/225 - 0s - loss: 0.1269 - accuracy: 0.9481 - val_loss: 0.7461 - val_accuracy: 0.8225 - 476ms/epoch - 2ms/step\n",
      "Epoch 73/200\n",
      "225/225 - 0s - loss: 0.1079 - accuracy: 0.9558 - val_loss: 0.7862 - val_accuracy: 0.8163 - 474ms/epoch - 2ms/step\n",
      "Epoch 74/200\n",
      "225/225 - 0s - loss: 0.1109 - accuracy: 0.9525 - val_loss: 0.7593 - val_accuracy: 0.7962 - 480ms/epoch - 2ms/step\n",
      "Epoch 75/200\n",
      "225/225 - 0s - loss: 0.1061 - accuracy: 0.9568 - val_loss: 0.7510 - val_accuracy: 0.8138 - 480ms/epoch - 2ms/step\n",
      "Epoch 76/200\n",
      "225/225 - 0s - loss: 0.1002 - accuracy: 0.9586 - val_loss: 0.7472 - val_accuracy: 0.8238 - 481ms/epoch - 2ms/step\n",
      "Epoch 77/200\n",
      "225/225 - 0s - loss: 0.1022 - accuracy: 0.9569 - val_loss: 0.7861 - val_accuracy: 0.8400 - 470ms/epoch - 2ms/step\n",
      "Epoch 78/200\n",
      "225/225 - 0s - loss: 0.0937 - accuracy: 0.9638 - val_loss: 0.8212 - val_accuracy: 0.8313 - 487ms/epoch - 2ms/step\n",
      "Epoch 79/200\n",
      "225/225 - 0s - loss: 0.1030 - accuracy: 0.9576 - val_loss: 0.8546 - val_accuracy: 0.8037 - 471ms/epoch - 2ms/step\n",
      "Epoch 80/200\n",
      "225/225 - 1s - loss: 0.1011 - accuracy: 0.9606 - val_loss: 0.8365 - val_accuracy: 0.8175 - 506ms/epoch - 2ms/step\n",
      "Epoch 81/200\n",
      "225/225 - 0s - loss: 0.0989 - accuracy: 0.9600 - val_loss: 0.8183 - val_accuracy: 0.8200 - 464ms/epoch - 2ms/step\n",
      "Epoch 82/200\n",
      "225/225 - 0s - loss: 0.0952 - accuracy: 0.9596 - val_loss: 0.9024 - val_accuracy: 0.8188 - 474ms/epoch - 2ms/step\n",
      "Epoch 83/200\n",
      "225/225 - 0s - loss: 0.0901 - accuracy: 0.9629 - val_loss: 0.8380 - val_accuracy: 0.8025 - 483ms/epoch - 2ms/step\n",
      "Epoch 84/200\n",
      "225/225 - 0s - loss: 0.0856 - accuracy: 0.9654 - val_loss: 0.8797 - val_accuracy: 0.8238 - 498ms/epoch - 2ms/step\n",
      "Epoch 85/200\n",
      "225/225 - 0s - loss: 0.0937 - accuracy: 0.9633 - val_loss: 0.9026 - val_accuracy: 0.8288 - 468ms/epoch - 2ms/step\n",
      "Epoch 86/200\n",
      "225/225 - 0s - loss: 0.0872 - accuracy: 0.9669 - val_loss: 0.8755 - val_accuracy: 0.8238 - 472ms/epoch - 2ms/step\n",
      "Epoch 87/200\n",
      "225/225 - 0s - loss: 0.0772 - accuracy: 0.9721 - val_loss: 0.9190 - val_accuracy: 0.8238 - 491ms/epoch - 2ms/step\n",
      "Epoch 88/200\n",
      "225/225 - 1s - loss: 0.0862 - accuracy: 0.9665 - val_loss: 0.9579 - val_accuracy: 0.7850 - 516ms/epoch - 2ms/step\n",
      "Epoch 89/200\n",
      "225/225 - 1s - loss: 0.0851 - accuracy: 0.9657 - val_loss: 0.9745 - val_accuracy: 0.7862 - 503ms/epoch - 2ms/step\n",
      "Epoch 90/200\n",
      "225/225 - 0s - loss: 0.0931 - accuracy: 0.9643 - val_loss: 0.8861 - val_accuracy: 0.8150 - 498ms/epoch - 2ms/step\n",
      "Epoch 91/200\n",
      "225/225 - 0s - loss: 0.0758 - accuracy: 0.9696 - val_loss: 0.9350 - val_accuracy: 0.8238 - 470ms/epoch - 2ms/step\n",
      "Epoch 92/200\n",
      "225/225 - 0s - loss: 0.0825 - accuracy: 0.9660 - val_loss: 0.9447 - val_accuracy: 0.7950 - 490ms/epoch - 2ms/step\n",
      "Epoch 93/200\n",
      "225/225 - 0s - loss: 0.0776 - accuracy: 0.9703 - val_loss: 0.9543 - val_accuracy: 0.8087 - 484ms/epoch - 2ms/step\n",
      "Epoch 94/200\n",
      "225/225 - 0s - loss: 0.0727 - accuracy: 0.9729 - val_loss: 0.9298 - val_accuracy: 0.8338 - 484ms/epoch - 2ms/step\n",
      "Epoch 95/200\n",
      "225/225 - 0s - loss: 0.0716 - accuracy: 0.9726 - val_loss: 1.0019 - val_accuracy: 0.8200 - 480ms/epoch - 2ms/step\n",
      "Epoch 96/200\n",
      "225/225 - 1s - loss: 0.0671 - accuracy: 0.9749 - val_loss: 1.0020 - val_accuracy: 0.8250 - 512ms/epoch - 2ms/step\n",
      "Epoch 97/200\n",
      "225/225 - 1s - loss: 0.0741 - accuracy: 0.9722 - val_loss: 1.0186 - val_accuracy: 0.8238 - 507ms/epoch - 2ms/step\n",
      "Epoch 98/200\n",
      "225/225 - 0s - loss: 0.0744 - accuracy: 0.9714 - val_loss: 1.0528 - val_accuracy: 0.8050 - 489ms/epoch - 2ms/step\n",
      "Epoch 99/200\n",
      "225/225 - 0s - loss: 0.0693 - accuracy: 0.9714 - val_loss: 1.0170 - val_accuracy: 0.8338 - 482ms/epoch - 2ms/step\n",
      "Epoch 100/200\n",
      "225/225 - 0s - loss: 0.0618 - accuracy: 0.9781 - val_loss: 1.1019 - val_accuracy: 0.8313 - 475ms/epoch - 2ms/step\n",
      "Epoch 101/200\n",
      "225/225 - 0s - loss: 0.0685 - accuracy: 0.9704 - val_loss: 1.0469 - val_accuracy: 0.8238 - 484ms/epoch - 2ms/step\n",
      "Epoch 102/200\n",
      "225/225 - 0s - loss: 0.0750 - accuracy: 0.9708 - val_loss: 1.0859 - val_accuracy: 0.8163 - 493ms/epoch - 2ms/step\n",
      "Epoch 103/200\n",
      "225/225 - 0s - loss: 0.0606 - accuracy: 0.9786 - val_loss: 1.0034 - val_accuracy: 0.8300 - 497ms/epoch - 2ms/step\n",
      "Epoch 104/200\n",
      "225/225 - 0s - loss: 0.0572 - accuracy: 0.9793 - val_loss: 1.0927 - val_accuracy: 0.7900 - 486ms/epoch - 2ms/step\n",
      "Epoch 105/200\n",
      "225/225 - 0s - loss: 0.0720 - accuracy: 0.9719 - val_loss: 1.0494 - val_accuracy: 0.8125 - 487ms/epoch - 2ms/step\n",
      "Epoch 106/200\n",
      "225/225 - 0s - loss: 0.0692 - accuracy: 0.9729 - val_loss: 1.1726 - val_accuracy: 0.8025 - 477ms/epoch - 2ms/step\n",
      "Epoch 107/200\n",
      "225/225 - 0s - loss: 0.0632 - accuracy: 0.9742 - val_loss: 1.0982 - val_accuracy: 0.8175 - 492ms/epoch - 2ms/step\n",
      "Epoch 108/200\n",
      "225/225 - 0s - loss: 0.0511 - accuracy: 0.9842 - val_loss: 1.0811 - val_accuracy: 0.8238 - 487ms/epoch - 2ms/step\n",
      "Epoch 109/200\n",
      "225/225 - 0s - loss: 0.0502 - accuracy: 0.9829 - val_loss: 1.2018 - val_accuracy: 0.8200 - 480ms/epoch - 2ms/step\n",
      "Epoch 110/200\n",
      "225/225 - 0s - loss: 0.0527 - accuracy: 0.9801 - val_loss: 1.1531 - val_accuracy: 0.8300 - 481ms/epoch - 2ms/step\n",
      "Epoch 111/200\n",
      "225/225 - 0s - loss: 0.0549 - accuracy: 0.9814 - val_loss: 1.1754 - val_accuracy: 0.8200 - 490ms/epoch - 2ms/step\n",
      "Epoch 112/200\n",
      "225/225 - 0s - loss: 0.0760 - accuracy: 0.9715 - val_loss: 1.1255 - val_accuracy: 0.8263 - 487ms/epoch - 2ms/step\n",
      "Epoch 113/200\n",
      "225/225 - 1s - loss: 0.0525 - accuracy: 0.9799 - val_loss: 1.1948 - val_accuracy: 0.8450 - 510ms/epoch - 2ms/step\n",
      "Epoch 114/200\n",
      "225/225 - 1s - loss: 0.0438 - accuracy: 0.9854 - val_loss: 1.1698 - val_accuracy: 0.8275 - 514ms/epoch - 2ms/step\n",
      "Epoch 115/200\n",
      "225/225 - 0s - loss: 0.0514 - accuracy: 0.9832 - val_loss: 1.2420 - val_accuracy: 0.8325 - 488ms/epoch - 2ms/step\n",
      "Epoch 116/200\n",
      "225/225 - 0s - loss: 0.0594 - accuracy: 0.9807 - val_loss: 1.2367 - val_accuracy: 0.8213 - 476ms/epoch - 2ms/step\n",
      "Epoch 117/200\n",
      "225/225 - 0s - loss: 0.0650 - accuracy: 0.9731 - val_loss: 1.2494 - val_accuracy: 0.8112 - 479ms/epoch - 2ms/step\n",
      "Epoch 118/200\n",
      "225/225 - 0s - loss: 0.0466 - accuracy: 0.9832 - val_loss: 1.2093 - val_accuracy: 0.8138 - 467ms/epoch - 2ms/step\n",
      "Epoch 119/200\n",
      "225/225 - 1s - loss: 0.0381 - accuracy: 0.9865 - val_loss: 1.2603 - val_accuracy: 0.8250 - 503ms/epoch - 2ms/step\n",
      "Epoch 120/200\n",
      "225/225 - 1s - loss: 0.0502 - accuracy: 0.9812 - val_loss: 1.3044 - val_accuracy: 0.8150 - 507ms/epoch - 2ms/step\n",
      "Epoch 121/200\n",
      "225/225 - 0s - loss: 0.0495 - accuracy: 0.9817 - val_loss: 1.3152 - val_accuracy: 0.8263 - 497ms/epoch - 2ms/step\n",
      "Epoch 122/200\n",
      "225/225 - 0s - loss: 0.0462 - accuracy: 0.9840 - val_loss: 1.2857 - val_accuracy: 0.8338 - 490ms/epoch - 2ms/step\n",
      "Epoch 123/200\n",
      "225/225 - 0s - loss: 0.0570 - accuracy: 0.9789 - val_loss: 1.2953 - val_accuracy: 0.8125 - 499ms/epoch - 2ms/step\n",
      "Epoch 124/200\n",
      "225/225 - 0s - loss: 0.0563 - accuracy: 0.9779 - val_loss: 1.3839 - val_accuracy: 0.8350 - 498ms/epoch - 2ms/step\n",
      "Epoch 125/200\n",
      "225/225 - 1s - loss: 0.0485 - accuracy: 0.9833 - val_loss: 1.2560 - val_accuracy: 0.8213 - 500ms/epoch - 2ms/step\n",
      "Epoch 126/200\n",
      "225/225 - 0s - loss: 0.0429 - accuracy: 0.9849 - val_loss: 1.3523 - val_accuracy: 0.8250 - 479ms/epoch - 2ms/step\n",
      "Epoch 127/200\n",
      "225/225 - 0s - loss: 0.0379 - accuracy: 0.9876 - val_loss: 1.3279 - val_accuracy: 0.8200 - 486ms/epoch - 2ms/step\n",
      "Epoch 128/200\n",
      "225/225 - 1s - loss: 0.0406 - accuracy: 0.9857 - val_loss: 1.3795 - val_accuracy: 0.8300 - 509ms/epoch - 2ms/step\n",
      "Epoch 129/200\n",
      "225/225 - 0s - loss: 0.0579 - accuracy: 0.9807 - val_loss: 1.3361 - val_accuracy: 0.8188 - 492ms/epoch - 2ms/step\n",
      "Epoch 130/200\n",
      "225/225 - 0s - loss: 0.0592 - accuracy: 0.9789 - val_loss: 1.3329 - val_accuracy: 0.8325 - 471ms/epoch - 2ms/step\n",
      "Epoch 131/200\n",
      "225/225 - 0s - loss: 0.0435 - accuracy: 0.9854 - val_loss: 1.3889 - val_accuracy: 0.8062 - 475ms/epoch - 2ms/step\n",
      "Epoch 132/200\n",
      "225/225 - 1s - loss: 0.0428 - accuracy: 0.9833 - val_loss: 1.3870 - val_accuracy: 0.8138 - 528ms/epoch - 2ms/step\n",
      "Epoch 133/200\n",
      "225/225 - 0s - loss: 0.0358 - accuracy: 0.9906 - val_loss: 1.3569 - val_accuracy: 0.8425 - 468ms/epoch - 2ms/step\n",
      "Epoch 134/200\n",
      "225/225 - 0s - loss: 0.0430 - accuracy: 0.9850 - val_loss: 1.3976 - val_accuracy: 0.8263 - 494ms/epoch - 2ms/step\n",
      "Epoch 135/200\n",
      "225/225 - 0s - loss: 0.0492 - accuracy: 0.9814 - val_loss: 1.4148 - val_accuracy: 0.8175 - 468ms/epoch - 2ms/step\n",
      "Epoch 136/200\n",
      "225/225 - 1s - loss: 0.0435 - accuracy: 0.9840 - val_loss: 1.4181 - val_accuracy: 0.8213 - 504ms/epoch - 2ms/step\n",
      "Epoch 137/200\n",
      "225/225 - 1s - loss: 0.0419 - accuracy: 0.9832 - val_loss: 1.3597 - val_accuracy: 0.8275 - 505ms/epoch - 2ms/step\n",
      "Epoch 138/200\n",
      "225/225 - 0s - loss: 0.0398 - accuracy: 0.9857 - val_loss: 1.4347 - val_accuracy: 0.8250 - 480ms/epoch - 2ms/step\n",
      "Epoch 139/200\n",
      "225/225 - 0s - loss: 0.0360 - accuracy: 0.9879 - val_loss: 1.4110 - val_accuracy: 0.8263 - 478ms/epoch - 2ms/step\n",
      "Epoch 140/200\n",
      "225/225 - 0s - loss: 0.0278 - accuracy: 0.9919 - val_loss: 1.4452 - val_accuracy: 0.8225 - 486ms/epoch - 2ms/step\n",
      "Epoch 141/200\n",
      "225/225 - 0s - loss: 0.0410 - accuracy: 0.9851 - val_loss: 1.4116 - val_accuracy: 0.8350 - 478ms/epoch - 2ms/step\n",
      "Epoch 142/200\n",
      "225/225 - 1s - loss: 0.0472 - accuracy: 0.9831 - val_loss: 1.5384 - val_accuracy: 0.8037 - 502ms/epoch - 2ms/step\n",
      "Epoch 143/200\n",
      "225/225 - 0s - loss: 0.1031 - accuracy: 0.9654 - val_loss: 1.5501 - val_accuracy: 0.8100 - 499ms/epoch - 2ms/step\n",
      "Epoch 144/200\n",
      "225/225 - 1s - loss: 0.0534 - accuracy: 0.9821 - val_loss: 1.3810 - val_accuracy: 0.8200 - 515ms/epoch - 2ms/step\n",
      "Epoch 145/200\n",
      "225/225 - 0s - loss: 0.0323 - accuracy: 0.9892 - val_loss: 1.3909 - val_accuracy: 0.8313 - 484ms/epoch - 2ms/step\n",
      "Epoch 146/200\n",
      "225/225 - 0s - loss: 0.0247 - accuracy: 0.9933 - val_loss: 1.4232 - val_accuracy: 0.8300 - 495ms/epoch - 2ms/step\n",
      "Epoch 147/200\n",
      "225/225 - 1s - loss: 0.0185 - accuracy: 0.9953 - val_loss: 1.4686 - val_accuracy: 0.8413 - 587ms/epoch - 3ms/step\n",
      "Epoch 148/200\n",
      "225/225 - 1s - loss: 0.0216 - accuracy: 0.9947 - val_loss: 1.4720 - val_accuracy: 0.8238 - 712ms/epoch - 3ms/step\n",
      "Epoch 149/200\n",
      "225/225 - 1s - loss: 0.0323 - accuracy: 0.9907 - val_loss: 1.5772 - val_accuracy: 0.8300 - 703ms/epoch - 3ms/step\n",
      "Epoch 150/200\n",
      "225/225 - 1s - loss: 0.0558 - accuracy: 0.9792 - val_loss: 1.4701 - val_accuracy: 0.8238 - 699ms/epoch - 3ms/step\n",
      "Epoch 151/200\n",
      "225/225 - 1s - loss: 0.0522 - accuracy: 0.9800 - val_loss: 1.4920 - val_accuracy: 0.8263 - 704ms/epoch - 3ms/step\n",
      "Epoch 152/200\n",
      "225/225 - 1s - loss: 0.0394 - accuracy: 0.9867 - val_loss: 1.5265 - val_accuracy: 0.8350 - 528ms/epoch - 2ms/step\n",
      "Epoch 153/200\n",
      "225/225 - 0s - loss: 0.0420 - accuracy: 0.9847 - val_loss: 1.4531 - val_accuracy: 0.8300 - 471ms/epoch - 2ms/step\n",
      "Epoch 154/200\n",
      "225/225 - 0s - loss: 0.0293 - accuracy: 0.9914 - val_loss: 1.5283 - val_accuracy: 0.8338 - 471ms/epoch - 2ms/step\n",
      "Epoch 155/200\n",
      "225/225 - 0s - loss: 0.0295 - accuracy: 0.9906 - val_loss: 1.5796 - val_accuracy: 0.8263 - 466ms/epoch - 2ms/step\n",
      "Epoch 156/200\n",
      "225/225 - 0s - loss: 0.0219 - accuracy: 0.9933 - val_loss: 1.5890 - val_accuracy: 0.8188 - 489ms/epoch - 2ms/step\n",
      "Epoch 157/200\n",
      "225/225 - 0s - loss: 0.0514 - accuracy: 0.9819 - val_loss: 1.6480 - val_accuracy: 0.8213 - 474ms/epoch - 2ms/step\n",
      "Epoch 158/200\n",
      "225/225 - 0s - loss: 0.0660 - accuracy: 0.9778 - val_loss: 1.5158 - val_accuracy: 0.8325 - 473ms/epoch - 2ms/step\n",
      "Epoch 159/200\n",
      "225/225 - 0s - loss: 0.0301 - accuracy: 0.9910 - val_loss: 1.5006 - val_accuracy: 0.8200 - 487ms/epoch - 2ms/step\n",
      "Epoch 160/200\n",
      "225/225 - 0s - loss: 0.0229 - accuracy: 0.9928 - val_loss: 1.5729 - val_accuracy: 0.8225 - 482ms/epoch - 2ms/step\n",
      "Epoch 161/200\n",
      "225/225 - 0s - loss: 0.0351 - accuracy: 0.9894 - val_loss: 1.5533 - val_accuracy: 0.8175 - 489ms/epoch - 2ms/step\n",
      "Epoch 162/200\n",
      "225/225 - 0s - loss: 0.0469 - accuracy: 0.9828 - val_loss: 1.6011 - val_accuracy: 0.8213 - 494ms/epoch - 2ms/step\n",
      "Epoch 163/200\n",
      "225/225 - 0s - loss: 0.0465 - accuracy: 0.9840 - val_loss: 1.6689 - val_accuracy: 0.8288 - 483ms/epoch - 2ms/step\n",
      "Epoch 164/200\n",
      "225/225 - 0s - loss: 0.0324 - accuracy: 0.9892 - val_loss: 1.6141 - val_accuracy: 0.8275 - 468ms/epoch - 2ms/step\n",
      "Epoch 165/200\n",
      "225/225 - 0s - loss: 0.0166 - accuracy: 0.9962 - val_loss: 1.6114 - val_accuracy: 0.8225 - 476ms/epoch - 2ms/step\n",
      "Epoch 166/200\n",
      "225/225 - 0s - loss: 0.0138 - accuracy: 0.9962 - val_loss: 1.6651 - val_accuracy: 0.8250 - 496ms/epoch - 2ms/step\n",
      "Epoch 167/200\n",
      "225/225 - 1s - loss: 0.0403 - accuracy: 0.9862 - val_loss: 1.7171 - val_accuracy: 0.8225 - 513ms/epoch - 2ms/step\n",
      "Epoch 168/200\n",
      "225/225 - 0s - loss: 0.0633 - accuracy: 0.9785 - val_loss: 1.6188 - val_accuracy: 0.8250 - 497ms/epoch - 2ms/step\n",
      "Epoch 169/200\n",
      "225/225 - 1s - loss: 0.0459 - accuracy: 0.9849 - val_loss: 1.5403 - val_accuracy: 0.8338 - 523ms/epoch - 2ms/step\n",
      "Epoch 170/200\n",
      "225/225 - 0s - loss: 0.0350 - accuracy: 0.9874 - val_loss: 1.6369 - val_accuracy: 0.8100 - 483ms/epoch - 2ms/step\n",
      "Epoch 171/200\n",
      "225/225 - 1s - loss: 0.0341 - accuracy: 0.9875 - val_loss: 1.6032 - val_accuracy: 0.8225 - 516ms/epoch - 2ms/step\n",
      "Epoch 172/200\n",
      "225/225 - 1s - loss: 0.0179 - accuracy: 0.9944 - val_loss: 1.5877 - val_accuracy: 0.8213 - 509ms/epoch - 2ms/step\n",
      "Epoch 173/200\n",
      "225/225 - 1s - loss: 0.0135 - accuracy: 0.9971 - val_loss: 1.5718 - val_accuracy: 0.8238 - 515ms/epoch - 2ms/step\n",
      "Epoch 174/200\n",
      "225/225 - 0s - loss: 0.0123 - accuracy: 0.9979 - val_loss: 1.6179 - val_accuracy: 0.8250 - 472ms/epoch - 2ms/step\n",
      "Epoch 175/200\n",
      "225/225 - 0s - loss: 0.0232 - accuracy: 0.9946 - val_loss: 1.6706 - val_accuracy: 0.8313 - 487ms/epoch - 2ms/step\n",
      "Epoch 176/200\n",
      "225/225 - 0s - loss: 0.0348 - accuracy: 0.9893 - val_loss: 1.8131 - val_accuracy: 0.8112 - 500ms/epoch - 2ms/step\n",
      "Epoch 177/200\n",
      "225/225 - 0s - loss: 0.0972 - accuracy: 0.9671 - val_loss: 1.7356 - val_accuracy: 0.7987 - 491ms/epoch - 2ms/step\n",
      "Epoch 178/200\n",
      "225/225 - 1s - loss: 0.0500 - accuracy: 0.9826 - val_loss: 1.6225 - val_accuracy: 0.8200 - 507ms/epoch - 2ms/step\n",
      "Epoch 179/200\n",
      "225/225 - 1s - loss: 0.0214 - accuracy: 0.9946 - val_loss: 1.7145 - val_accuracy: 0.8338 - 501ms/epoch - 2ms/step\n",
      "Epoch 180/200\n",
      "225/225 - 0s - loss: 0.0168 - accuracy: 0.9956 - val_loss: 1.7102 - val_accuracy: 0.8313 - 489ms/epoch - 2ms/step\n",
      "Epoch 181/200\n",
      "225/225 - 0s - loss: 0.0156 - accuracy: 0.9962 - val_loss: 1.7356 - val_accuracy: 0.8250 - 485ms/epoch - 2ms/step\n",
      "Epoch 182/200\n",
      "225/225 - 1s - loss: 0.0155 - accuracy: 0.9951 - val_loss: 1.7665 - val_accuracy: 0.8112 - 502ms/epoch - 2ms/step\n",
      "Epoch 183/200\n",
      "225/225 - 1s - loss: 0.0302 - accuracy: 0.9911 - val_loss: 1.6345 - val_accuracy: 0.8313 - 501ms/epoch - 2ms/step\n",
      "Epoch 184/200\n",
      "225/225 - 0s - loss: 0.0533 - accuracy: 0.9833 - val_loss: 1.6788 - val_accuracy: 0.8125 - 469ms/epoch - 2ms/step\n",
      "Epoch 185/200\n",
      "225/225 - 1s - loss: 0.0362 - accuracy: 0.9872 - val_loss: 1.7020 - val_accuracy: 0.8325 - 503ms/epoch - 2ms/step\n",
      "Epoch 186/200\n",
      "225/225 - 0s - loss: 0.0286 - accuracy: 0.9901 - val_loss: 1.6966 - val_accuracy: 0.8075 - 476ms/epoch - 2ms/step\n",
      "Epoch 187/200\n",
      "225/225 - 0s - loss: 0.0265 - accuracy: 0.9901 - val_loss: 1.7189 - val_accuracy: 0.8388 - 491ms/epoch - 2ms/step\n",
      "Epoch 188/200\n",
      "225/225 - 0s - loss: 0.0477 - accuracy: 0.9844 - val_loss: 1.7301 - val_accuracy: 0.8225 - 493ms/epoch - 2ms/step\n",
      "Epoch 189/200\n",
      "225/225 - 0s - loss: 0.0278 - accuracy: 0.9906 - val_loss: 1.6844 - val_accuracy: 0.8150 - 482ms/epoch - 2ms/step\n",
      "Epoch 190/200\n",
      "225/225 - 0s - loss: 0.0288 - accuracy: 0.9894 - val_loss: 1.6918 - val_accuracy: 0.8313 - 473ms/epoch - 2ms/step\n",
      "Epoch 191/200\n",
      "225/225 - 1s - loss: 0.0153 - accuracy: 0.9964 - val_loss: 1.7172 - val_accuracy: 0.8325 - 500ms/epoch - 2ms/step\n",
      "Epoch 192/200\n",
      "225/225 - 0s - loss: 0.0280 - accuracy: 0.9904 - val_loss: 1.7566 - val_accuracy: 0.8225 - 472ms/epoch - 2ms/step\n",
      "Epoch 193/200\n",
      "225/225 - 0s - loss: 0.0373 - accuracy: 0.9868 - val_loss: 1.6935 - val_accuracy: 0.8150 - 481ms/epoch - 2ms/step\n",
      "Epoch 194/200\n",
      "225/225 - 0s - loss: 0.0245 - accuracy: 0.9921 - val_loss: 1.7754 - val_accuracy: 0.8275 - 488ms/epoch - 2ms/step\n",
      "Epoch 195/200\n",
      "225/225 - 1s - loss: 0.0496 - accuracy: 0.9833 - val_loss: 1.6904 - val_accuracy: 0.8163 - 513ms/epoch - 2ms/step\n",
      "Epoch 196/200\n",
      "225/225 - 1s - loss: 0.0369 - accuracy: 0.9865 - val_loss: 1.6504 - val_accuracy: 0.8100 - 501ms/epoch - 2ms/step\n",
      "Epoch 197/200\n",
      "225/225 - 1s - loss: 0.0223 - accuracy: 0.9919 - val_loss: 1.7442 - val_accuracy: 0.8200 - 509ms/epoch - 2ms/step\n",
      "Epoch 198/200\n",
      "225/225 - 0s - loss: 0.0181 - accuracy: 0.9940 - val_loss: 1.7434 - val_accuracy: 0.8238 - 478ms/epoch - 2ms/step\n",
      "Epoch 199/200\n",
      "225/225 - 0s - loss: 0.0236 - accuracy: 0.9933 - val_loss: 1.7401 - val_accuracy: 0.8250 - 498ms/epoch - 2ms/step\n",
      "Epoch 200/200\n",
      "225/225 - 0s - loss: 0.0155 - accuracy: 0.9960 - val_loss: 1.7903 - val_accuracy: 0.8275 - 483ms/epoch - 2ms/step\n"
     ]
    }
   ],
   "source": [
    "history_3 = model_3.fit(X_train, \n",
    "                    y_train, \n",
    "                    validation_split=0.1, \n",
    "                    epochs=200,\n",
    "                    verbose=2)"
   ]
  },
  {
   "cell_type": "code",
   "execution_count": 94,
   "metadata": {
    "colab": {
     "base_uri": "https://localhost:8080/",
     "height": 295
    },
    "id": "zBvMtn6VzFDJ",
    "outputId": "5ba00c10-7fb4-43ef-8eba-0a993fdfb5a1"
   },
   "outputs": [
    {
     "data": {
      "image/png": "[encoded data removed]",
      "text/plain": [
       "<Figure size 432x288 with 1 Axes>"
      ]
     },
     "metadata": {
      "needs_background": "light"
     },
     "output_type": "display_data"
    }
   ],
   "source": [
    "plt.plot(history_3.history['accuracy'])\n",
    "plt.plot(history_3.history['val_accuracy'])\n",
    "plt.title('Accuracy vs Epochs')\n",
    "plt.ylabel('Accuracy')\n",
    "plt.xlabel('Epoch')\n",
    "plt.legend(['Train', 'Validation'], loc='lower right')\n",
    "plt.show()"
   ]
  },
  {
   "cell_type": "markdown",
   "metadata": {
    "id": "-xfRck7yrbX5"
   },
   "source": [
    "**Observations:**\n",
    "\n",
    "- There is huge gap between training and Accuracy and model is becoming complex and overfitting.\n",
    "-  We will use\n",
    " Model -1 to predict the test data."
   ]
  },
  {
   "cell_type": "markdown",
   "metadata": {
    "id": "iSpvgJ_ZPP0f"
   },
   "source": [
    "### **Model evaluation on the test data**"
   ]
  },
  {
   "cell_type": "code",
   "execution_count": 95,
   "metadata": {
    "colab": {
     "base_uri": "https://localhost:8080/"
    },
    "id": "VNs-4a67SXNT",
    "outputId": "632f8a2f-49f2-454d-fa38-172d02e1effb"
   },
   "outputs": [
    {
     "name": "stdout",
     "output_type": "stream",
     "text": [
      "63/63 [==============================] - 0s 2ms/step - loss: 1.6538 - accuracy: 0.8300\n",
      "63/63 [==============================] - 0s 1ms/step\n"
     ]
    }
   ],
   "source": [
    "model_3.evaluate(X_test, y_test, verbose = 1)\n",
    "test_pred = np.round(model_3.predict(X_test))"
   ]
  },
  {
   "cell_type": "markdown",
   "metadata": {
    "id": "RldGhjVdxHCx"
   },
   "source": [
    "The test accuracy is coming out to be 83% which implies that our model is able to replicate the performance from the train and validation data on the test data."
   ]
  },
  {
   "cell_type": "code",
   "execution_count": 97,
   "metadata": {
    "colab": {
     "base_uri": "https://localhost:8080/",
     "height": 490
    },
    "id": "y5fWdjHHPTZh",
    "outputId": "b1f9be00-4d8d-4967-eeec-83d1a4d419ba"
   },
   "outputs": [
    {
     "name": "stdout",
     "output_type": "stream",
     "text": [
      "              precision    recall  f1-score   support\n",
      "\n",
      "           0       0.89      0.90      0.89      1607\n",
      "           1       0.57      0.54      0.56       393\n",
      "\n",
      "    accuracy                           0.83      2000\n",
      "   macro avg       0.73      0.72      0.73      2000\n",
      "weighted avg       0.83      0.83      0.83      2000\n",
      "\n"
     ]
    },
    {
     "data": {
      "image/png": "[encoded data removed]",
      "text/plain": [
       "<Figure size 576x360 with 2 Axes>"
      ]
     },
     "metadata": {
      "needs_background": "light"
     },
     "output_type": "display_data"
    }
   ],
   "source": [
    "from sklearn.metrics import classification_report\n",
    "from sklearn.metrics import confusion_matrix\n",
    "\n",
    "print(classification_report(y_test, test_pred))\n",
    "cm = confusion_matrix(y_test, test_pred)\n",
    "plt.figure(figsize=(8,5))\n",
    "sns.heatmap(cm, annot=True,  fmt='.0f',xticklabels=['Not Exited', 'Exited'], yticklabels=['Not Exited', 'Exited'])\n",
    "plt.ylabel('Actual')\n",
    "plt.xlabel('Predicted')\n",
    "plt.show()"
   ]
  },
  {
   "cell_type": "markdown",
   "metadata": {
    "id": "uk_tuE7LxGC3"
   },
   "source": [
    "**Observations:**\n",
    "\n",
    "- The confusion matrix shows that the model can identify the majority of customers who left the bank and who didn't left the bank .\n",
    "- The classification report shows f1 score for class 1 are above 80%, which is good."
   ]
  },
  {
   "cell_type": "markdown",
   "metadata": {
    "id": "1bVzop-DYYmv"
   },
   "source": [
    "## **Conclusion:**"
   ]
  },
  {
   "cell_type": "markdown",
   "metadata": {
    "id": "PiMgKE2xYbCW"
   },
   "source": [
    "In this case study, \n",
    "- Using Tensorflow and Keras with built  feed forward neural network to predict customers churn from bank. \n",
    "- We tried different Hyper parameters and how they affect the network. \n",
    "- We ploted the accuracy vs. epoch curve and shown how models performed.\n",
    "- We were able to get the test accuracy of 83% using the final model.\n"
   ]
  }
 ],
 "metadata": {
  "accelerator": "GPU",
  "colab": {
   "collapsed_sections": [],
   "provenance": []
  },
  "kernelspec": {
   "display_name": "Python 3 (ipykernel)",
   "language": "python",
   "name": "python3"
  },
  "language_info": {
   "codemirror_mode": {
    "name": "ipython",
    "version": 3
   },
   "file_extension": ".py",
   "mimetype": "text/x-python",
   "name": "python",
   "nbconvert_exporter": "python",
   "pygments_lexer": "ipython3",
   "version": "3.9.7"
  }
 },
 "nbformat": 4,
 "nbformat_minor": 1
}
